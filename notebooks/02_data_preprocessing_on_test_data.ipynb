{
 "cells": [
  {
   "cell_type": "code",
   "execution_count": 2,
   "metadata": {},
   "outputs": [],
   "source": [
    "import pandas as pd\n",
    "import numpy as np\n",
    "import matplotlib.pyplot as plt\n",
    "import seaborn as sns\n",
    "#i will also Use Microsoft Excel to analyse and have free view of data"
   ]
  },
  {
   "cell_type": "code",
   "execution_count": 3,
   "metadata": {},
   "outputs": [],
   "source": [
    "path='C:\\\\Users\\\\amanc\\\\Desktop\\\\python new project\\\\Machine Learning\\\\Credit Score Classification\\\\data\\\\test.csv'\n",
    "# dtype={'Age':'int64',\n",
    "#        'Annual_Income':'float64', 'Monthly_Inhand_Salary':'float64', 'Num_Bank_Accounts':'int64',\n",
    "#        'Num_Credit_Card':'int64', 'Interest_Rate':'float64', 'Num_of_Loan':'int64',\n",
    "#        'Delay_from_due_date':'int64', 'Num_of_Delayed_Payment':'int64', 'Changed_Credit_Limit':'float64',\n",
    "#        'Num_Credit_Inquiries':'int64', 'Outstanding_Debt':'float64',\n",
    "#        'Credit_Utilization_Ratio':'float64',\n",
    "#        'Payment_of_Min_Amount':'category', 'Total_EMI_per_month':'float64',\n",
    "#        'Amount_invested_monthly':'float64', 'Monthly_Balance':'float64'\n",
    "#        }\n",
    "data=pd.read_csv(path, low_memory=False)\n"
   ]
  },
  {
   "cell_type": "code",
   "execution_count": 4,
   "metadata": {},
   "outputs": [
    {
     "data": {
      "text/html": [
       "<div>\n",
       "<style scoped>\n",
       "    .dataframe tbody tr th:only-of-type {\n",
       "        vertical-align: middle;\n",
       "    }\n",
       "\n",
       "    .dataframe tbody tr th {\n",
       "        vertical-align: top;\n",
       "    }\n",
       "\n",
       "    .dataframe thead th {\n",
       "        text-align: right;\n",
       "    }\n",
       "</style>\n",
       "<table border=\"1\" class=\"dataframe\">\n",
       "  <thead>\n",
       "    <tr style=\"text-align: right;\">\n",
       "      <th></th>\n",
       "      <th>ID</th>\n",
       "      <th>Customer_ID</th>\n",
       "      <th>Month</th>\n",
       "      <th>Name</th>\n",
       "      <th>Age</th>\n",
       "      <th>SSN</th>\n",
       "      <th>Occupation</th>\n",
       "      <th>Annual_Income</th>\n",
       "      <th>Monthly_Inhand_Salary</th>\n",
       "      <th>Num_Bank_Accounts</th>\n",
       "      <th>...</th>\n",
       "      <th>Num_Credit_Inquiries</th>\n",
       "      <th>Credit_Mix</th>\n",
       "      <th>Outstanding_Debt</th>\n",
       "      <th>Credit_Utilization_Ratio</th>\n",
       "      <th>Credit_History_Age</th>\n",
       "      <th>Payment_of_Min_Amount</th>\n",
       "      <th>Total_EMI_per_month</th>\n",
       "      <th>Amount_invested_monthly</th>\n",
       "      <th>Payment_Behaviour</th>\n",
       "      <th>Monthly_Balance</th>\n",
       "    </tr>\n",
       "  </thead>\n",
       "  <tbody>\n",
       "    <tr>\n",
       "      <th>0</th>\n",
       "      <td>0x160a</td>\n",
       "      <td>CUS_0xd40</td>\n",
       "      <td>September</td>\n",
       "      <td>Aaron Maashoh</td>\n",
       "      <td>23</td>\n",
       "      <td>821-00-0265</td>\n",
       "      <td>Scientist</td>\n",
       "      <td>19114.12</td>\n",
       "      <td>1824.843333</td>\n",
       "      <td>3</td>\n",
       "      <td>...</td>\n",
       "      <td>2022.0</td>\n",
       "      <td>Good</td>\n",
       "      <td>809.98</td>\n",
       "      <td>35.030402</td>\n",
       "      <td>22 Years and 9 Months</td>\n",
       "      <td>No</td>\n",
       "      <td>49.574949</td>\n",
       "      <td>236.64268203272135</td>\n",
       "      <td>Low_spent_Small_value_payments</td>\n",
       "      <td>186.26670208571772</td>\n",
       "    </tr>\n",
       "    <tr>\n",
       "      <th>1</th>\n",
       "      <td>0x160b</td>\n",
       "      <td>CUS_0xd40</td>\n",
       "      <td>October</td>\n",
       "      <td>Aaron Maashoh</td>\n",
       "      <td>24</td>\n",
       "      <td>821-00-0265</td>\n",
       "      <td>Scientist</td>\n",
       "      <td>19114.12</td>\n",
       "      <td>1824.843333</td>\n",
       "      <td>3</td>\n",
       "      <td>...</td>\n",
       "      <td>4.0</td>\n",
       "      <td>Good</td>\n",
       "      <td>809.98</td>\n",
       "      <td>33.053114</td>\n",
       "      <td>22 Years and 10 Months</td>\n",
       "      <td>No</td>\n",
       "      <td>49.574949</td>\n",
       "      <td>21.465380264657146</td>\n",
       "      <td>High_spent_Medium_value_payments</td>\n",
       "      <td>361.44400385378196</td>\n",
       "    </tr>\n",
       "    <tr>\n",
       "      <th>2</th>\n",
       "      <td>0x160c</td>\n",
       "      <td>CUS_0xd40</td>\n",
       "      <td>November</td>\n",
       "      <td>Aaron Maashoh</td>\n",
       "      <td>24</td>\n",
       "      <td>821-00-0265</td>\n",
       "      <td>Scientist</td>\n",
       "      <td>19114.12</td>\n",
       "      <td>1824.843333</td>\n",
       "      <td>3</td>\n",
       "      <td>...</td>\n",
       "      <td>4.0</td>\n",
       "      <td>Good</td>\n",
       "      <td>809.98</td>\n",
       "      <td>33.811894</td>\n",
       "      <td>NaN</td>\n",
       "      <td>No</td>\n",
       "      <td>49.574949</td>\n",
       "      <td>148.23393788500925</td>\n",
       "      <td>Low_spent_Medium_value_payments</td>\n",
       "      <td>264.67544623342997</td>\n",
       "    </tr>\n",
       "    <tr>\n",
       "      <th>3</th>\n",
       "      <td>0x160d</td>\n",
       "      <td>CUS_0xd40</td>\n",
       "      <td>December</td>\n",
       "      <td>Aaron Maashoh</td>\n",
       "      <td>24_</td>\n",
       "      <td>821-00-0265</td>\n",
       "      <td>Scientist</td>\n",
       "      <td>19114.12</td>\n",
       "      <td>NaN</td>\n",
       "      <td>3</td>\n",
       "      <td>...</td>\n",
       "      <td>4.0</td>\n",
       "      <td>Good</td>\n",
       "      <td>809.98</td>\n",
       "      <td>32.430559</td>\n",
       "      <td>23 Years and 0 Months</td>\n",
       "      <td>No</td>\n",
       "      <td>49.574949</td>\n",
       "      <td>39.08251089460281</td>\n",
       "      <td>High_spent_Medium_value_payments</td>\n",
       "      <td>343.82687322383634</td>\n",
       "    </tr>\n",
       "    <tr>\n",
       "      <th>4</th>\n",
       "      <td>0x1616</td>\n",
       "      <td>CUS_0x21b1</td>\n",
       "      <td>September</td>\n",
       "      <td>Rick Rothackerj</td>\n",
       "      <td>28</td>\n",
       "      <td>004-07-5839</td>\n",
       "      <td>_______</td>\n",
       "      <td>34847.84</td>\n",
       "      <td>3037.986667</td>\n",
       "      <td>2</td>\n",
       "      <td>...</td>\n",
       "      <td>5.0</td>\n",
       "      <td>Good</td>\n",
       "      <td>605.03</td>\n",
       "      <td>25.926822</td>\n",
       "      <td>27 Years and 3 Months</td>\n",
       "      <td>No</td>\n",
       "      <td>18.816215</td>\n",
       "      <td>39.684018417945296</td>\n",
       "      <td>High_spent_Large_value_payments</td>\n",
       "      <td>485.2984336755923</td>\n",
       "    </tr>\n",
       "  </tbody>\n",
       "</table>\n",
       "<p>5 rows × 27 columns</p>\n",
       "</div>"
      ],
      "text/plain": [
       "       ID Customer_ID      Month             Name  Age          SSN  \\\n",
       "0  0x160a   CUS_0xd40  September    Aaron Maashoh   23  821-00-0265   \n",
       "1  0x160b   CUS_0xd40    October    Aaron Maashoh   24  821-00-0265   \n",
       "2  0x160c   CUS_0xd40   November    Aaron Maashoh   24  821-00-0265   \n",
       "3  0x160d   CUS_0xd40   December    Aaron Maashoh  24_  821-00-0265   \n",
       "4  0x1616  CUS_0x21b1  September  Rick Rothackerj   28  004-07-5839   \n",
       "\n",
       "  Occupation Annual_Income  Monthly_Inhand_Salary  Num_Bank_Accounts  ...  \\\n",
       "0  Scientist      19114.12            1824.843333                  3  ...   \n",
       "1  Scientist      19114.12            1824.843333                  3  ...   \n",
       "2  Scientist      19114.12            1824.843333                  3  ...   \n",
       "3  Scientist      19114.12                    NaN                  3  ...   \n",
       "4    _______      34847.84            3037.986667                  2  ...   \n",
       "\n",
       "   Num_Credit_Inquiries  Credit_Mix Outstanding_Debt Credit_Utilization_Ratio  \\\n",
       "0                2022.0        Good           809.98                35.030402   \n",
       "1                   4.0        Good           809.98                33.053114   \n",
       "2                   4.0        Good           809.98                33.811894   \n",
       "3                   4.0        Good           809.98                32.430559   \n",
       "4                   5.0        Good           605.03                25.926822   \n",
       "\n",
       "       Credit_History_Age Payment_of_Min_Amount Total_EMI_per_month  \\\n",
       "0   22 Years and 9 Months                    No           49.574949   \n",
       "1  22 Years and 10 Months                    No           49.574949   \n",
       "2                     NaN                    No           49.574949   \n",
       "3   23 Years and 0 Months                    No           49.574949   \n",
       "4   27 Years and 3 Months                    No           18.816215   \n",
       "\n",
       "   Amount_invested_monthly                 Payment_Behaviour  \\\n",
       "0       236.64268203272135    Low_spent_Small_value_payments   \n",
       "1       21.465380264657146  High_spent_Medium_value_payments   \n",
       "2       148.23393788500925   Low_spent_Medium_value_payments   \n",
       "3        39.08251089460281  High_spent_Medium_value_payments   \n",
       "4       39.684018417945296   High_spent_Large_value_payments   \n",
       "\n",
       "      Monthly_Balance  \n",
       "0  186.26670208571772  \n",
       "1  361.44400385378196  \n",
       "2  264.67544623342997  \n",
       "3  343.82687322383634  \n",
       "4   485.2984336755923  \n",
       "\n",
       "[5 rows x 27 columns]"
      ]
     },
     "execution_count": 4,
     "metadata": {},
     "output_type": "execute_result"
    }
   ],
   "source": [
    "data.head(5)"
   ]
  },
  {
   "cell_type": "code",
   "execution_count": 5,
   "metadata": {},
   "outputs": [
    {
     "data": {
      "text/plain": [
       "(50000, 27)"
      ]
     },
     "execution_count": 5,
     "metadata": {},
     "output_type": "execute_result"
    }
   ],
   "source": [
    "data.shape"
   ]
  },
  {
   "cell_type": "code",
   "execution_count": 6,
   "metadata": {},
   "outputs": [
    {
     "name": "stdout",
     "output_type": "stream",
     "text": [
      "<class 'pandas.core.frame.DataFrame'>\n",
      "RangeIndex: 50000 entries, 0 to 49999\n",
      "Data columns (total 27 columns):\n",
      " #   Column                    Non-Null Count  Dtype  \n",
      "---  ------                    --------------  -----  \n",
      " 0   ID                        50000 non-null  object \n",
      " 1   Customer_ID               50000 non-null  object \n",
      " 2   Month                     50000 non-null  object \n",
      " 3   Name                      44985 non-null  object \n",
      " 4   Age                       50000 non-null  object \n",
      " 5   SSN                       50000 non-null  object \n",
      " 6   Occupation                50000 non-null  object \n",
      " 7   Annual_Income             50000 non-null  object \n",
      " 8   Monthly_Inhand_Salary     42502 non-null  float64\n",
      " 9   Num_Bank_Accounts         50000 non-null  int64  \n",
      " 10  Num_Credit_Card           50000 non-null  int64  \n",
      " 11  Interest_Rate             50000 non-null  int64  \n",
      " 12  Num_of_Loan               50000 non-null  object \n",
      " 13  Type_of_Loan              44296 non-null  object \n",
      " 14  Delay_from_due_date       50000 non-null  int64  \n",
      " 15  Num_of_Delayed_Payment    46502 non-null  object \n",
      " 16  Changed_Credit_Limit      50000 non-null  object \n",
      " 17  Num_Credit_Inquiries      48965 non-null  float64\n",
      " 18  Credit_Mix                50000 non-null  object \n",
      " 19  Outstanding_Debt          50000 non-null  object \n",
      " 20  Credit_Utilization_Ratio  50000 non-null  float64\n",
      " 21  Credit_History_Age        45530 non-null  object \n",
      " 22  Payment_of_Min_Amount     50000 non-null  object \n",
      " 23  Total_EMI_per_month       50000 non-null  float64\n",
      " 24  Amount_invested_monthly   47729 non-null  object \n",
      " 25  Payment_Behaviour         50000 non-null  object \n",
      " 26  Monthly_Balance           49438 non-null  object \n",
      "dtypes: float64(4), int64(4), object(19)\n",
      "memory usage: 10.3+ MB\n"
     ]
    }
   ],
   "source": [
    "data.info()"
   ]
  },
  {
   "cell_type": "code",
   "execution_count": 7,
   "metadata": {},
   "outputs": [
    {
     "data": {
      "text/plain": [
       "ID                             0\n",
       "Customer_ID                    0\n",
       "Month                          0\n",
       "Name                        5015\n",
       "Age                            0\n",
       "SSN                            0\n",
       "Occupation                     0\n",
       "Annual_Income                  0\n",
       "Monthly_Inhand_Salary       7498\n",
       "Num_Bank_Accounts              0\n",
       "Num_Credit_Card                0\n",
       "Interest_Rate                  0\n",
       "Num_of_Loan                    0\n",
       "Type_of_Loan                5704\n",
       "Delay_from_due_date            0\n",
       "Num_of_Delayed_Payment      3498\n",
       "Changed_Credit_Limit           0\n",
       "Num_Credit_Inquiries        1035\n",
       "Credit_Mix                     0\n",
       "Outstanding_Debt               0\n",
       "Credit_Utilization_Ratio       0\n",
       "Credit_History_Age          4470\n",
       "Payment_of_Min_Amount          0\n",
       "Total_EMI_per_month            0\n",
       "Amount_invested_monthly     2271\n",
       "Payment_Behaviour              0\n",
       "Monthly_Balance              562\n",
       "dtype: int64"
      ]
     },
     "execution_count": 7,
     "metadata": {},
     "output_type": "execute_result"
    }
   ],
   "source": [
    "data.isnull().sum()"
   ]
  },
  {
   "cell_type": "code",
   "execution_count": 8,
   "metadata": {},
   "outputs": [
    {
     "data": {
      "text/plain": [
       "ID                          50000\n",
       "Customer_ID                 12500\n",
       "Month                           4\n",
       "Name                        10139\n",
       "Age                           976\n",
       "SSN                         12501\n",
       "Occupation                     16\n",
       "Annual_Income               16121\n",
       "Monthly_Inhand_Salary       12793\n",
       "Num_Bank_Accounts             540\n",
       "Num_Credit_Card               819\n",
       "Interest_Rate                 945\n",
       "Num_of_Loan                   263\n",
       "Type_of_Loan                 6260\n",
       "Delay_from_due_date            73\n",
       "Num_of_Delayed_Payment        443\n",
       "Changed_Credit_Limit         3927\n",
       "Num_Credit_Inquiries          750\n",
       "Credit_Mix                      4\n",
       "Outstanding_Debt            12685\n",
       "Credit_Utilization_Ratio    50000\n",
       "Credit_History_Age            399\n",
       "Payment_of_Min_Amount           3\n",
       "Total_EMI_per_month         13144\n",
       "Amount_invested_monthly     45450\n",
       "Payment_Behaviour               7\n",
       "Monthly_Balance             49433\n",
       "dtype: int64"
      ]
     },
     "execution_count": 8,
     "metadata": {},
     "output_type": "execute_result"
    }
   ],
   "source": [
    "data.nunique()"
   ]
  },
  {
   "cell_type": "code",
   "execution_count": 9,
   "metadata": {},
   "outputs": [
    {
     "data": {
      "text/plain": [
       "37500"
      ]
     },
     "execution_count": 9,
     "metadata": {},
     "output_type": "execute_result"
    }
   ],
   "source": [
    "data['Customer_ID'].duplicated().sum()\n",
    "#shows that one person has multiple data "
   ]
  },
  {
   "cell_type": "code",
   "execution_count": 10,
   "metadata": {},
   "outputs": [
    {
     "data": {
      "text/html": [
       "<div>\n",
       "<style scoped>\n",
       "    .dataframe tbody tr th:only-of-type {\n",
       "        vertical-align: middle;\n",
       "    }\n",
       "\n",
       "    .dataframe tbody tr th {\n",
       "        vertical-align: top;\n",
       "    }\n",
       "\n",
       "    .dataframe thead th {\n",
       "        text-align: right;\n",
       "    }\n",
       "</style>\n",
       "<table border=\"1\" class=\"dataframe\">\n",
       "  <thead>\n",
       "    <tr style=\"text-align: right;\">\n",
       "      <th></th>\n",
       "      <th>Monthly_Inhand_Salary</th>\n",
       "      <th>Num_Bank_Accounts</th>\n",
       "      <th>Num_Credit_Card</th>\n",
       "      <th>Interest_Rate</th>\n",
       "      <th>Delay_from_due_date</th>\n",
       "      <th>Num_Credit_Inquiries</th>\n",
       "      <th>Credit_Utilization_Ratio</th>\n",
       "      <th>Total_EMI_per_month</th>\n",
       "    </tr>\n",
       "  </thead>\n",
       "  <tbody>\n",
       "    <tr>\n",
       "      <th>count</th>\n",
       "      <td>42502.000000</td>\n",
       "      <td>50000.000000</td>\n",
       "      <td>50000.000000</td>\n",
       "      <td>50000.000000</td>\n",
       "      <td>50000.000000</td>\n",
       "      <td>48965.000000</td>\n",
       "      <td>50000.000000</td>\n",
       "      <td>50000.000000</td>\n",
       "    </tr>\n",
       "    <tr>\n",
       "      <th>mean</th>\n",
       "      <td>4182.004291</td>\n",
       "      <td>16.838260</td>\n",
       "      <td>22.921480</td>\n",
       "      <td>68.772640</td>\n",
       "      <td>21.052640</td>\n",
       "      <td>30.080200</td>\n",
       "      <td>32.279581</td>\n",
       "      <td>1491.304305</td>\n",
       "    </tr>\n",
       "    <tr>\n",
       "      <th>std</th>\n",
       "      <td>3174.109304</td>\n",
       "      <td>116.396848</td>\n",
       "      <td>129.314804</td>\n",
       "      <td>451.602363</td>\n",
       "      <td>14.860397</td>\n",
       "      <td>196.984121</td>\n",
       "      <td>5.106238</td>\n",
       "      <td>8595.647887</td>\n",
       "    </tr>\n",
       "    <tr>\n",
       "      <th>min</th>\n",
       "      <td>303.645417</td>\n",
       "      <td>-1.000000</td>\n",
       "      <td>0.000000</td>\n",
       "      <td>1.000000</td>\n",
       "      <td>-5.000000</td>\n",
       "      <td>0.000000</td>\n",
       "      <td>20.509652</td>\n",
       "      <td>0.000000</td>\n",
       "    </tr>\n",
       "    <tr>\n",
       "      <th>25%</th>\n",
       "      <td>1625.188333</td>\n",
       "      <td>3.000000</td>\n",
       "      <td>4.000000</td>\n",
       "      <td>8.000000</td>\n",
       "      <td>10.000000</td>\n",
       "      <td>4.000000</td>\n",
       "      <td>28.061040</td>\n",
       "      <td>32.222388</td>\n",
       "    </tr>\n",
       "    <tr>\n",
       "      <th>50%</th>\n",
       "      <td>3086.305000</td>\n",
       "      <td>6.000000</td>\n",
       "      <td>5.000000</td>\n",
       "      <td>13.000000</td>\n",
       "      <td>18.000000</td>\n",
       "      <td>7.000000</td>\n",
       "      <td>32.280390</td>\n",
       "      <td>74.733349</td>\n",
       "    </tr>\n",
       "    <tr>\n",
       "      <th>75%</th>\n",
       "      <td>5934.189094</td>\n",
       "      <td>7.000000</td>\n",
       "      <td>7.000000</td>\n",
       "      <td>20.000000</td>\n",
       "      <td>28.000000</td>\n",
       "      <td>10.000000</td>\n",
       "      <td>36.468591</td>\n",
       "      <td>176.157491</td>\n",
       "    </tr>\n",
       "    <tr>\n",
       "      <th>max</th>\n",
       "      <td>15204.633333</td>\n",
       "      <td>1798.000000</td>\n",
       "      <td>1499.000000</td>\n",
       "      <td>5799.000000</td>\n",
       "      <td>67.000000</td>\n",
       "      <td>2593.000000</td>\n",
       "      <td>48.540663</td>\n",
       "      <td>82398.000000</td>\n",
       "    </tr>\n",
       "  </tbody>\n",
       "</table>\n",
       "</div>"
      ],
      "text/plain": [
       "       Monthly_Inhand_Salary  Num_Bank_Accounts  Num_Credit_Card  \\\n",
       "count           42502.000000       50000.000000     50000.000000   \n",
       "mean             4182.004291          16.838260        22.921480   \n",
       "std              3174.109304         116.396848       129.314804   \n",
       "min               303.645417          -1.000000         0.000000   \n",
       "25%              1625.188333           3.000000         4.000000   \n",
       "50%              3086.305000           6.000000         5.000000   \n",
       "75%              5934.189094           7.000000         7.000000   \n",
       "max             15204.633333        1798.000000      1499.000000   \n",
       "\n",
       "       Interest_Rate  Delay_from_due_date  Num_Credit_Inquiries  \\\n",
       "count   50000.000000         50000.000000          48965.000000   \n",
       "mean       68.772640            21.052640             30.080200   \n",
       "std       451.602363            14.860397            196.984121   \n",
       "min         1.000000            -5.000000              0.000000   \n",
       "25%         8.000000            10.000000              4.000000   \n",
       "50%        13.000000            18.000000              7.000000   \n",
       "75%        20.000000            28.000000             10.000000   \n",
       "max      5799.000000            67.000000           2593.000000   \n",
       "\n",
       "       Credit_Utilization_Ratio  Total_EMI_per_month  \n",
       "count              50000.000000         50000.000000  \n",
       "mean                  32.279581          1491.304305  \n",
       "std                    5.106238          8595.647887  \n",
       "min                   20.509652             0.000000  \n",
       "25%                   28.061040            32.222388  \n",
       "50%                   32.280390            74.733349  \n",
       "75%                   36.468591           176.157491  \n",
       "max                   48.540663         82398.000000  "
      ]
     },
     "execution_count": 10,
     "metadata": {},
     "output_type": "execute_result"
    }
   ],
   "source": [
    "data.describe()"
   ]
  },
  {
   "cell_type": "code",
   "execution_count": 11,
   "metadata": {},
   "outputs": [
    {
     "data": {
      "text/html": [
       "<div>\n",
       "<style scoped>\n",
       "    .dataframe tbody tr th:only-of-type {\n",
       "        vertical-align: middle;\n",
       "    }\n",
       "\n",
       "    .dataframe tbody tr th {\n",
       "        vertical-align: top;\n",
       "    }\n",
       "\n",
       "    .dataframe thead th {\n",
       "        text-align: right;\n",
       "    }\n",
       "</style>\n",
       "<table border=\"1\" class=\"dataframe\">\n",
       "  <thead>\n",
       "    <tr style=\"text-align: right;\">\n",
       "      <th></th>\n",
       "      <th>ID</th>\n",
       "      <th>Customer_ID</th>\n",
       "      <th>Month</th>\n",
       "      <th>Name</th>\n",
       "      <th>Age</th>\n",
       "      <th>SSN</th>\n",
       "      <th>Occupation</th>\n",
       "      <th>Annual_Income</th>\n",
       "      <th>Monthly_Inhand_Salary</th>\n",
       "      <th>Num_Bank_Accounts</th>\n",
       "      <th>...</th>\n",
       "      <th>Num_Credit_Inquiries</th>\n",
       "      <th>Credit_Mix</th>\n",
       "      <th>Outstanding_Debt</th>\n",
       "      <th>Credit_Utilization_Ratio</th>\n",
       "      <th>Credit_History_Age</th>\n",
       "      <th>Payment_of_Min_Amount</th>\n",
       "      <th>Total_EMI_per_month</th>\n",
       "      <th>Amount_invested_monthly</th>\n",
       "      <th>Payment_Behaviour</th>\n",
       "      <th>Monthly_Balance</th>\n",
       "    </tr>\n",
       "  </thead>\n",
       "  <tbody>\n",
       "    <tr>\n",
       "      <th>49995</th>\n",
       "      <td>0x25fe5</td>\n",
       "      <td>CUS_0x8600</td>\n",
       "      <td>December</td>\n",
       "      <td>Sarah McBridec</td>\n",
       "      <td>4975</td>\n",
       "      <td>031-35-0942</td>\n",
       "      <td>Architect</td>\n",
       "      <td>20002.88</td>\n",
       "      <td>1929.906667</td>\n",
       "      <td>10</td>\n",
       "      <td>...</td>\n",
       "      <td>12.0</td>\n",
       "      <td>_</td>\n",
       "      <td>3571.7</td>\n",
       "      <td>34.780553</td>\n",
       "      <td>NaN</td>\n",
       "      <td>Yes</td>\n",
       "      <td>60.964772</td>\n",
       "      <td>146.48632477751087</td>\n",
       "      <td>Low_spent_Small_value_payments</td>\n",
       "      <td>275.53956951573343</td>\n",
       "    </tr>\n",
       "    <tr>\n",
       "      <th>49996</th>\n",
       "      <td>0x25fee</td>\n",
       "      <td>CUS_0x942c</td>\n",
       "      <td>September</td>\n",
       "      <td>Nicks</td>\n",
       "      <td>25</td>\n",
       "      <td>078-73-5990</td>\n",
       "      <td>Mechanic</td>\n",
       "      <td>39628.99</td>\n",
       "      <td>NaN</td>\n",
       "      <td>4</td>\n",
       "      <td>...</td>\n",
       "      <td>7.0</td>\n",
       "      <td>Good</td>\n",
       "      <td>502.38</td>\n",
       "      <td>27.758522</td>\n",
       "      <td>31 Years and 11 Months</td>\n",
       "      <td>NM</td>\n",
       "      <td>35.104023</td>\n",
       "      <td>181.44299902757518</td>\n",
       "      <td>Low_spent_Small_value_payments</td>\n",
       "      <td>409.39456169535066</td>\n",
       "    </tr>\n",
       "    <tr>\n",
       "      <th>49997</th>\n",
       "      <td>0x25fef</td>\n",
       "      <td>CUS_0x942c</td>\n",
       "      <td>October</td>\n",
       "      <td>Nicks</td>\n",
       "      <td>25</td>\n",
       "      <td>078-73-5990</td>\n",
       "      <td>Mechanic</td>\n",
       "      <td>39628.99</td>\n",
       "      <td>3359.415833</td>\n",
       "      <td>4</td>\n",
       "      <td>...</td>\n",
       "      <td>7.0</td>\n",
       "      <td>Good</td>\n",
       "      <td>502.38</td>\n",
       "      <td>36.858542</td>\n",
       "      <td>32 Years and 0 Months</td>\n",
       "      <td>No</td>\n",
       "      <td>35.104023</td>\n",
       "      <td>__10000__</td>\n",
       "      <td>Low_spent_Large_value_payments</td>\n",
       "      <td>349.7263321025098</td>\n",
       "    </tr>\n",
       "    <tr>\n",
       "      <th>49998</th>\n",
       "      <td>0x25ff0</td>\n",
       "      <td>CUS_0x942c</td>\n",
       "      <td>November</td>\n",
       "      <td>Nicks</td>\n",
       "      <td>25</td>\n",
       "      <td>078-73-5990</td>\n",
       "      <td>Mechanic</td>\n",
       "      <td>39628.99</td>\n",
       "      <td>NaN</td>\n",
       "      <td>4</td>\n",
       "      <td>...</td>\n",
       "      <td>7.0</td>\n",
       "      <td>Good</td>\n",
       "      <td>502.38</td>\n",
       "      <td>39.139840</td>\n",
       "      <td>32 Years and 1 Months</td>\n",
       "      <td>No</td>\n",
       "      <td>35.104023</td>\n",
       "      <td>97.59857973344877</td>\n",
       "      <td>High_spent_Small_value_payments</td>\n",
       "      <td>463.23898098947717</td>\n",
       "    </tr>\n",
       "    <tr>\n",
       "      <th>49999</th>\n",
       "      <td>0x25ff1</td>\n",
       "      <td>CUS_0x942c</td>\n",
       "      <td>December</td>\n",
       "      <td>Nicks</td>\n",
       "      <td>25</td>\n",
       "      <td>078-73-5990</td>\n",
       "      <td>Mechanic</td>\n",
       "      <td>39628.99</td>\n",
       "      <td>3359.415833</td>\n",
       "      <td>4</td>\n",
       "      <td>...</td>\n",
       "      <td>7.0</td>\n",
       "      <td>_</td>\n",
       "      <td>502.38</td>\n",
       "      <td>34.108530</td>\n",
       "      <td>32 Years and 2 Months</td>\n",
       "      <td>No</td>\n",
       "      <td>35.104023</td>\n",
       "      <td>220.45787812168732</td>\n",
       "      <td>Low_spent_Medium_value_payments</td>\n",
       "      <td>360.37968260123847</td>\n",
       "    </tr>\n",
       "  </tbody>\n",
       "</table>\n",
       "<p>5 rows × 27 columns</p>\n",
       "</div>"
      ],
      "text/plain": [
       "            ID Customer_ID      Month            Name   Age          SSN  \\\n",
       "49995  0x25fe5  CUS_0x8600   December  Sarah McBridec  4975  031-35-0942   \n",
       "49996  0x25fee  CUS_0x942c  September           Nicks    25  078-73-5990   \n",
       "49997  0x25fef  CUS_0x942c    October           Nicks    25  078-73-5990   \n",
       "49998  0x25ff0  CUS_0x942c   November           Nicks    25  078-73-5990   \n",
       "49999  0x25ff1  CUS_0x942c   December           Nicks    25  078-73-5990   \n",
       "\n",
       "      Occupation Annual_Income  Monthly_Inhand_Salary  Num_Bank_Accounts  ...  \\\n",
       "49995  Architect      20002.88            1929.906667                 10  ...   \n",
       "49996   Mechanic      39628.99                    NaN                  4  ...   \n",
       "49997   Mechanic      39628.99            3359.415833                  4  ...   \n",
       "49998   Mechanic      39628.99                    NaN                  4  ...   \n",
       "49999   Mechanic      39628.99            3359.415833                  4  ...   \n",
       "\n",
       "       Num_Credit_Inquiries  Credit_Mix Outstanding_Debt  \\\n",
       "49995                  12.0           _           3571.7   \n",
       "49996                   7.0        Good           502.38   \n",
       "49997                   7.0        Good           502.38   \n",
       "49998                   7.0        Good           502.38   \n",
       "49999                   7.0           _           502.38   \n",
       "\n",
       "      Credit_Utilization_Ratio      Credit_History_Age Payment_of_Min_Amount  \\\n",
       "49995                34.780553                     NaN                   Yes   \n",
       "49996                27.758522  31 Years and 11 Months                    NM   \n",
       "49997                36.858542   32 Years and 0 Months                    No   \n",
       "49998                39.139840   32 Years and 1 Months                    No   \n",
       "49999                34.108530   32 Years and 2 Months                    No   \n",
       "\n",
       "      Total_EMI_per_month  Amount_invested_monthly  \\\n",
       "49995           60.964772       146.48632477751087   \n",
       "49996           35.104023       181.44299902757518   \n",
       "49997           35.104023                __10000__   \n",
       "49998           35.104023        97.59857973344877   \n",
       "49999           35.104023       220.45787812168732   \n",
       "\n",
       "                     Payment_Behaviour     Monthly_Balance  \n",
       "49995   Low_spent_Small_value_payments  275.53956951573343  \n",
       "49996   Low_spent_Small_value_payments  409.39456169535066  \n",
       "49997   Low_spent_Large_value_payments   349.7263321025098  \n",
       "49998  High_spent_Small_value_payments  463.23898098947717  \n",
       "49999  Low_spent_Medium_value_payments  360.37968260123847  \n",
       "\n",
       "[5 rows x 27 columns]"
      ]
     },
     "execution_count": 11,
     "metadata": {},
     "output_type": "execute_result"
    }
   ],
   "source": [
    "data.tail(5)"
   ]
  },
  {
   "cell_type": "code",
   "execution_count": 12,
   "metadata": {},
   "outputs": [],
   "source": [
    "# age1=data['Age'].unique()\n",
    "# for i in age1:\n",
    "#     print(i)"
   ]
  },
  {
   "cell_type": "code",
   "execution_count": 13,
   "metadata": {},
   "outputs": [],
   "source": [
    "data['Age']=data['Age'].str.replace('_','')\n",
    "data['Age']=data['Age'].str.replace('-','')\n",
    "data['Age'] = [int(x) for x in data['Age']]\n"
   ]
  },
  {
   "cell_type": "code",
   "execution_count": 14,
   "metadata": {},
   "outputs": [
    {
     "data": {
      "text/plain": [
       "dtype('int64')"
      ]
     },
     "execution_count": 14,
     "metadata": {},
     "output_type": "execute_result"
    }
   ],
   "source": [
    "data['Age'].dtype"
   ]
  },
  {
   "cell_type": "code",
   "execution_count": 15,
   "metadata": {},
   "outputs": [],
   "source": [
    "# for index in range(len(data)):\n",
    "    #     current_customer_id = data.loc[index, 'Customer_ID']\n",
    "        \n",
    "    #     # Initialize next and previous customer IDs\n",
    "    #     next_customer_id = data.loc[index + 1, 'Customer_ID'] if index < len(data) - 1 else None\n",
    "    #     previous_customer_id = data.loc[index - 1, 'Customer_ID'] if index > 0 else None\n",
    "        \n",
    "    #     # First check\n",
    "    #     if data.loc[index, 'Age'] > 56:\n",
    "    #         if previous_customer_id is not None and current_customer_id == previous_customer_id:\n",
    "    #             data.loc[index, 'Age'] = data.loc[index - 1, 'Age']\n",
    "    #         elif next_customer_id is not None and current_customer_id == next_customer_id:\n",
    "    #             data.loc[index, 'Age'] = data.loc[index + 1, 'Age']\n",
    "\n",
    "    #     # Second check (Reverse Order)\n",
    "    #     if data.loc[index, 'Age'] > 56:\n",
    "    #         if next_customer_id is not None and current_customer_id == next_customer_id:\n",
    "    #             data.loc[index, 'Age'] = data.loc[index + 1, 'Age']\n",
    "    #         elif previous_customer_id is not None and current_customer_id == previous_customer_id:\n",
    "    #             data.loc[index, 'Age'] = data.loc[index - 1, 'Age']\n"
   ]
  },
  {
   "cell_type": "code",
   "execution_count": 16,
   "metadata": {},
   "outputs": [],
   "source": [
    "def fill_values(column_name, data, threshold):\n",
    "    for index in range(len(data)):\n",
    "        current_value = data.loc[index, 'Customer_ID']\n",
    "\n",
    "        next_value = data.loc[index + 1, 'Customer_ID'] if index < len(data) - 1 else None\n",
    "        previous_value = data.loc[index - 1, 'Customer_ID'] if index > 0 else None\n",
    "\n",
    "        # First check\n",
    "        if data.loc[index, column_name] > threshold:\n",
    "            if previous_value is not None and current_value == previous_value:\n",
    "                data.loc[index, column_name] = data.loc[index - 1, column_name]\n",
    "            elif next_value is not None and current_value == next_value:\n",
    "                data.loc[index, column_name] = data.loc[index + 1, column_name]\n",
    "\n",
    "        # Second check (Reverse Order)\n",
    "        if data.loc[index, column_name] > threshold:\n",
    "            if next_value is not None and current_value == next_value:\n",
    "                data.loc[index, column_name] = data.loc[index + 1, column_name]\n",
    "            elif previous_value is not None and current_value == previous_value:\n",
    "                data.loc[index, column_name] = data.loc[index - 1, column_name]\n",
    "\n",
    "    return data"
   ]
  },
  {
   "cell_type": "code",
   "execution_count": 17,
   "metadata": {},
   "outputs": [],
   "source": [
    "def fill_values2(column_name, data, threshold):\n",
    "    for index in range(len(data)):\n",
    "        current_value = data.loc[index, 'Customer_ID']\n",
    "\n",
    "        next_value = data.loc[index + 1, 'Customer_ID'] if index < len(data) - 1 else None\n",
    "        previous_value = data.loc[index - 1, 'Customer_ID'] if index > 0 else None\n",
    "\n",
    "        # First check\n",
    "        if data.loc[index, column_name] == threshold:\n",
    "            if previous_value is not None and current_value == previous_value:\n",
    "                data.loc[index, column_name] = data.loc[index - 1, column_name]\n",
    "            elif next_value is not None and current_value == next_value:\n",
    "                data.loc[index, column_name] = data.loc[index + 1, column_name]\n",
    "\n",
    "        # Second check (Reverse Order)\n",
    "        if data.loc[index, column_name] == threshold:\n",
    "            if next_value is not None and current_value == next_value:\n",
    "                data.loc[index, column_name] = data.loc[index + 1, column_name]\n",
    "            elif previous_value is not None and current_value == previous_value:\n",
    "                data.loc[index, column_name] = data.loc[index - 1, column_name]\n",
    "\n",
    "    return data"
   ]
  },
  {
   "cell_type": "code",
   "execution_count": 18,
   "metadata": {},
   "outputs": [],
   "source": [
    "for i in range(2):\n",
    "    data = fill_values('Age', data, 56)\n",
    "    "
   ]
  },
  {
   "cell_type": "code",
   "execution_count": 19,
   "metadata": {},
   "outputs": [
    {
     "data": {
      "text/plain": [
       "array([23, 24, 28, 35, 55, 22, 31, 32, 34, 30, 45, 41, 33, 36, 39, 40, 37,\n",
       "       21, 46, 26, 27, 42, 20, 48, 49, 38, 44, 16, 17, 19, 43, 14, 15, 25,\n",
       "       18, 47, 29, 53, 56, 54, 50, 51, 52], dtype=int64)"
      ]
     },
     "execution_count": 19,
     "metadata": {},
     "output_type": "execute_result"
    }
   ],
   "source": [
    "data['Age'].unique()\n"
   ]
  },
  {
   "cell_type": "code",
   "execution_count": 20,
   "metadata": {},
   "outputs": [],
   "source": [
    "data['SSN']=data['SSN'].str.replace('-','')\n",
    "data['SSN']=data['SSN'].str.replace('#F%$D@*&8','1')  # #F%$D@*&8 is value in SSN which is replace by 1 so that all col. can be converted into integer\n",
    "data['SSN'] = [int(x) for x in data['SSN']]"
   ]
  },
  {
   "cell_type": "code",
   "execution_count": 21,
   "metadata": {},
   "outputs": [],
   "source": [
    "for i in range(3):\n",
    "    for index in range(len(data)):\n",
    "        current_value = data.loc[index, 'Customer_ID']\n",
    "\n",
    "        next_value = data.loc[index + 1, 'Customer_ID'] if index < len(data) - 1 else None\n",
    "        previous_value = data.loc[index - 1, 'Customer_ID'] if index > 0 else None\n",
    "\n",
    "        # First check\n",
    "        if data.loc[index, 'SSN'] == 1:\n",
    "            if next_value is not None and current_value == next_value:\n",
    "                data.loc[index, 'SSN'] = data.loc[index + 1, 'SSN']\n",
    "            elif previous_value is not None and current_value == previous_value:\n",
    "                data.loc[index, 'SSN'] = data.loc[index - 1, 'SSN']\n",
    "            \n",
    "\n",
    "        # Second check (Reverse Order)\n",
    "        \n",
    "        if data.loc[index, 'SSN'] == 1:\n",
    "            if previous_value is not None and current_value == previous_value:\n",
    "                data.loc[index, 'SSN'] = data.loc[index - 1, 'SSN']\n",
    "            elif next_value is not None and current_value == next_value:\n",
    "                data.loc[index, 'SSN'] = data.loc[index + 1, 'SSN']\n",
    "\n",
    "\n"
   ]
  },
  {
   "cell_type": "code",
   "execution_count": 22,
   "metadata": {},
   "outputs": [],
   "source": [
    "#data=fill_values2('SSN',data,1)"
   ]
  },
  {
   "cell_type": "code",
   "execution_count": 23,
   "metadata": {},
   "outputs": [
    {
     "data": {
      "text/html": [
       "<div>\n",
       "<style scoped>\n",
       "    .dataframe tbody tr th:only-of-type {\n",
       "        vertical-align: middle;\n",
       "    }\n",
       "\n",
       "    .dataframe tbody tr th {\n",
       "        vertical-align: top;\n",
       "    }\n",
       "\n",
       "    .dataframe thead th {\n",
       "        text-align: right;\n",
       "    }\n",
       "</style>\n",
       "<table border=\"1\" class=\"dataframe\">\n",
       "  <thead>\n",
       "    <tr style=\"text-align: right;\">\n",
       "      <th></th>\n",
       "      <th>ID</th>\n",
       "      <th>Customer_ID</th>\n",
       "      <th>Month</th>\n",
       "      <th>Name</th>\n",
       "      <th>Age</th>\n",
       "      <th>SSN</th>\n",
       "      <th>Occupation</th>\n",
       "      <th>Annual_Income</th>\n",
       "      <th>Monthly_Inhand_Salary</th>\n",
       "      <th>Num_Bank_Accounts</th>\n",
       "      <th>...</th>\n",
       "      <th>Num_Credit_Inquiries</th>\n",
       "      <th>Credit_Mix</th>\n",
       "      <th>Outstanding_Debt</th>\n",
       "      <th>Credit_Utilization_Ratio</th>\n",
       "      <th>Credit_History_Age</th>\n",
       "      <th>Payment_of_Min_Amount</th>\n",
       "      <th>Total_EMI_per_month</th>\n",
       "      <th>Amount_invested_monthly</th>\n",
       "      <th>Payment_Behaviour</th>\n",
       "      <th>Monthly_Balance</th>\n",
       "    </tr>\n",
       "  </thead>\n",
       "  <tbody>\n",
       "  </tbody>\n",
       "</table>\n",
       "<p>0 rows × 27 columns</p>\n",
       "</div>"
      ],
      "text/plain": [
       "Empty DataFrame\n",
       "Columns: [ID, Customer_ID, Month, Name, Age, SSN, Occupation, Annual_Income, Monthly_Inhand_Salary, Num_Bank_Accounts, Num_Credit_Card, Interest_Rate, Num_of_Loan, Type_of_Loan, Delay_from_due_date, Num_of_Delayed_Payment, Changed_Credit_Limit, Num_Credit_Inquiries, Credit_Mix, Outstanding_Debt, Credit_Utilization_Ratio, Credit_History_Age, Payment_of_Min_Amount, Total_EMI_per_month, Amount_invested_monthly, Payment_Behaviour, Monthly_Balance]\n",
       "Index: []\n",
       "\n",
       "[0 rows x 27 columns]"
      ]
     },
     "execution_count": 23,
     "metadata": {},
     "output_type": "execute_result"
    }
   ],
   "source": [
    "data[data['SSN']==1]"
   ]
  },
  {
   "cell_type": "code",
   "execution_count": 24,
   "metadata": {},
   "outputs": [
    {
     "data": {
      "text/plain": [
       "array(['Scientist', '_______', 'Teacher', 'Engineer', 'Entrepreneur',\n",
       "       'Developer', 'Lawyer', 'Media_Manager', 'Doctor', 'Journalist',\n",
       "       'Manager', 'Accountant', 'Musician', 'Mechanic', 'Writer',\n",
       "       'Architect'], dtype=object)"
      ]
     },
     "execution_count": 24,
     "metadata": {},
     "output_type": "execute_result"
    }
   ],
   "source": [
    "data['Occupation'].unique()\n"
   ]
  },
  {
   "cell_type": "code",
   "execution_count": 25,
   "metadata": {},
   "outputs": [],
   "source": [
    "data['Occupation']=data['Occupation'].str.replace('_______','None')"
   ]
  },
  {
   "cell_type": "code",
   "execution_count": 26,
   "metadata": {},
   "outputs": [],
   "source": [
    "for i in range(3):\n",
    "    data = fill_values2('Occupation', data,'None')"
   ]
  },
  {
   "cell_type": "code",
   "execution_count": 27,
   "metadata": {},
   "outputs": [
    {
     "data": {
      "text/plain": [
       "array(['Scientist', 'Teacher', 'Engineer', 'Entrepreneur', 'Developer',\n",
       "       'Lawyer', 'Media_Manager', 'Doctor', 'Journalist', 'Manager',\n",
       "       'Accountant', 'Musician', 'Mechanic', 'Writer', 'Architect'],\n",
       "      dtype=object)"
      ]
     },
     "execution_count": 27,
     "metadata": {},
     "output_type": "execute_result"
    }
   ],
   "source": [
    "data['Occupation'].unique()"
   ]
  },
  {
   "cell_type": "code",
   "execution_count": 28,
   "metadata": {},
   "outputs": [],
   "source": [
    "\n",
    "data['Annual_Income']=data['Annual_Income'].str.replace('_','')\n",
    "\n",
    "data['Annual_Income']=[float(x) for x in data['Annual_Income']]\n",
    "data['Annual_Income']=data['Annual_Income'].apply(lambda x: f\"{x:.2f}\")\n",
    "data['Annual_Income']=[float(x) for x in data['Annual_Income']]"
   ]
  },
  {
   "cell_type": "code",
   "execution_count": 29,
   "metadata": {},
   "outputs": [
    {
     "data": {
      "text/plain": [
       "7498"
      ]
     },
     "execution_count": 29,
     "metadata": {},
     "output_type": "execute_result"
    }
   ],
   "source": [
    "data['Monthly_Inhand_Salary'].isnull().sum()"
   ]
  },
  {
   "cell_type": "code",
   "execution_count": 30,
   "metadata": {},
   "outputs": [],
   "source": [
    "\n",
    "data['Monthly_Inhand_Salary']=data['Monthly_Inhand_Salary'].fillna(0)\n",
    "data['Monthly_Inhand_Salary']=data['Monthly_Inhand_Salary'].apply(lambda x: f\"{x:.2f}\")\n",
    "data['Monthly_Inhand_Salary']=[str(x) for x in data['Monthly_Inhand_Salary']] #changing into str because cannot fill values on float datatype"
   ]
  },
  {
   "cell_type": "code",
   "execution_count": 31,
   "metadata": {},
   "outputs": [],
   "source": [
    "for i in range(5):\n",
    "    data=fill_values2('Monthly_Inhand_Salary',data,'0.00')\n",
    "# for index in range(len(data)):\n",
    "#     current_value=data.loc[index,'Customer_ID']\n",
    "\n",
    "#     next_value=data.loc[index+1,'Customer_ID'] if index < len(data)-1 else None\n",
    "#     previous_value=data.loc[index-1,'Customer_ID'] if index > 0 else None\n",
    "    \n",
    "#     # First check\n",
    "#     if data.loc[index,'Monthly_Inhand_Salary'] == '0.00':\n",
    "\n",
    "#         if previous_value is not None and current_value == previous_value:\n",
    "#             data.loc[index,'Monthly_Inhand_Salary'] = data.loc[index-1,'Monthly_Inhand_Salary']\n",
    "#         elif next_value is not None and current_value == next_value:\n",
    "#             data.loc[index,'Monthly_Inhand_Salary'] = data.loc[index+1,'Monthly_Inhand_Salary']\n",
    "        \n",
    "    \n",
    "#     # Second check (Reverse Order)\n",
    "#     if data.loc[index,'Monthly_Inhand_Salary']== '0.00':\n",
    "#         if next_value is not None and current_value == next_value:\n",
    "#             data.loc[index,'Monthly_Inhand_Salary'] = data.loc[index+1,'Monthly_Inhand_Salary']\n",
    "#         elif previous_value is not None and current_value == previous_value:\n",
    "#             data.loc[index,'Monthly_Inhand_Salary'] = data.loc[index-1,'Monthly_Inhand_Salary']\n",
    "        \n",
    "        "
   ]
  },
  {
   "cell_type": "code",
   "execution_count": 32,
   "metadata": {},
   "outputs": [],
   "source": [
    "data['Monthly_Inhand_Salary']=[float(x) for x in data['Monthly_Inhand_Salary']] "
   ]
  },
  {
   "cell_type": "code",
   "execution_count": 33,
   "metadata": {},
   "outputs": [
    {
     "data": {
      "text/html": [
       "<div>\n",
       "<style scoped>\n",
       "    .dataframe tbody tr th:only-of-type {\n",
       "        vertical-align: middle;\n",
       "    }\n",
       "\n",
       "    .dataframe tbody tr th {\n",
       "        vertical-align: top;\n",
       "    }\n",
       "\n",
       "    .dataframe thead th {\n",
       "        text-align: right;\n",
       "    }\n",
       "</style>\n",
       "<table border=\"1\" class=\"dataframe\">\n",
       "  <thead>\n",
       "    <tr style=\"text-align: right;\">\n",
       "      <th></th>\n",
       "      <th>ID</th>\n",
       "      <th>Customer_ID</th>\n",
       "      <th>Month</th>\n",
       "      <th>Name</th>\n",
       "      <th>Age</th>\n",
       "      <th>SSN</th>\n",
       "      <th>Occupation</th>\n",
       "      <th>Annual_Income</th>\n",
       "      <th>Monthly_Inhand_Salary</th>\n",
       "      <th>Num_Bank_Accounts</th>\n",
       "      <th>...</th>\n",
       "      <th>Num_Credit_Inquiries</th>\n",
       "      <th>Credit_Mix</th>\n",
       "      <th>Outstanding_Debt</th>\n",
       "      <th>Credit_Utilization_Ratio</th>\n",
       "      <th>Credit_History_Age</th>\n",
       "      <th>Payment_of_Min_Amount</th>\n",
       "      <th>Total_EMI_per_month</th>\n",
       "      <th>Amount_invested_monthly</th>\n",
       "      <th>Payment_Behaviour</th>\n",
       "      <th>Monthly_Balance</th>\n",
       "    </tr>\n",
       "  </thead>\n",
       "  <tbody>\n",
       "  </tbody>\n",
       "</table>\n",
       "<p>0 rows × 27 columns</p>\n",
       "</div>"
      ],
      "text/plain": [
       "Empty DataFrame\n",
       "Columns: [ID, Customer_ID, Month, Name, Age, SSN, Occupation, Annual_Income, Monthly_Inhand_Salary, Num_Bank_Accounts, Num_Credit_Card, Interest_Rate, Num_of_Loan, Type_of_Loan, Delay_from_due_date, Num_of_Delayed_Payment, Changed_Credit_Limit, Num_Credit_Inquiries, Credit_Mix, Outstanding_Debt, Credit_Utilization_Ratio, Credit_History_Age, Payment_of_Min_Amount, Total_EMI_per_month, Amount_invested_monthly, Payment_Behaviour, Monthly_Balance]\n",
       "Index: []\n",
       "\n",
       "[0 rows x 27 columns]"
      ]
     },
     "execution_count": 33,
     "metadata": {},
     "output_type": "execute_result"
    }
   ],
   "source": [
    "data[data['Monthly_Inhand_Salary']=='0.00']\n",
    "   \n"
   ]
  },
  {
   "cell_type": "code",
   "execution_count": 34,
   "metadata": {},
   "outputs": [],
   "source": [
    "#data.to_csv('output.csv')\n"
   ]
  },
  {
   "cell_type": "code",
   "execution_count": 35,
   "metadata": {},
   "outputs": [],
   "source": [
    "# data['Num_Bank_Accounts'].unique()"
   ]
  },
  {
   "cell_type": "code",
   "execution_count": 36,
   "metadata": {},
   "outputs": [],
   "source": [
    "data['Num_Bank_Accounts']=data['Num_Bank_Accounts'].replace(-1,20)"
   ]
  },
  {
   "cell_type": "code",
   "execution_count": 37,
   "metadata": {},
   "outputs": [],
   "source": [
    "for i in range(2):\n",
    "    for index in range(len(data)):\n",
    "        current_value=data.loc[index,'Customer_ID']\n",
    "\n",
    "        next_value=data.loc[index+1,'Customer_ID'] if index < len(data)-1 else None\n",
    "        previous_value=data.loc[index-1,'Customer_ID'] if index > 0 else None\n",
    "        \n",
    "        # First check\n",
    "\n",
    "        if data.loc[index,'Num_Bank_Accounts']>10:\n",
    "                if next_value is not None and current_value == next_value:\n",
    "                    data.loc[index,'Num_Bank_Accounts'] = data.loc[index+1,'Num_Bank_Accounts']\n",
    "                elif previous_value is not None and current_value == previous_value:\n",
    "                    data.loc[index,'Num_Bank_Accounts'] = data.loc[index-1,'Num_Bank_Accounts']\n",
    "        \n",
    "        # Second check (Reverse Order)\n",
    "        if data.loc[index,'Num_Bank_Accounts'] > 10:\n",
    "            if previous_value is not None and current_value == previous_value:\n",
    "                data.loc[index,'Num_Bank_Accounts'] = data.loc[index-1,'Num_Bank_Accounts']\n",
    "            elif next_value is not None and current_value == next_value:\n",
    "                data.loc[index,'Num_Bank_Accounts'] = data.loc[index+1,'Num_Bank_Accounts']\n",
    "        \n",
    "        "
   ]
  },
  {
   "cell_type": "code",
   "execution_count": 38,
   "metadata": {},
   "outputs": [
    {
     "data": {
      "text/plain": [
       "array([ 3,  2,  1,  7,  4,  0,  8,  5,  6,  9, 10, 20, 11], dtype=int64)"
      ]
     },
     "execution_count": 38,
     "metadata": {},
     "output_type": "execute_result"
    }
   ],
   "source": [
    "data['Num_Bank_Accounts'].unique()"
   ]
  },
  {
   "cell_type": "code",
   "execution_count": 39,
   "metadata": {},
   "outputs": [
    {
     "data": {
      "text/plain": [
       "<Axes: ylabel='count'>"
      ]
     },
     "execution_count": 39,
     "metadata": {},
     "output_type": "execute_result"
    },
    {
     "data": {
      "image/png": "[encoded data removed]",
      "text/plain": [
       "<Figure size 640x480 with 1 Axes>"
      ]
     },
     "metadata": {},
     "output_type": "display_data"
    }
   ],
   "source": [
    "data['Num_Credit_Card'].value_counts().plot(kind='pie', autopct='%1.1f%%')"
   ]
  },
  {
   "cell_type": "code",
   "execution_count": 40,
   "metadata": {},
   "outputs": [],
   "source": [
    "# card=data['Num_Credit_Card'].unique()\n",
    "# for i in np.sort(card):\n",
    "# #     print(i)\n",
    "# for index,value in enumerate(data['Num_Credit_Card'].value_counts()):\n",
    "#     print(index,value)"
   ]
  },
  {
   "cell_type": "code",
   "execution_count": 41,
   "metadata": {},
   "outputs": [],
   "source": [
    "for i in range(6):\n",
    "    for index in range(len(data)):\n",
    "        current_value=data.loc[index,'Customer_ID']\n",
    "\n",
    "        next_value=data.loc[index+1,'Customer_ID'] if index < len(data)-1 else None\n",
    "        previous_value=data.loc[index-1,'Customer_ID'] if index > 0 else None\n",
    "\n",
    "            \n",
    "        \n",
    "        # Second check (Reverse Order)\n",
    "        if data.loc[index,'Num_Credit_Card']>11:\n",
    "            if previous_value is not None and current_value == previous_value:\n",
    "                data.loc[index,'Num_Credit_Card'] = data.loc[index-1,'Num_Credit_Card']\n",
    "            elif next_value is not None and current_value == next_value:\n",
    "                data.loc[index,'Num_Credit_Card'] = data.loc[index+1,'Num_Credit_Card']"
   ]
  },
  {
   "cell_type": "code",
   "execution_count": 42,
   "metadata": {},
   "outputs": [],
   "source": [
    "for i in range(4):\n",
    "    data=fill_values('Num_Credit_Card',data,11)"
   ]
  },
  {
   "cell_type": "code",
   "execution_count": 43,
   "metadata": {},
   "outputs": [
    {
     "data": {
      "text/plain": [
       "array([ 4,  5,  1,  7,  6,  8,  3,  9,  2, 10, 11,  0], dtype=int64)"
      ]
     },
     "execution_count": 43,
     "metadata": {},
     "output_type": "execute_result"
    }
   ],
   "source": [
    "data['Num_Credit_Card'].unique()"
   ]
  },
  {
   "cell_type": "code",
   "execution_count": 44,
   "metadata": {},
   "outputs": [],
   "source": [
    "# a=data['Interest_Rate'].unique()\n",
    "# for i in np.sort(a):\n",
    "#     print(i)"
   ]
  },
  {
   "cell_type": "code",
   "execution_count": 45,
   "metadata": {},
   "outputs": [],
   "source": [
    "for i in range(6):\n",
    "    data=fill_values('Interest_Rate',data,34)\n"
   ]
  },
  {
   "cell_type": "code",
   "execution_count": 46,
   "metadata": {},
   "outputs": [
    {
     "data": {
      "text/html": [
       "<div>\n",
       "<style scoped>\n",
       "    .dataframe tbody tr th:only-of-type {\n",
       "        vertical-align: middle;\n",
       "    }\n",
       "\n",
       "    .dataframe tbody tr th {\n",
       "        vertical-align: top;\n",
       "    }\n",
       "\n",
       "    .dataframe thead th {\n",
       "        text-align: right;\n",
       "    }\n",
       "</style>\n",
       "<table border=\"1\" class=\"dataframe\">\n",
       "  <thead>\n",
       "    <tr style=\"text-align: right;\">\n",
       "      <th></th>\n",
       "      <th>ID</th>\n",
       "      <th>Customer_ID</th>\n",
       "      <th>Month</th>\n",
       "      <th>Name</th>\n",
       "      <th>Age</th>\n",
       "      <th>SSN</th>\n",
       "      <th>Occupation</th>\n",
       "      <th>Annual_Income</th>\n",
       "      <th>Monthly_Inhand_Salary</th>\n",
       "      <th>Num_Bank_Accounts</th>\n",
       "      <th>...</th>\n",
       "      <th>Num_Credit_Inquiries</th>\n",
       "      <th>Credit_Mix</th>\n",
       "      <th>Outstanding_Debt</th>\n",
       "      <th>Credit_Utilization_Ratio</th>\n",
       "      <th>Credit_History_Age</th>\n",
       "      <th>Payment_of_Min_Amount</th>\n",
       "      <th>Total_EMI_per_month</th>\n",
       "      <th>Amount_invested_monthly</th>\n",
       "      <th>Payment_Behaviour</th>\n",
       "      <th>Monthly_Balance</th>\n",
       "    </tr>\n",
       "  </thead>\n",
       "  <tbody>\n",
       "  </tbody>\n",
       "</table>\n",
       "<p>0 rows × 27 columns</p>\n",
       "</div>"
      ],
      "text/plain": [
       "Empty DataFrame\n",
       "Columns: [ID, Customer_ID, Month, Name, Age, SSN, Occupation, Annual_Income, Monthly_Inhand_Salary, Num_Bank_Accounts, Num_Credit_Card, Interest_Rate, Num_of_Loan, Type_of_Loan, Delay_from_due_date, Num_of_Delayed_Payment, Changed_Credit_Limit, Num_Credit_Inquiries, Credit_Mix, Outstanding_Debt, Credit_Utilization_Ratio, Credit_History_Age, Payment_of_Min_Amount, Total_EMI_per_month, Amount_invested_monthly, Payment_Behaviour, Monthly_Balance]\n",
       "Index: []\n",
       "\n",
       "[0 rows x 27 columns]"
      ]
     },
     "execution_count": 46,
     "metadata": {},
     "output_type": "execute_result"
    }
   ],
   "source": [
    "data[data['Interest_Rate']>34]"
   ]
  },
  {
   "cell_type": "code",
   "execution_count": 47,
   "metadata": {},
   "outputs": [],
   "source": [
    "data['Num_of_Loan']=data['Num_of_Loan'].astype(str)\n",
    "data['Num_of_Loan']=data['Num_of_Loan'].str.replace('-','') #data contain -100 and 0_ or _2\n",
    "data['Num_of_Loan']=data['Num_of_Loan'].str.replace('_','')\n",
    "data['Num_of_Loan']=[int(x) for x in data['Num_of_Loan']] #converting into integer"
   ]
  },
  {
   "cell_type": "code",
   "execution_count": 48,
   "metadata": {},
   "outputs": [
    {
     "data": {
      "text/plain": [
       "31263    0\n",
       "19396    2\n",
       "46920    2\n",
       "46074    6\n",
       "16746    6\n",
       "19489    9\n",
       "17885    2\n",
       "28816    7\n",
       "29789    1\n",
       "13983    4\n",
       "Name: Num_of_Loan, dtype: int64"
      ]
     },
     "execution_count": 48,
     "metadata": {},
     "output_type": "execute_result"
    }
   ],
   "source": [
    "data['Num_of_Loan'].sample(10)"
   ]
  },
  {
   "cell_type": "code",
   "execution_count": 49,
   "metadata": {},
   "outputs": [],
   "source": [
    "for i in range(3):\n",
    "    data=fill_values('Num_of_Loan',data,9)"
   ]
  },
  {
   "cell_type": "code",
   "execution_count": 50,
   "metadata": {},
   "outputs": [
    {
     "data": {
      "text/html": [
       "<div>\n",
       "<style scoped>\n",
       "    .dataframe tbody tr th:only-of-type {\n",
       "        vertical-align: middle;\n",
       "    }\n",
       "\n",
       "    .dataframe tbody tr th {\n",
       "        vertical-align: top;\n",
       "    }\n",
       "\n",
       "    .dataframe thead th {\n",
       "        text-align: right;\n",
       "    }\n",
       "</style>\n",
       "<table border=\"1\" class=\"dataframe\">\n",
       "  <thead>\n",
       "    <tr style=\"text-align: right;\">\n",
       "      <th></th>\n",
       "      <th>ID</th>\n",
       "      <th>Customer_ID</th>\n",
       "      <th>Month</th>\n",
       "      <th>Name</th>\n",
       "      <th>Age</th>\n",
       "      <th>SSN</th>\n",
       "      <th>Occupation</th>\n",
       "      <th>Annual_Income</th>\n",
       "      <th>Monthly_Inhand_Salary</th>\n",
       "      <th>Num_Bank_Accounts</th>\n",
       "      <th>...</th>\n",
       "      <th>Num_Credit_Inquiries</th>\n",
       "      <th>Credit_Mix</th>\n",
       "      <th>Outstanding_Debt</th>\n",
       "      <th>Credit_Utilization_Ratio</th>\n",
       "      <th>Credit_History_Age</th>\n",
       "      <th>Payment_of_Min_Amount</th>\n",
       "      <th>Total_EMI_per_month</th>\n",
       "      <th>Amount_invested_monthly</th>\n",
       "      <th>Payment_Behaviour</th>\n",
       "      <th>Monthly_Balance</th>\n",
       "    </tr>\n",
       "  </thead>\n",
       "  <tbody>\n",
       "  </tbody>\n",
       "</table>\n",
       "<p>0 rows × 27 columns</p>\n",
       "</div>"
      ],
      "text/plain": [
       "Empty DataFrame\n",
       "Columns: [ID, Customer_ID, Month, Name, Age, SSN, Occupation, Annual_Income, Monthly_Inhand_Salary, Num_Bank_Accounts, Num_Credit_Card, Interest_Rate, Num_of_Loan, Type_of_Loan, Delay_from_due_date, Num_of_Delayed_Payment, Changed_Credit_Limit, Num_Credit_Inquiries, Credit_Mix, Outstanding_Debt, Credit_Utilization_Ratio, Credit_History_Age, Payment_of_Min_Amount, Total_EMI_per_month, Amount_invested_monthly, Payment_Behaviour, Monthly_Balance]\n",
       "Index: []\n",
       "\n",
       "[0 rows x 27 columns]"
      ]
     },
     "execution_count": 50,
     "metadata": {},
     "output_type": "execute_result"
    }
   ],
   "source": [
    "data[data['Num_of_Loan']>9]"
   ]
  },
  {
   "cell_type": "code",
   "execution_count": 51,
   "metadata": {},
   "outputs": [
    {
     "data": {
      "text/plain": [
       "5704"
      ]
     },
     "execution_count": 51,
     "metadata": {},
     "output_type": "execute_result"
    }
   ],
   "source": [
    "data['Type_of_Loan'].isna().sum()"
   ]
  },
  {
   "cell_type": "code",
   "execution_count": 52,
   "metadata": {},
   "outputs": [],
   "source": [
    "for index in range(len(data)):\n",
    "    if data.loc[index,'Num_of_Loan']==0:\n",
    "        data.loc[index,'Type_of_Loan']='No Loan'\n",
    "\n"
   ]
  },
  {
   "cell_type": "code",
   "execution_count": 53,
   "metadata": {},
   "outputs": [
    {
     "data": {
      "text/plain": [
       "array([ 3, -1,  4,  8,  6,  5,  9,  0, 30, 29, 11,  2,  1, 16, 10, 24, 23,\n",
       "       12, 18, 17, 51, 34, 32, 45, 48, 25, 49, 43, 50, 22, 55, 52, 61, 59,\n",
       "       60, 31, 27, 15, 53, 14, 13,  7, 44, 54, 20, 28, 57, 62, 56, 41, 37,\n",
       "       19, 64, 36, 42, 21, 26, -2, 33, 46, 38, 35, 40, 47, 39, 66, 58, -4,\n",
       "       -3, 63, 65, -5, 67], dtype=int64)"
      ]
     },
     "execution_count": 53,
     "metadata": {},
     "output_type": "execute_result"
    }
   ],
   "source": [
    "data['Delay_from_due_date'].unique() #contain -ve values let's fill it w.r.t. customer id"
   ]
  },
  {
   "cell_type": "code",
   "execution_count": 54,
   "metadata": {},
   "outputs": [],
   "source": [
    "for i in range(8):\n",
    "    for index in range(len(data)):\n",
    "        current_value=data.loc[index,'Customer_ID']\n",
    "\n",
    "        next_value=data.loc[index+1,'Customer_ID'] if index < len(data)-1 else None\n",
    "        previous_value=data.loc[index-1,'Customer_ID'] if index > 0 else None\n",
    "            \n",
    "        # First check\n",
    "        if data.loc[index,'Delay_from_due_date'] <0 or data.loc[index,'Delay_from_due_date'] >24:\n",
    "            if previous_value is not None and current_value == previous_value:\n",
    "                data.loc[index,'Delay_from_due_date'] = data.loc[index-1,'Delay_from_due_date']\n",
    "            elif next_value is not None and current_value == next_value:\n",
    "                data.loc[index,'Delay_from_due_date'] = data.loc[index+1,'Delay_from_due_date']\n",
    "            \n",
    "        # Second check (Reverse Order)\n",
    "        if data.loc[index,'Delay_from_due_date']<0 or data.loc[index,'Delay_from_due_date'] >24:\n",
    "                if next_value is not None and current_value == next_value:\n",
    "                    data.loc[index,'Delay_from_due_date'] = data.loc[index+1,'Delay_from_due_date']\n",
    "                elif previous_value is not None and current_value == previous_value:\n",
    "                    data.loc[index,'Delay_from_due_date'] = data.loc[index-1,'Delay_from_due_date']"
   ]
  },
  {
   "cell_type": "code",
   "execution_count": 55,
   "metadata": {},
   "outputs": [
    {
     "data": {
      "text/plain": [
       "array([ 3,  4,  8,  6,  5,  9,  0, 30, 11,  2,  1, 16, 10, 24, 23, 12, 18,\n",
       "       17, 51, 32, 48, 25, 22, 52, 60, 27, 15, 53, 14, 13,  7, 44, 34, 59,\n",
       "       20, 55, 62, 49, 54, 50, 37, 19, 36, 43, 21, 33, 26, 41, 28, 38, 29,\n",
       "       57, 61, 45, 40, 46, 35, 39, 47, 31, 66, 42, 56, 58, 63, 64, 65],\n",
       "      dtype=int64)"
      ]
     },
     "execution_count": 55,
     "metadata": {},
     "output_type": "execute_result"
    }
   ],
   "source": [
    "data['Delay_from_due_date'].unique()"
   ]
  },
  {
   "cell_type": "code",
   "execution_count": 56,
   "metadata": {},
   "outputs": [
    {
     "data": {
      "text/plain": [
       "3498"
      ]
     },
     "execution_count": 56,
     "metadata": {},
     "output_type": "execute_result"
    }
   ],
   "source": [
    "data['Num_of_Delayed_Payment'].isnull().sum()"
   ]
  },
  {
   "cell_type": "code",
   "execution_count": 57,
   "metadata": {},
   "outputs": [],
   "source": [
    "data['Num_of_Delayed_Payment']=data['Num_of_Delayed_Payment'].str.replace('_','')\n",
    "data['Num_of_Delayed_Payment']=data['Num_of_Delayed_Payment'].ffill()\n",
    "data['Num_of_Delayed_Payment']=[int(i)for i in data['Num_of_Delayed_Payment']]"
   ]
  },
  {
   "cell_type": "code",
   "execution_count": 58,
   "metadata": {},
   "outputs": [],
   "source": [
    "# for i in np.sort(data['Num_of_Delayed_Payment'].unique()):\n",
    "#     print(i)"
   ]
  },
  {
   "cell_type": "code",
   "execution_count": 59,
   "metadata": {},
   "outputs": [],
   "source": [
    "for index in range(len(data)):\n",
    "    if data.loc[index,'Num_of_Delayed_Payment'] <0:\n",
    "        data.loc[index,'Num_of_Delayed_Payment']=999"
   ]
  },
  {
   "cell_type": "code",
   "execution_count": 60,
   "metadata": {},
   "outputs": [],
   "source": [
    "for i in range(4):\n",
    "    data=fill_values('Num_of_Delayed_Payment',data,24)\n",
    "\n"
   ]
  },
  {
   "cell_type": "code",
   "execution_count": 61,
   "metadata": {},
   "outputs": [],
   "source": [
    "data['Num_of_Delayed_Payment'] = np.where(data['Num_of_Delayed_Payment'] == 999, 0, data['Num_of_Delayed_Payment'])\n"
   ]
  },
  {
   "cell_type": "code",
   "execution_count": 62,
   "metadata": {},
   "outputs": [
    {
     "data": {
      "text/plain": [
       "array([ 7,  9,  4,  5,  1,  3,  2,  6,  8, 15, 18,  0, 14, 17, 12, 11, 19,\n",
       "       20, 10, 13, 22, 23, 21, 16, 24, 25, 27, 28, 26], dtype=int64)"
      ]
     },
     "execution_count": 62,
     "metadata": {},
     "output_type": "execute_result"
    }
   ],
   "source": [
    "data['Num_of_Delayed_Payment'].unique()"
   ]
  },
  {
   "cell_type": "code",
   "execution_count": 63,
   "metadata": {},
   "outputs": [
    {
     "name": "stdout",
     "output_type": "stream",
     "text": [
      "datatype is  object\n",
      "total null values are 0\n"
     ]
    }
   ],
   "source": [
    "\n",
    "print('datatype is ',data['Changed_Credit_Limit'].dtype)\n",
    "print('total null values are',data['Changed_Credit_Limit'].isnull().sum())\n",
    "# for i in data['Changed_Credit_Limit'].unique():\n",
    "#     print(i)\n"
   ]
  },
  {
   "cell_type": "code",
   "execution_count": 64,
   "metadata": {},
   "outputs": [],
   "source": [
    "data['Changed_Credit_Limit']=data['Changed_Credit_Limit'].str.replace('_','9999')\n",
    "data['Changed_Credit_Limit'] = data['Changed_Credit_Limit'].astype(float)\n",
    "data['Changed_Credit_Limit']=data['Changed_Credit_Limit'].apply(lambda x: f\"{x:.2f}\")\n",
    "data['Changed_Credit_Limit'] = data['Changed_Credit_Limit'].astype(float)"
   ]
  },
  {
   "cell_type": "code",
   "execution_count": 65,
   "metadata": {},
   "outputs": [
    {
     "data": {
      "text/plain": [
       "dtype('float64')"
      ]
     },
     "execution_count": 65,
     "metadata": {},
     "output_type": "execute_result"
    }
   ],
   "source": [
    "data['Changed_Credit_Limit'].dtype\n"
   ]
  },
  {
   "cell_type": "code",
   "execution_count": 66,
   "metadata": {},
   "outputs": [],
   "source": [
    "for index in range(len(data)):\n",
    "    if data.loc[index,'Changed_Credit_Limit'] <0.50:  #0.50 value was used by analyzing data in excel\n",
    "        data.loc[index,'Changed_Credit_Limit']=9999.0"
   ]
  },
  {
   "cell_type": "code",
   "execution_count": 67,
   "metadata": {},
   "outputs": [],
   "source": [
    "def fill_values3(column_name, data, threshold):\n",
    "    for index in range(len(data)):\n",
    "        current_value = data.loc[index, 'Customer_ID']\n",
    "\n",
    "        next_value = data.loc[index + 1, 'Customer_ID'] if index < len(data) - 1 else None\n",
    "        previous_value = data.loc[index - 1, 'Customer_ID'] if index > 0 else None\n",
    "\n",
    "        if data.loc[index, column_name] > threshold:\n",
    "            if previous_value is not None and current_value == previous_value:\n",
    "                data.loc[index, column_name] = data.loc[index - 1, column_name]\n",
    "            elif next_value is not None and current_value == next_value:\n",
    "                data.loc[index, column_name] = data.loc[index + 1, column_name]\n",
    "\n",
    "\n",
    "    return data\n",
    "\n",
    "\n"
   ]
  },
  {
   "cell_type": "code",
   "execution_count": 68,
   "metadata": {},
   "outputs": [],
   "source": [
    "for i in range(2):\n",
    "    data=fill_values('Changed_Credit_Limit',data,29.98)\n",
    "    data=fill_values3('Changed_Credit_Limit',data,29.98) #29.99 value i found by analyzing data in Excel"
   ]
  },
  {
   "cell_type": "code",
   "execution_count": 69,
   "metadata": {},
   "outputs": [
    {
     "data": {
      "text/html": [
       "<div>\n",
       "<style scoped>\n",
       "    .dataframe tbody tr th:only-of-type {\n",
       "        vertical-align: middle;\n",
       "    }\n",
       "\n",
       "    .dataframe tbody tr th {\n",
       "        vertical-align: top;\n",
       "    }\n",
       "\n",
       "    .dataframe thead th {\n",
       "        text-align: right;\n",
       "    }\n",
       "</style>\n",
       "<table border=\"1\" class=\"dataframe\">\n",
       "  <thead>\n",
       "    <tr style=\"text-align: right;\">\n",
       "      <th></th>\n",
       "      <th>ID</th>\n",
       "      <th>Customer_ID</th>\n",
       "      <th>Month</th>\n",
       "      <th>Name</th>\n",
       "      <th>Age</th>\n",
       "      <th>SSN</th>\n",
       "      <th>Occupation</th>\n",
       "      <th>Annual_Income</th>\n",
       "      <th>Monthly_Inhand_Salary</th>\n",
       "      <th>Num_Bank_Accounts</th>\n",
       "      <th>...</th>\n",
       "      <th>Num_Credit_Inquiries</th>\n",
       "      <th>Credit_Mix</th>\n",
       "      <th>Outstanding_Debt</th>\n",
       "      <th>Credit_Utilization_Ratio</th>\n",
       "      <th>Credit_History_Age</th>\n",
       "      <th>Payment_of_Min_Amount</th>\n",
       "      <th>Total_EMI_per_month</th>\n",
       "      <th>Amount_invested_monthly</th>\n",
       "      <th>Payment_Behaviour</th>\n",
       "      <th>Monthly_Balance</th>\n",
       "    </tr>\n",
       "  </thead>\n",
       "  <tbody>\n",
       "  </tbody>\n",
       "</table>\n",
       "<p>0 rows × 27 columns</p>\n",
       "</div>"
      ],
      "text/plain": [
       "Empty DataFrame\n",
       "Columns: [ID, Customer_ID, Month, Name, Age, SSN, Occupation, Annual_Income, Monthly_Inhand_Salary, Num_Bank_Accounts, Num_Credit_Card, Interest_Rate, Num_of_Loan, Type_of_Loan, Delay_from_due_date, Num_of_Delayed_Payment, Changed_Credit_Limit, Num_Credit_Inquiries, Credit_Mix, Outstanding_Debt, Credit_Utilization_Ratio, Credit_History_Age, Payment_of_Min_Amount, Total_EMI_per_month, Amount_invested_monthly, Payment_Behaviour, Monthly_Balance]\n",
       "Index: []\n",
       "\n",
       "[0 rows x 27 columns]"
      ]
     },
     "execution_count": 69,
     "metadata": {},
     "output_type": "execute_result"
    }
   ],
   "source": [
    "data[data['Changed_Credit_Limit']>30]\n"
   ]
  },
  {
   "cell_type": "code",
   "execution_count": 70,
   "metadata": {},
   "outputs": [
    {
     "data": {
      "text/plain": [
       "1035"
      ]
     },
     "execution_count": 70,
     "metadata": {},
     "output_type": "execute_result"
    }
   ],
   "source": [
    "data['Num_Credit_Inquiries'].isnull().sum()"
   ]
  },
  {
   "cell_type": "code",
   "execution_count": 71,
   "metadata": {},
   "outputs": [
    {
     "data": {
      "text/plain": [
       "dtype('float64')"
      ]
     },
     "execution_count": 71,
     "metadata": {},
     "output_type": "execute_result"
    }
   ],
   "source": [
    "data['Num_Credit_Inquiries'].dtype"
   ]
  },
  {
   "cell_type": "code",
   "execution_count": 72,
   "metadata": {},
   "outputs": [],
   "source": [
    "data['Num_Credit_Inquiries']=data['Num_Credit_Inquiries'].fillna(999)\n",
    "data['Num_Credit_Inquiries']=data['Num_Credit_Inquiries'].astype(int)"
   ]
  },
  {
   "cell_type": "code",
   "execution_count": 73,
   "metadata": {},
   "outputs": [],
   "source": [
    "for i in range(4):\n",
    "    data=fill_values('Num_Credit_Inquiries',data,17) #17 analyzed in Excel\n"
   ]
  },
  {
   "cell_type": "code",
   "execution_count": 74,
   "metadata": {},
   "outputs": [
    {
     "name": "stdout",
     "output_type": "stream",
     "text": [
      "[ 4  5  3  7  9  8  1 10 11 17 13  2  6  0 12 15 14 16]\n"
     ]
    }
   ],
   "source": [
    "print(data['Num_Credit_Inquiries'].unique())"
   ]
  },
  {
   "cell_type": "code",
   "execution_count": 75,
   "metadata": {},
   "outputs": [
    {
     "name": "stdout",
     "output_type": "stream",
     "text": [
      "['Good' '_' 'Standard' 'Bad']\n"
     ]
    }
   ],
   "source": [
    "print(data['Credit_Mix'].unique())\n",
    "data['Credit_Mix']=data['Credit_Mix'].str.replace('_','s')"
   ]
  },
  {
   "cell_type": "code",
   "execution_count": 76,
   "metadata": {},
   "outputs": [],
   "source": [
    "for i in range(6):\n",
    "    data=fill_values2('Credit_Mix',data,'s')\n",
    "    \n",
    "\n",
    "    # for index in range(len(data)):\n",
    "    #     current_value = data.loc[index, 'Customer_ID']\n",
    "\n",
    "    #     next_value = data.loc[index + 1, 'Customer_ID'] if index < len(data) - 1 else None\n",
    "    #     previous_value = data.loc[index - 1, 'Customer_ID'] if index > 0 else None\n",
    "\n",
    "    #     # # First check\n",
    "    #     # if data.loc[index, 'Credit_Mix'] == 's':\n",
    "    #     #     if previous_value is not None and current_value == previous_value:\n",
    "    #     #         data.loc[index, 'Credit_Mix'] = data.loc[index - 1, 'Credit_Mix']\n",
    "    #     #     elif next_value is not None and current_value == next_value:\n",
    "    #     #         data.loc[index,'Credit_Mix'] = data.loc[index + 1, 'Credit_Mix']\n",
    "\n",
    "    #     # Second check (Reverse Order)\n",
    "    #     if data.loc[index, 'Credit_Mix'] == 's':\n",
    "    #         if next_value is not None and current_value == next_value:\n",
    "    #             data.loc[index,'Credit_Mix'] = data.loc[index + 1, 'Credit_Mix']\n",
    "    #         elif previous_value is not None and current_value == previous_value:\n",
    "    #             data.loc[index, 'Credit_Mix'] = data.loc[index - 1, 'Credit_Mix']\n",
    "\n",
    "  "
   ]
  },
  {
   "cell_type": "code",
   "execution_count": 77,
   "metadata": {},
   "outputs": [],
   "source": [
    "data = data[~data['Credit_Mix'].isin(['s'])]"
   ]
  },
  {
   "cell_type": "code",
   "execution_count": 78,
   "metadata": {},
   "outputs": [
    {
     "data": {
      "text/plain": [
       "Credit_Mix\n",
       "Standard    22896\n",
       "Good        15168\n",
       "Bad         11852\n",
       "Name: count, dtype: int64"
      ]
     },
     "execution_count": 78,
     "metadata": {},
     "output_type": "execute_result"
    }
   ],
   "source": [
    "data['Credit_Mix'].value_counts()"
   ]
  },
  {
   "cell_type": "code",
   "execution_count": 79,
   "metadata": {},
   "outputs": [],
   "source": [
    "data['Outstanding_Debt']=data['Outstanding_Debt'].str.replace('_','')\n",
    "data['Outstanding_Debt']=data['Outstanding_Debt'].astype(float)"
   ]
  },
  {
   "cell_type": "code",
   "execution_count": 80,
   "metadata": {},
   "outputs": [
    {
     "data": {
      "text/plain": [
       "4459"
      ]
     },
     "execution_count": 80,
     "metadata": {},
     "output_type": "execute_result"
    }
   ],
   "source": [
    "data['Credit_History_Age'].isnull().sum()"
   ]
  },
  {
   "cell_type": "code",
   "execution_count": 81,
   "metadata": {},
   "outputs": [],
   "source": [
    "data['Credit_History_Age']=data['Credit_History_Age'].fillna('abc')"
   ]
  },
  {
   "cell_type": "code",
   "execution_count": 82,
   "metadata": {},
   "outputs": [],
   "source": [
    "data.reset_index(drop=True, inplace=True)\n",
    "for i in range(4):\n",
    "    data=fill_values2('Credit_History_Age',data,'abc')\n",
    "\n",
    "data = data[~data['Credit_History_Age'].isin(['abc'])]"
   ]
  },
  {
   "cell_type": "code",
   "execution_count": 83,
   "metadata": {},
   "outputs": [
    {
     "data": {
      "text/html": [
       "<div>\n",
       "<style scoped>\n",
       "    .dataframe tbody tr th:only-of-type {\n",
       "        vertical-align: middle;\n",
       "    }\n",
       "\n",
       "    .dataframe tbody tr th {\n",
       "        vertical-align: top;\n",
       "    }\n",
       "\n",
       "    .dataframe thead th {\n",
       "        text-align: right;\n",
       "    }\n",
       "</style>\n",
       "<table border=\"1\" class=\"dataframe\">\n",
       "  <thead>\n",
       "    <tr style=\"text-align: right;\">\n",
       "      <th></th>\n",
       "      <th>ID</th>\n",
       "      <th>Customer_ID</th>\n",
       "      <th>Month</th>\n",
       "      <th>Name</th>\n",
       "      <th>Age</th>\n",
       "      <th>SSN</th>\n",
       "      <th>Occupation</th>\n",
       "      <th>Annual_Income</th>\n",
       "      <th>Monthly_Inhand_Salary</th>\n",
       "      <th>Num_Bank_Accounts</th>\n",
       "      <th>...</th>\n",
       "      <th>Num_Credit_Inquiries</th>\n",
       "      <th>Credit_Mix</th>\n",
       "      <th>Outstanding_Debt</th>\n",
       "      <th>Credit_Utilization_Ratio</th>\n",
       "      <th>Credit_History_Age</th>\n",
       "      <th>Payment_of_Min_Amount</th>\n",
       "      <th>Total_EMI_per_month</th>\n",
       "      <th>Amount_invested_monthly</th>\n",
       "      <th>Payment_Behaviour</th>\n",
       "      <th>Monthly_Balance</th>\n",
       "    </tr>\n",
       "  </thead>\n",
       "  <tbody>\n",
       "  </tbody>\n",
       "</table>\n",
       "<p>0 rows × 27 columns</p>\n",
       "</div>"
      ],
      "text/plain": [
       "Empty DataFrame\n",
       "Columns: [ID, Customer_ID, Month, Name, Age, SSN, Occupation, Annual_Income, Monthly_Inhand_Salary, Num_Bank_Accounts, Num_Credit_Card, Interest_Rate, Num_of_Loan, Type_of_Loan, Delay_from_due_date, Num_of_Delayed_Payment, Changed_Credit_Limit, Num_Credit_Inquiries, Credit_Mix, Outstanding_Debt, Credit_Utilization_Ratio, Credit_History_Age, Payment_of_Min_Amount, Total_EMI_per_month, Amount_invested_monthly, Payment_Behaviour, Monthly_Balance]\n",
       "Index: []\n",
       "\n",
       "[0 rows x 27 columns]"
      ]
     },
     "execution_count": 83,
     "metadata": {},
     "output_type": "execute_result"
    }
   ],
   "source": [
    "data[data['Credit_History_Age']=='abc']"
   ]
  },
  {
   "cell_type": "code",
   "execution_count": 84,
   "metadata": {},
   "outputs": [
    {
     "data": {
      "text/plain": [
       "Payment_of_Min_Amount\n",
       "Yes    26116\n",
       "No     17816\n",
       "NM      5980\n",
       "Name: count, dtype: int64"
      ]
     },
     "execution_count": 84,
     "metadata": {},
     "output_type": "execute_result"
    }
   ],
   "source": [
    "data['Payment_of_Min_Amount'].value_counts()\n",
    "#NM is the value which we have to update w.r.t. customer_ID"
   ]
  },
  {
   "cell_type": "code",
   "execution_count": 85,
   "metadata": {},
   "outputs": [
    {
     "name": "stdout",
     "output_type": "stream",
     "text": [
      "Payment_of_Min_Amount\n",
      "Yes    29664\n",
      "No     20240\n",
      "Name: count, dtype: int64\n"
     ]
    }
   ],
   "source": [
    "data.reset_index(drop=True, inplace=True)\n",
    "for i in range(5):\n",
    "    data=fill_values2('Payment_of_Min_Amount',data,'NM')\n",
    "data = data[~data['Payment_of_Min_Amount'].isin(['NM'])]\n",
    "print(data['Payment_of_Min_Amount'].value_counts())"
   ]
  },
  {
   "cell_type": "code",
   "execution_count": 86,
   "metadata": {},
   "outputs": [
    {
     "data": {
      "text/plain": [
       "dtype('float64')"
      ]
     },
     "execution_count": 86,
     "metadata": {},
     "output_type": "execute_result"
    }
   ],
   "source": [
    "data['Total_EMI_per_month'].dtype"
   ]
  },
  {
   "cell_type": "code",
   "execution_count": 87,
   "metadata": {},
   "outputs": [],
   "source": [
    "data.reset_index(drop=True, inplace=True)\n",
    "for i in range(4):\n",
    "    data=fill_values('Total_EMI_per_month',data,1000)"
   ]
  },
  {
   "cell_type": "code",
   "execution_count": 88,
   "metadata": {},
   "outputs": [],
   "source": [
    "for index in range(len(data)):\n",
    "    if data.loc[index,'Num_of_Loan']==0:\n",
    "        data.loc[index,'Total_EMI_per_month']=0\n"
   ]
  },
  {
   "cell_type": "code",
   "execution_count": 89,
   "metadata": {},
   "outputs": [],
   "source": [
    "data['Total_EMI_per_month']=data['Total_EMI_per_month'].apply(lambda x: f\"{x:.2f}\")\n",
    "data['Total_EMI_per_month']=data['Total_EMI_per_month'].astype(float)"
   ]
  },
  {
   "cell_type": "code",
   "execution_count": 90,
   "metadata": {},
   "outputs": [
    {
     "data": {
      "text/plain": [
       "2268"
      ]
     },
     "execution_count": 90,
     "metadata": {},
     "output_type": "execute_result"
    }
   ],
   "source": [
    "data['Amount_invested_monthly'].isna().sum()"
   ]
  },
  {
   "cell_type": "code",
   "execution_count": 91,
   "metadata": {},
   "outputs": [],
   "source": [
    "data['Amount_invested_monthly']=data['Amount_invested_monthly'].str.replace('_','')\n",
    "data['Amount_invested_monthly']=data['Amount_invested_monthly'].fillna('10000')\n",
    "data['Amount_invested_monthly']=data['Amount_invested_monthly'].astype(float)"
   ]
  },
  {
   "cell_type": "code",
   "execution_count": 92,
   "metadata": {},
   "outputs": [],
   "source": [
    "data.reset_index(drop=True, inplace=True)\n",
    "for i in range(4):\n",
    "    data=fill_values2('Amount_invested_monthly',data,10000)\n",
    "data = data[~data['Amount_invested_monthly'].isin([10000])]"
   ]
  },
  {
   "cell_type": "code",
   "execution_count": 93,
   "metadata": {},
   "outputs": [],
   "source": [
    "data['Amount_invested_monthly']=data['Amount_invested_monthly'].apply(lambda x: f\"{x:.2f}\")\n",
    "data['Amount_invested_monthly']=data['Amount_invested_monthly'].astype(float)"
   ]
  },
  {
   "cell_type": "code",
   "execution_count": 94,
   "metadata": {},
   "outputs": [
    {
     "data": {
      "text/plain": [
       "Payment_Behaviour\n",
       "Low_spent_Small_value_payments      12671\n",
       "High_spent_Medium_value_payments     8904\n",
       "High_spent_Large_value_payments      6830\n",
       "Low_spent_Medium_value_payments      6821\n",
       "High_spent_Small_value_payments      5636\n",
       "Low_spent_Large_value_payments       5243\n",
       "!@9#%8                               3795\n",
       "Name: count, dtype: int64"
      ]
     },
     "execution_count": 94,
     "metadata": {},
     "output_type": "execute_result"
    }
   ],
   "source": [
    "data['Payment_Behaviour'].value_counts()"
   ]
  },
  {
   "cell_type": "code",
   "execution_count": 95,
   "metadata": {},
   "outputs": [],
   "source": [
    "data.reset_index(drop=True, inplace=True)\n",
    "for i in range(5):\n",
    "    data=fill_values2('Payment_Behaviour',data,'!@9#%8')"
   ]
  },
  {
   "cell_type": "code",
   "execution_count": 96,
   "metadata": {},
   "outputs": [
    {
     "data": {
      "text/plain": [
       "Payment_Behaviour\n",
       "Low_spent_Small_value_payments      13658\n",
       "High_spent_Medium_value_payments     9650\n",
       "High_spent_Large_value_payments      7411\n",
       "Low_spent_Medium_value_payments      7395\n",
       "High_spent_Small_value_payments      6116\n",
       "Low_spent_Large_value_payments       5670\n",
       "Name: count, dtype: int64"
      ]
     },
     "execution_count": 96,
     "metadata": {},
     "output_type": "execute_result"
    }
   ],
   "source": [
    "data['Payment_Behaviour'].value_counts()"
   ]
  },
  {
   "cell_type": "code",
   "execution_count": 97,
   "metadata": {},
   "outputs": [],
   "source": [
    "data['Monthly_Balance']=data['Monthly_Balance'].str.replace('__-333333333333333333333333333__','abc')\n",
    "data['Monthly_Balance']=data['Monthly_Balance'].fillna('abc')"
   ]
  },
  {
   "cell_type": "code",
   "execution_count": 98,
   "metadata": {},
   "outputs": [
    {
     "data": {
      "text/html": [
       "<div>\n",
       "<style scoped>\n",
       "    .dataframe tbody tr th:only-of-type {\n",
       "        vertical-align: middle;\n",
       "    }\n",
       "\n",
       "    .dataframe tbody tr th {\n",
       "        vertical-align: top;\n",
       "    }\n",
       "\n",
       "    .dataframe thead th {\n",
       "        text-align: right;\n",
       "    }\n",
       "</style>\n",
       "<table border=\"1\" class=\"dataframe\">\n",
       "  <thead>\n",
       "    <tr style=\"text-align: right;\">\n",
       "      <th></th>\n",
       "      <th>ID</th>\n",
       "      <th>Customer_ID</th>\n",
       "      <th>Month</th>\n",
       "      <th>Name</th>\n",
       "      <th>Age</th>\n",
       "      <th>SSN</th>\n",
       "      <th>Occupation</th>\n",
       "      <th>Annual_Income</th>\n",
       "      <th>Monthly_Inhand_Salary</th>\n",
       "      <th>Num_Bank_Accounts</th>\n",
       "      <th>...</th>\n",
       "      <th>Num_Credit_Inquiries</th>\n",
       "      <th>Credit_Mix</th>\n",
       "      <th>Outstanding_Debt</th>\n",
       "      <th>Credit_Utilization_Ratio</th>\n",
       "      <th>Credit_History_Age</th>\n",
       "      <th>Payment_of_Min_Amount</th>\n",
       "      <th>Total_EMI_per_month</th>\n",
       "      <th>Amount_invested_monthly</th>\n",
       "      <th>Payment_Behaviour</th>\n",
       "      <th>Monthly_Balance</th>\n",
       "    </tr>\n",
       "  </thead>\n",
       "  <tbody>\n",
       "    <tr>\n",
       "      <th>135</th>\n",
       "      <td>0x1799</td>\n",
       "      <td>CUS_0x4004</td>\n",
       "      <td>December</td>\n",
       "      <td>Carlosj</td>\n",
       "      <td>44</td>\n",
       "      <td>679266464</td>\n",
       "      <td>Writer</td>\n",
       "      <td>58317.00</td>\n",
       "      <td>4664.75</td>\n",
       "      <td>8</td>\n",
       "      <td>...</td>\n",
       "      <td>10</td>\n",
       "      <td>Standard</td>\n",
       "      <td>98.97</td>\n",
       "      <td>22.597463</td>\n",
       "      <td>13 Years and 11 Months</td>\n",
       "      <td>Yes</td>\n",
       "      <td>149.90</td>\n",
       "      <td>620.00</td>\n",
       "      <td>Low_spent_Small_value_payments</td>\n",
       "      <td>abc</td>\n",
       "    </tr>\n",
       "    <tr>\n",
       "      <th>195</th>\n",
       "      <td>0x184d</td>\n",
       "      <td>CUS_0x9b3c</td>\n",
       "      <td>December</td>\n",
       "      <td>Scheydere</td>\n",
       "      <td>44</td>\n",
       "      <td>224487837</td>\n",
       "      <td>Lawyer</td>\n",
       "      <td>81842.28</td>\n",
       "      <td>6810.19</td>\n",
       "      <td>10</td>\n",
       "      <td>...</td>\n",
       "      <td>11</td>\n",
       "      <td>Bad</td>\n",
       "      <td>3053.16</td>\n",
       "      <td>24.389000</td>\n",
       "      <td>1 Years and 3 Months</td>\n",
       "      <td>Yes</td>\n",
       "      <td>574.07</td>\n",
       "      <td>556.78</td>\n",
       "      <td>Low_spent_Large_value_payments</td>\n",
       "      <td>abc</td>\n",
       "    </tr>\n",
       "    <tr>\n",
       "      <th>245</th>\n",
       "      <td>0x18e7</td>\n",
       "      <td>CUS_0x7504</td>\n",
       "      <td>October</td>\n",
       "      <td>NaN</td>\n",
       "      <td>19</td>\n",
       "      <td>389894542</td>\n",
       "      <td>Lawyer</td>\n",
       "      <td>73737.36</td>\n",
       "      <td>5936.78</td>\n",
       "      <td>7</td>\n",
       "      <td>...</td>\n",
       "      <td>2</td>\n",
       "      <td>Standard</td>\n",
       "      <td>1219.39</td>\n",
       "      <td>30.148089</td>\n",
       "      <td>31 Years and 10 Months</td>\n",
       "      <td>Yes</td>\n",
       "      <td>214.81</td>\n",
       "      <td>753.65</td>\n",
       "      <td>Low_spent_Small_value_payments</td>\n",
       "      <td>abc</td>\n",
       "    </tr>\n",
       "    <tr>\n",
       "      <th>256</th>\n",
       "      <td>0x190a</td>\n",
       "      <td>CUS_0xab76</td>\n",
       "      <td>September</td>\n",
       "      <td>Stempelp</td>\n",
       "      <td>26</td>\n",
       "      <td>878906321</td>\n",
       "      <td>Scientist</td>\n",
       "      <td>60162.10</td>\n",
       "      <td>5197.51</td>\n",
       "      <td>5</td>\n",
       "      <td>...</td>\n",
       "      <td>9</td>\n",
       "      <td>Standard</td>\n",
       "      <td>1037.45</td>\n",
       "      <td>26.641909</td>\n",
       "      <td>13 Years and 10 Months</td>\n",
       "      <td>Yes</td>\n",
       "      <td>220.21</td>\n",
       "      <td>660.80</td>\n",
       "      <td>Low_spent_Small_value_payments</td>\n",
       "      <td>abc</td>\n",
       "    </tr>\n",
       "    <tr>\n",
       "      <th>309</th>\n",
       "      <td>0x19a7</td>\n",
       "      <td>CUS_0x6856</td>\n",
       "      <td>October</td>\n",
       "      <td>Gellerp</td>\n",
       "      <td>25</td>\n",
       "      <td>251770979</td>\n",
       "      <td>Teacher</td>\n",
       "      <td>129067.59</td>\n",
       "      <td>10795.63</td>\n",
       "      <td>1</td>\n",
       "      <td>...</td>\n",
       "      <td>3</td>\n",
       "      <td>Good</td>\n",
       "      <td>137.15</td>\n",
       "      <td>38.372321</td>\n",
       "      <td>27 Years and 4 Months</td>\n",
       "      <td>No</td>\n",
       "      <td>389.31</td>\n",
       "      <td>1191.23</td>\n",
       "      <td>Low_spent_Small_value_payments</td>\n",
       "      <td>abc</td>\n",
       "    </tr>\n",
       "    <tr>\n",
       "      <th>...</th>\n",
       "      <td>...</td>\n",
       "      <td>...</td>\n",
       "      <td>...</td>\n",
       "      <td>...</td>\n",
       "      <td>...</td>\n",
       "      <td>...</td>\n",
       "      <td>...</td>\n",
       "      <td>...</td>\n",
       "      <td>...</td>\n",
       "      <td>...</td>\n",
       "      <td>...</td>\n",
       "      <td>...</td>\n",
       "      <td>...</td>\n",
       "      <td>...</td>\n",
       "      <td>...</td>\n",
       "      <td>...</td>\n",
       "      <td>...</td>\n",
       "      <td>...</td>\n",
       "      <td>...</td>\n",
       "      <td>...</td>\n",
       "      <td>...</td>\n",
       "    </tr>\n",
       "    <tr>\n",
       "      <th>49401</th>\n",
       "      <td>0x25a1f</td>\n",
       "      <td>CUS_0x50e9</td>\n",
       "      <td>October</td>\n",
       "      <td>NaN</td>\n",
       "      <td>34</td>\n",
       "      <td>190227771</td>\n",
       "      <td>Writer</td>\n",
       "      <td>59650.23</td>\n",
       "      <td>4677.85</td>\n",
       "      <td>5</td>\n",
       "      <td>...</td>\n",
       "      <td>12</td>\n",
       "      <td>Standard</td>\n",
       "      <td>1294.13</td>\n",
       "      <td>31.561166</td>\n",
       "      <td>7 Years and 2 Months</td>\n",
       "      <td>Yes</td>\n",
       "      <td>250.61</td>\n",
       "      <td>364.77</td>\n",
       "      <td>Low_spent_Small_value_payments</td>\n",
       "      <td>abc</td>\n",
       "    </tr>\n",
       "    <tr>\n",
       "      <th>49420</th>\n",
       "      <td>0x25a5a</td>\n",
       "      <td>CUS_0x2274</td>\n",
       "      <td>September</td>\n",
       "      <td>Natem</td>\n",
       "      <td>41</td>\n",
       "      <td>373638139</td>\n",
       "      <td>Entrepreneur</td>\n",
       "      <td>105931.17</td>\n",
       "      <td>8672.60</td>\n",
       "      <td>8</td>\n",
       "      <td>...</td>\n",
       "      <td>8</td>\n",
       "      <td>Standard</td>\n",
       "      <td>254.06</td>\n",
       "      <td>24.058312</td>\n",
       "      <td>5 Years and 9 Months</td>\n",
       "      <td>Yes</td>\n",
       "      <td>392.84</td>\n",
       "      <td>947.83</td>\n",
       "      <td>Low_spent_Small_value_payments</td>\n",
       "      <td>abc</td>\n",
       "    </tr>\n",
       "    <tr>\n",
       "      <th>49491</th>\n",
       "      <td>0x25b29</td>\n",
       "      <td>CUS_0x8848</td>\n",
       "      <td>December</td>\n",
       "      <td>enr</td>\n",
       "      <td>37</td>\n",
       "      <td>930776871</td>\n",
       "      <td>Engineer</td>\n",
       "      <td>62756.20</td>\n",
       "      <td>5194.68</td>\n",
       "      <td>10</td>\n",
       "      <td>...</td>\n",
       "      <td>14</td>\n",
       "      <td>Bad</td>\n",
       "      <td>3711.23</td>\n",
       "      <td>26.293742</td>\n",
       "      <td>4 Years and 8 Months</td>\n",
       "      <td>Yes</td>\n",
       "      <td>323.62</td>\n",
       "      <td>607.46</td>\n",
       "      <td>Low_spent_Small_value_payments</td>\n",
       "      <td>abc</td>\n",
       "    </tr>\n",
       "    <tr>\n",
       "      <th>49810</th>\n",
       "      <td>0x25ee8</td>\n",
       "      <td>CUS_0x40ad</td>\n",
       "      <td>November</td>\n",
       "      <td>Dorisw</td>\n",
       "      <td>20</td>\n",
       "      <td>715143312</td>\n",
       "      <td>Scientist</td>\n",
       "      <td>65858.48</td>\n",
       "      <td>5421.21</td>\n",
       "      <td>7</td>\n",
       "      <td>...</td>\n",
       "      <td>13</td>\n",
       "      <td>Standard</td>\n",
       "      <td>2344.57</td>\n",
       "      <td>23.482921</td>\n",
       "      <td>7 Years and 2 Months</td>\n",
       "      <td>Yes</td>\n",
       "      <td>261.20</td>\n",
       "      <td>126.42</td>\n",
       "      <td>Low_spent_Small_value_payments</td>\n",
       "      <td>abc</td>\n",
       "    </tr>\n",
       "    <tr>\n",
       "      <th>49837</th>\n",
       "      <td>0x25f3b</td>\n",
       "      <td>CUS_0x3855</td>\n",
       "      <td>October</td>\n",
       "      <td>Xolai</td>\n",
       "      <td>28</td>\n",
       "      <td>963557106</td>\n",
       "      <td>Scientist</td>\n",
       "      <td>118677.54</td>\n",
       "      <td>9963.80</td>\n",
       "      <td>4</td>\n",
       "      <td>...</td>\n",
       "      <td>5</td>\n",
       "      <td>Good</td>\n",
       "      <td>995.47</td>\n",
       "      <td>37.261217</td>\n",
       "      <td>30 Years and 8 Months</td>\n",
       "      <td>No</td>\n",
       "      <td>237.11</td>\n",
       "      <td>1305.11</td>\n",
       "      <td>Low_spent_Small_value_payments</td>\n",
       "      <td>abc</td>\n",
       "    </tr>\n",
       "  </tbody>\n",
       "</table>\n",
       "<p>567 rows × 27 columns</p>\n",
       "</div>"
      ],
      "text/plain": [
       "            ID Customer_ID      Month       Name  Age        SSN  \\\n",
       "135     0x1799  CUS_0x4004   December    Carlosj   44  679266464   \n",
       "195     0x184d  CUS_0x9b3c   December  Scheydere   44  224487837   \n",
       "245     0x18e7  CUS_0x7504    October        NaN   19  389894542   \n",
       "256     0x190a  CUS_0xab76  September   Stempelp   26  878906321   \n",
       "309     0x19a7  CUS_0x6856    October    Gellerp   25  251770979   \n",
       "...        ...         ...        ...        ...  ...        ...   \n",
       "49401  0x25a1f  CUS_0x50e9    October        NaN   34  190227771   \n",
       "49420  0x25a5a  CUS_0x2274  September      Natem   41  373638139   \n",
       "49491  0x25b29  CUS_0x8848   December        enr   37  930776871   \n",
       "49810  0x25ee8  CUS_0x40ad   November     Dorisw   20  715143312   \n",
       "49837  0x25f3b  CUS_0x3855    October      Xolai   28  963557106   \n",
       "\n",
       "         Occupation  Annual_Income  Monthly_Inhand_Salary  Num_Bank_Accounts  \\\n",
       "135          Writer       58317.00                4664.75                  8   \n",
       "195          Lawyer       81842.28                6810.19                 10   \n",
       "245          Lawyer       73737.36                5936.78                  7   \n",
       "256       Scientist       60162.10                5197.51                  5   \n",
       "309         Teacher      129067.59               10795.63                  1   \n",
       "...             ...            ...                    ...                ...   \n",
       "49401        Writer       59650.23                4677.85                  5   \n",
       "49420  Entrepreneur      105931.17                8672.60                  8   \n",
       "49491      Engineer       62756.20                5194.68                 10   \n",
       "49810     Scientist       65858.48                5421.21                  7   \n",
       "49837     Scientist      118677.54                9963.80                  4   \n",
       "\n",
       "       ...  Num_Credit_Inquiries  Credit_Mix  Outstanding_Debt  \\\n",
       "135    ...                    10    Standard             98.97   \n",
       "195    ...                    11         Bad           3053.16   \n",
       "245    ...                     2    Standard           1219.39   \n",
       "256    ...                     9    Standard           1037.45   \n",
       "309    ...                     3        Good            137.15   \n",
       "...    ...                   ...         ...               ...   \n",
       "49401  ...                    12    Standard           1294.13   \n",
       "49420  ...                     8    Standard            254.06   \n",
       "49491  ...                    14         Bad           3711.23   \n",
       "49810  ...                    13    Standard           2344.57   \n",
       "49837  ...                     5        Good            995.47   \n",
       "\n",
       "      Credit_Utilization_Ratio      Credit_History_Age  Payment_of_Min_Amount  \\\n",
       "135                  22.597463  13 Years and 11 Months                    Yes   \n",
       "195                  24.389000    1 Years and 3 Months                    Yes   \n",
       "245                  30.148089  31 Years and 10 Months                    Yes   \n",
       "256                  26.641909  13 Years and 10 Months                    Yes   \n",
       "309                  38.372321   27 Years and 4 Months                     No   \n",
       "...                        ...                     ...                    ...   \n",
       "49401                31.561166    7 Years and 2 Months                    Yes   \n",
       "49420                24.058312    5 Years and 9 Months                    Yes   \n",
       "49491                26.293742    4 Years and 8 Months                    Yes   \n",
       "49810                23.482921    7 Years and 2 Months                    Yes   \n",
       "49837                37.261217   30 Years and 8 Months                     No   \n",
       "\n",
       "       Total_EMI_per_month  Amount_invested_monthly  \\\n",
       "135                 149.90                   620.00   \n",
       "195                 574.07                   556.78   \n",
       "245                 214.81                   753.65   \n",
       "256                 220.21                   660.80   \n",
       "309                 389.31                  1191.23   \n",
       "...                    ...                      ...   \n",
       "49401               250.61                   364.77   \n",
       "49420               392.84                   947.83   \n",
       "49491               323.62                   607.46   \n",
       "49810               261.20                   126.42   \n",
       "49837               237.11                  1305.11   \n",
       "\n",
       "                    Payment_Behaviour  Monthly_Balance  \n",
       "135    Low_spent_Small_value_payments              abc  \n",
       "195    Low_spent_Large_value_payments              abc  \n",
       "245    Low_spent_Small_value_payments              abc  \n",
       "256    Low_spent_Small_value_payments              abc  \n",
       "309    Low_spent_Small_value_payments              abc  \n",
       "...                               ...              ...  \n",
       "49401  Low_spent_Small_value_payments              abc  \n",
       "49420  Low_spent_Small_value_payments              abc  \n",
       "49491  Low_spent_Small_value_payments              abc  \n",
       "49810  Low_spent_Small_value_payments              abc  \n",
       "49837  Low_spent_Small_value_payments              abc  \n",
       "\n",
       "[567 rows x 27 columns]"
      ]
     },
     "execution_count": 98,
     "metadata": {},
     "output_type": "execute_result"
    }
   ],
   "source": [
    "data[data['Monthly_Balance']=='abc']"
   ]
  },
  {
   "cell_type": "code",
   "execution_count": 99,
   "metadata": {},
   "outputs": [],
   "source": [
    "data.reset_index(drop=True, inplace=True)\n",
    "for i in range(3):\n",
    "    data=fill_values2('Monthly_Balance',data,'abc')\n",
    "\n",
    "data = data[~data['Monthly_Balance'].isin(['abc'])]"
   ]
  },
  {
   "cell_type": "code",
   "execution_count": 100,
   "metadata": {},
   "outputs": [
    {
     "data": {
      "text/html": [
       "<div>\n",
       "<style scoped>\n",
       "    .dataframe tbody tr th:only-of-type {\n",
       "        vertical-align: middle;\n",
       "    }\n",
       "\n",
       "    .dataframe tbody tr th {\n",
       "        vertical-align: top;\n",
       "    }\n",
       "\n",
       "    .dataframe thead th {\n",
       "        text-align: right;\n",
       "    }\n",
       "</style>\n",
       "<table border=\"1\" class=\"dataframe\">\n",
       "  <thead>\n",
       "    <tr style=\"text-align: right;\">\n",
       "      <th></th>\n",
       "      <th>ID</th>\n",
       "      <th>Customer_ID</th>\n",
       "      <th>Month</th>\n",
       "      <th>Name</th>\n",
       "      <th>Age</th>\n",
       "      <th>SSN</th>\n",
       "      <th>Occupation</th>\n",
       "      <th>Annual_Income</th>\n",
       "      <th>Monthly_Inhand_Salary</th>\n",
       "      <th>Num_Bank_Accounts</th>\n",
       "      <th>...</th>\n",
       "      <th>Num_Credit_Inquiries</th>\n",
       "      <th>Credit_Mix</th>\n",
       "      <th>Outstanding_Debt</th>\n",
       "      <th>Credit_Utilization_Ratio</th>\n",
       "      <th>Credit_History_Age</th>\n",
       "      <th>Payment_of_Min_Amount</th>\n",
       "      <th>Total_EMI_per_month</th>\n",
       "      <th>Amount_invested_monthly</th>\n",
       "      <th>Payment_Behaviour</th>\n",
       "      <th>Monthly_Balance</th>\n",
       "    </tr>\n",
       "  </thead>\n",
       "  <tbody>\n",
       "  </tbody>\n",
       "</table>\n",
       "<p>0 rows × 27 columns</p>\n",
       "</div>"
      ],
      "text/plain": [
       "Empty DataFrame\n",
       "Columns: [ID, Customer_ID, Month, Name, Age, SSN, Occupation, Annual_Income, Monthly_Inhand_Salary, Num_Bank_Accounts, Num_Credit_Card, Interest_Rate, Num_of_Loan, Type_of_Loan, Delay_from_due_date, Num_of_Delayed_Payment, Changed_Credit_Limit, Num_Credit_Inquiries, Credit_Mix, Outstanding_Debt, Credit_Utilization_Ratio, Credit_History_Age, Payment_of_Min_Amount, Total_EMI_per_month, Amount_invested_monthly, Payment_Behaviour, Monthly_Balance]\n",
       "Index: []\n",
       "\n",
       "[0 rows x 27 columns]"
      ]
     },
     "execution_count": 100,
     "metadata": {},
     "output_type": "execute_result"
    }
   ],
   "source": [
    "data[data['Monthly_Balance']=='abc']"
   ]
  },
  {
   "cell_type": "code",
   "execution_count": 101,
   "metadata": {},
   "outputs": [],
   "source": [
    "data['Monthly_Balance']=data['Monthly_Balance'].astype(float)\n",
    "data['Monthly_Balance']=data['Monthly_Balance'].apply(lambda x: f\"{x:.2f}\")\n",
    "data['Monthly_Balance']=data['Monthly_Balance'].astype(float)"
   ]
  },
  {
   "cell_type": "code",
   "execution_count": 102,
   "metadata": {},
   "outputs": [
    {
     "data": {
      "text/html": [
       "<div>\n",
       "<style scoped>\n",
       "    .dataframe tbody tr th:only-of-type {\n",
       "        vertical-align: middle;\n",
       "    }\n",
       "\n",
       "    .dataframe tbody tr th {\n",
       "        vertical-align: top;\n",
       "    }\n",
       "\n",
       "    .dataframe thead th {\n",
       "        text-align: right;\n",
       "    }\n",
       "</style>\n",
       "<table border=\"1\" class=\"dataframe\">\n",
       "  <thead>\n",
       "    <tr style=\"text-align: right;\">\n",
       "      <th></th>\n",
       "      <th>ID</th>\n",
       "      <th>Customer_ID</th>\n",
       "      <th>Month</th>\n",
       "      <th>Name</th>\n",
       "      <th>Age</th>\n",
       "      <th>SSN</th>\n",
       "      <th>Occupation</th>\n",
       "      <th>Annual_Income</th>\n",
       "      <th>Monthly_Inhand_Salary</th>\n",
       "      <th>Num_Bank_Accounts</th>\n",
       "      <th>...</th>\n",
       "      <th>Num_Credit_Inquiries</th>\n",
       "      <th>Credit_Mix</th>\n",
       "      <th>Outstanding_Debt</th>\n",
       "      <th>Credit_Utilization_Ratio</th>\n",
       "      <th>Credit_History_Age</th>\n",
       "      <th>Payment_of_Min_Amount</th>\n",
       "      <th>Total_EMI_per_month</th>\n",
       "      <th>Amount_invested_monthly</th>\n",
       "      <th>Payment_Behaviour</th>\n",
       "      <th>Monthly_Balance</th>\n",
       "    </tr>\n",
       "  </thead>\n",
       "  <tbody>\n",
       "  </tbody>\n",
       "</table>\n",
       "<p>0 rows × 27 columns</p>\n",
       "</div>"
      ],
      "text/plain": [
       "Empty DataFrame\n",
       "Columns: [ID, Customer_ID, Month, Name, Age, SSN, Occupation, Annual_Income, Monthly_Inhand_Salary, Num_Bank_Accounts, Num_Credit_Card, Interest_Rate, Num_of_Loan, Type_of_Loan, Delay_from_due_date, Num_of_Delayed_Payment, Changed_Credit_Limit, Num_Credit_Inquiries, Credit_Mix, Outstanding_Debt, Credit_Utilization_Ratio, Credit_History_Age, Payment_of_Min_Amount, Total_EMI_per_month, Amount_invested_monthly, Payment_Behaviour, Monthly_Balance]\n",
       "Index: []\n",
       "\n",
       "[0 rows x 27 columns]"
      ]
     },
     "execution_count": 102,
     "metadata": {},
     "output_type": "execute_result"
    }
   ],
   "source": [
    "data[data['Monthly_Balance']=='abc']"
   ]
  },
  {
   "cell_type": "code",
   "execution_count": 103,
   "metadata": {},
   "outputs": [],
   "source": [
    "data['Credit_Utilization_Ratio']=data['Credit_Utilization_Ratio'].apply(lambda x: f\"{x:.2f}\")\n",
    "data['Credit_Utilization_Ratio']=data['Credit_Utilization_Ratio'].astype(float)"
   ]
  },
  {
   "cell_type": "code",
   "execution_count": 104,
   "metadata": {},
   "outputs": [],
   "source": [
    "# data['Credit_Utilization_Ratio']"
   ]
  },
  {
   "cell_type": "code",
   "execution_count": 105,
   "metadata": {},
   "outputs": [
    {
     "name": "stdout",
     "output_type": "stream",
     "text": [
      "<class 'pandas.core.frame.DataFrame'>\n",
      "Index: 49896 entries, 0 to 49899\n",
      "Data columns (total 27 columns):\n",
      " #   Column                    Non-Null Count  Dtype  \n",
      "---  ------                    --------------  -----  \n",
      " 0   ID                        49896 non-null  object \n",
      " 1   Customer_ID               49896 non-null  object \n",
      " 2   Month                     49896 non-null  object \n",
      " 3   Name                      44890 non-null  object \n",
      " 4   Age                       49896 non-null  int64  \n",
      " 5   SSN                       49896 non-null  int64  \n",
      " 6   Occupation                49896 non-null  object \n",
      " 7   Annual_Income             49896 non-null  float64\n",
      " 8   Monthly_Inhand_Salary     49896 non-null  float64\n",
      " 9   Num_Bank_Accounts         49896 non-null  int64  \n",
      " 10  Num_Credit_Card           49896 non-null  int64  \n",
      " 11  Interest_Rate             49896 non-null  int64  \n",
      " 12  Num_of_Loan               49896 non-null  int64  \n",
      " 13  Type_of_Loan              49896 non-null  object \n",
      " 14  Delay_from_due_date       49896 non-null  int64  \n",
      " 15  Num_of_Delayed_Payment    49896 non-null  int64  \n",
      " 16  Changed_Credit_Limit      49896 non-null  float64\n",
      " 17  Num_Credit_Inquiries      49896 non-null  int32  \n",
      " 18  Credit_Mix                49896 non-null  object \n",
      " 19  Outstanding_Debt          49896 non-null  float64\n",
      " 20  Credit_Utilization_Ratio  49896 non-null  float64\n",
      " 21  Credit_History_Age        49896 non-null  object \n",
      " 22  Payment_of_Min_Amount     49896 non-null  object \n",
      " 23  Total_EMI_per_month       49896 non-null  float64\n",
      " 24  Amount_invested_monthly   49896 non-null  float64\n",
      " 25  Payment_Behaviour         49896 non-null  object \n",
      " 26  Monthly_Balance           49896 non-null  float64\n",
      "dtypes: float64(8), int32(1), int64(8), object(10)\n",
      "memory usage: 10.5+ MB\n"
     ]
    }
   ],
   "source": [
    "data.info()"
   ]
  },
  {
   "cell_type": "code",
   "execution_count": 110,
   "metadata": {},
   "outputs": [],
   "source": [
    "\n",
    "clean_test = data.groupby(['Customer_ID']).agg({ \n",
    "    'Age':'mean',\n",
    "    'SSN':'first', \n",
    "    'Occupation':'first',\n",
    "    'Annual_Income':'first',\n",
    "    'Monthly_Inhand_Salary':'mean',\n",
    "    'Num_Bank_Accounts':'first',\n",
    "    'Num_Credit_Card':'mean',\n",
    "    'Interest_Rate':'mean',\n",
    "    'Num_of_Loan':'mean',\n",
    "    'Type_of_Loan':'first',\n",
    "    'Delay_from_due_date':'mean',\n",
    "    'Num_of_Delayed_Payment':'mean',\n",
    "    'Changed_Credit_Limit':'mean',\n",
    "    'Num_Credit_Inquiries':'mean', \n",
    "    'Credit_Mix':'first',\n",
    "    'Outstanding_Debt':'mean',\n",
    "    'Credit_Utilization_Ratio':'mean',\n",
    "    'Credit_History_Age':'first',\n",
    "    'Payment_of_Min_Amount':'first',\n",
    "    'Total_EMI_per_month':'mean',\n",
    "    'Amount_invested_monthly':'mean',\n",
    "    'Payment_Behaviour':'first',\n",
    "    'Monthly_Balance':'mean'\n",
    "    }).reset_index()\n",
    "clean_test['Age']=clean_test['Age'].astype(int)\n",
    "clean_test['Num_Bank_Accounts']=clean_test['Num_Bank_Accounts'].astype(int)\n",
    "clean_test['Num_Credit_Card']=clean_test['Num_Credit_Card'].astype(int)\n",
    "clean_test['Num_of_Loan']=clean_test['Num_of_Loan'].astype(int)\n",
    "clean_test['Delay_from_due_date']=clean_test['Delay_from_due_date'].astype(int)\n",
    "clean_test['Num_of_Delayed_Payment']=clean_test['Num_of_Delayed_Payment'].astype(int)\n",
    "clean_test['Num_Credit_Inquiries']=clean_test['Num_Credit_Inquiries'].astype(int)\n",
    "\n",
    "\n"
   ]
  },
  {
   "cell_type": "code",
   "execution_count": 118,
   "metadata": {},
   "outputs": [
    {
     "data": {
      "text/html": [
       "<div>\n",
       "<style scoped>\n",
       "    .dataframe tbody tr th:only-of-type {\n",
       "        vertical-align: middle;\n",
       "    }\n",
       "\n",
       "    .dataframe tbody tr th {\n",
       "        vertical-align: top;\n",
       "    }\n",
       "\n",
       "    .dataframe thead th {\n",
       "        text-align: right;\n",
       "    }\n",
       "</style>\n",
       "<table border=\"1\" class=\"dataframe\">\n",
       "  <thead>\n",
       "    <tr style=\"text-align: right;\">\n",
       "      <th></th>\n",
       "      <th>Customer_ID</th>\n",
       "      <th>Age</th>\n",
       "      <th>SSN</th>\n",
       "      <th>Occupation</th>\n",
       "      <th>Annual_Income</th>\n",
       "      <th>Monthly_Inhand_Salary</th>\n",
       "      <th>Num_Bank_Accounts</th>\n",
       "      <th>Num_Credit_Card</th>\n",
       "      <th>Interest_Rate</th>\n",
       "      <th>Num_of_Loan</th>\n",
       "      <th>...</th>\n",
       "      <th>Num_Credit_Inquiries</th>\n",
       "      <th>Credit_Mix</th>\n",
       "      <th>Outstanding_Debt</th>\n",
       "      <th>Credit_Utilization_Ratio</th>\n",
       "      <th>Credit_History_Age</th>\n",
       "      <th>Payment_of_Min_Amount</th>\n",
       "      <th>Total_EMI_per_month</th>\n",
       "      <th>Amount_invested_monthly</th>\n",
       "      <th>Payment_Behaviour</th>\n",
       "      <th>Monthly_Balance</th>\n",
       "    </tr>\n",
       "  </thead>\n",
       "  <tbody>\n",
       "    <tr>\n",
       "      <th>9077</th>\n",
       "      <td>CUS_0x981d</td>\n",
       "      <td>35</td>\n",
       "      <td>569614012</td>\n",
       "      <td>Developer</td>\n",
       "      <td>20063.56</td>\n",
       "      <td>1832.96</td>\n",
       "      <td>6</td>\n",
       "      <td>9</td>\n",
       "      <td>30.0</td>\n",
       "      <td>6</td>\n",
       "      <td>...</td>\n",
       "      <td>11</td>\n",
       "      <td>Standard</td>\n",
       "      <td>2633.67</td>\n",
       "      <td>35.9175</td>\n",
       "      <td>19 Years and 4 Months</td>\n",
       "      <td>Yes</td>\n",
       "      <td>95.00</td>\n",
       "      <td>98.4975</td>\n",
       "      <td>Low_spent_Small_value_payments</td>\n",
       "      <td>264.7975</td>\n",
       "    </tr>\n",
       "    <tr>\n",
       "      <th>5657</th>\n",
       "      <td>CUS_0x6549</td>\n",
       "      <td>20</td>\n",
       "      <td>905955824</td>\n",
       "      <td>Mechanic</td>\n",
       "      <td>39558.23</td>\n",
       "      <td>3542.52</td>\n",
       "      <td>4</td>\n",
       "      <td>3</td>\n",
       "      <td>4.0</td>\n",
       "      <td>1</td>\n",
       "      <td>...</td>\n",
       "      <td>0</td>\n",
       "      <td>Good</td>\n",
       "      <td>349.48</td>\n",
       "      <td>34.2975</td>\n",
       "      <td>30 Years and 9 Months</td>\n",
       "      <td>No</td>\n",
       "      <td>20.63</td>\n",
       "      <td>220.1325</td>\n",
       "      <td>High_spent_Small_value_payments</td>\n",
       "      <td>383.4950</td>\n",
       "    </tr>\n",
       "    <tr>\n",
       "      <th>6030</th>\n",
       "      <td>CUS_0x6a79</td>\n",
       "      <td>23</td>\n",
       "      <td>789623935</td>\n",
       "      <td>Lawyer</td>\n",
       "      <td>173668.84</td>\n",
       "      <td>14293.40</td>\n",
       "      <td>3</td>\n",
       "      <td>6</td>\n",
       "      <td>2.0</td>\n",
       "      <td>3</td>\n",
       "      <td>...</td>\n",
       "      <td>2</td>\n",
       "      <td>Good</td>\n",
       "      <td>710.17</td>\n",
       "      <td>40.9700</td>\n",
       "      <td>23 Years and 3 Months</td>\n",
       "      <td>No</td>\n",
       "      <td>310.16</td>\n",
       "      <td>330.9100</td>\n",
       "      <td>High_spent_Medium_value_payments</td>\n",
       "      <td>1040.7700</td>\n",
       "    </tr>\n",
       "    <tr>\n",
       "      <th>8421</th>\n",
       "      <td>CUS_0x8e53</td>\n",
       "      <td>36</td>\n",
       "      <td>494423830</td>\n",
       "      <td>Media_Manager</td>\n",
       "      <td>21145.60</td>\n",
       "      <td>1604.13</td>\n",
       "      <td>2</td>\n",
       "      <td>7</td>\n",
       "      <td>4.0</td>\n",
       "      <td>1</td>\n",
       "      <td>...</td>\n",
       "      <td>1</td>\n",
       "      <td>Good</td>\n",
       "      <td>969.19</td>\n",
       "      <td>33.8250</td>\n",
       "      <td>18 Years and 6 Months</td>\n",
       "      <td>No</td>\n",
       "      <td>12.67</td>\n",
       "      <td>56.7200</td>\n",
       "      <td>High_spent_Medium_value_payments</td>\n",
       "      <td>328.4775</td>\n",
       "    </tr>\n",
       "    <tr>\n",
       "      <th>10454</th>\n",
       "      <td>CUS_0xac8e</td>\n",
       "      <td>17</td>\n",
       "      <td>990904382</td>\n",
       "      <td>Mechanic</td>\n",
       "      <td>38904.52</td>\n",
       "      <td>3352.75</td>\n",
       "      <td>8</td>\n",
       "      <td>6</td>\n",
       "      <td>17.0</td>\n",
       "      <td>7</td>\n",
       "      <td>...</td>\n",
       "      <td>5</td>\n",
       "      <td>Standard</td>\n",
       "      <td>333.59</td>\n",
       "      <td>32.2175</td>\n",
       "      <td>12 Years and 9 Months</td>\n",
       "      <td>Yes</td>\n",
       "      <td>206.78</td>\n",
       "      <td>76.6000</td>\n",
       "      <td>High_spent_Small_value_payments</td>\n",
       "      <td>343.5200</td>\n",
       "    </tr>\n",
       "  </tbody>\n",
       "</table>\n",
       "<p>5 rows × 24 columns</p>\n",
       "</div>"
      ],
      "text/plain": [
       "      Customer_ID  Age        SSN     Occupation  Annual_Income  \\\n",
       "9077   CUS_0x981d   35  569614012      Developer       20063.56   \n",
       "5657   CUS_0x6549   20  905955824       Mechanic       39558.23   \n",
       "6030   CUS_0x6a79   23  789623935         Lawyer      173668.84   \n",
       "8421   CUS_0x8e53   36  494423830  Media_Manager       21145.60   \n",
       "10454  CUS_0xac8e   17  990904382       Mechanic       38904.52   \n",
       "\n",
       "       Monthly_Inhand_Salary  Num_Bank_Accounts  Num_Credit_Card  \\\n",
       "9077                 1832.96                  6                9   \n",
       "5657                 3542.52                  4                3   \n",
       "6030                14293.40                  3                6   \n",
       "8421                 1604.13                  2                7   \n",
       "10454                3352.75                  8                6   \n",
       "\n",
       "       Interest_Rate  Num_of_Loan  ... Num_Credit_Inquiries  Credit_Mix  \\\n",
       "9077            30.0            6  ...                   11    Standard   \n",
       "5657             4.0            1  ...                    0        Good   \n",
       "6030             2.0            3  ...                    2        Good   \n",
       "8421             4.0            1  ...                    1        Good   \n",
       "10454           17.0            7  ...                    5    Standard   \n",
       "\n",
       "       Outstanding_Debt  Credit_Utilization_Ratio     Credit_History_Age  \\\n",
       "9077            2633.67                   35.9175  19 Years and 4 Months   \n",
       "5657             349.48                   34.2975  30 Years and 9 Months   \n",
       "6030             710.17                   40.9700  23 Years and 3 Months   \n",
       "8421             969.19                   33.8250  18 Years and 6 Months   \n",
       "10454            333.59                   32.2175  12 Years and 9 Months   \n",
       "\n",
       "      Payment_of_Min_Amount  Total_EMI_per_month  Amount_invested_monthly  \\\n",
       "9077                    Yes                95.00                  98.4975   \n",
       "5657                     No                20.63                 220.1325   \n",
       "6030                     No               310.16                 330.9100   \n",
       "8421                     No                12.67                  56.7200   \n",
       "10454                   Yes               206.78                  76.6000   \n",
       "\n",
       "                      Payment_Behaviour Monthly_Balance  \n",
       "9077     Low_spent_Small_value_payments        264.7975  \n",
       "5657    High_spent_Small_value_payments        383.4950  \n",
       "6030   High_spent_Medium_value_payments       1040.7700  \n",
       "8421   High_spent_Medium_value_payments        328.4775  \n",
       "10454   High_spent_Small_value_payments        343.5200  \n",
       "\n",
       "[5 rows x 24 columns]"
      ]
     },
     "execution_count": 118,
     "metadata": {},
     "output_type": "execute_result"
    }
   ],
   "source": [
    "clean_test.sample(5)"
   ]
  },
  {
   "cell_type": "code",
   "execution_count": 119,
   "metadata": {},
   "outputs": [
    {
     "data": {
      "text/plain": [
       "(12474, 24)"
      ]
     },
     "execution_count": 119,
     "metadata": {},
     "output_type": "execute_result"
    }
   ],
   "source": [
    "clean_test.shape"
   ]
  },
  {
   "cell_type": "code",
   "execution_count": 121,
   "metadata": {},
   "outputs": [],
   "source": [
    "\n",
    "data.to_csv('clean_test.csv')"
   ]
  },
  {
   "cell_type": "code",
   "execution_count": null,
   "metadata": {},
   "outputs": [],
   "source": []
  }
 ],
 "metadata": {
  "kernelspec": {
   "display_name": "tf-cpu",
   "language": "python",
   "name": "python3"
  },
  "language_info": {
   "codemirror_mode": {
    "name": "ipython",
    "version": 3
   },
   "file_extension": ".py",
   "mimetype": "text/x-python",
   "name": "python",
   "nbconvert_exporter": "python",
   "pygments_lexer": "ipython3",
   "version": "3.12.3"
  }
 },
 "nbformat": 4,
 "nbformat_minor": 2
}
