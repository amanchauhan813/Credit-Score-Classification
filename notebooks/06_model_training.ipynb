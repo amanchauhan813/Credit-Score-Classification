{
 "cells": [
  {
   "cell_type": "code",
   "execution_count": 17,
   "metadata": {},
   "outputs": [],
   "source": [
    "import pandas as pd\n",
    "import numpy as np\n",
    "from sklearn.preprocessing import OneHotEncoder,OrdinalEncoder,PowerTransformer,StandardScaler,LabelEncoder\n",
    "from sklearn.model_selection import train_test_split\n",
    "from sklearn.compose import ColumnTransformer\n",
    "from sklearn.pipeline import make_pipeline"
   ]
  },
  {
   "cell_type": "code",
   "execution_count": 18,
   "metadata": {},
   "outputs": [],
   "source": [
    "path='C:\\\\Users\\\\amanc\\\\Desktop\\\\python new project\\\\Machine Learning\\\\Credit Score Classification\\\\data\\\\train_new.csv'\n",
    "data=pd.read_csv(path)"
   ]
  },
  {
   "cell_type": "code",
   "execution_count": 19,
   "metadata": {},
   "outputs": [
    {
     "data": {
      "text/html": [
       "<div>\n",
       "<style scoped>\n",
       "    .dataframe tbody tr th:only-of-type {\n",
       "        vertical-align: middle;\n",
       "    }\n",
       "\n",
       "    .dataframe tbody tr th {\n",
       "        vertical-align: top;\n",
       "    }\n",
       "\n",
       "    .dataframe thead th {\n",
       "        text-align: right;\n",
       "    }\n",
       "</style>\n",
       "<table border=\"1\" class=\"dataframe\">\n",
       "  <thead>\n",
       "    <tr style=\"text-align: right;\">\n",
       "      <th></th>\n",
       "      <th>Unnamed: 0</th>\n",
       "      <th>Age</th>\n",
       "      <th>Occupation</th>\n",
       "      <th>Annual_Income</th>\n",
       "      <th>Monthly_Inhand_Salary</th>\n",
       "      <th>Num_Bank_Accounts</th>\n",
       "      <th>Num_Credit_Card</th>\n",
       "      <th>Interest_Rate</th>\n",
       "      <th>Num_of_Loan</th>\n",
       "      <th>Delay_from_due_date</th>\n",
       "      <th>...</th>\n",
       "      <th>Auto_Loan</th>\n",
       "      <th>Credit_Builder_Loan</th>\n",
       "      <th>Debt_Consolidation_Loan</th>\n",
       "      <th>Home_Equity_Loan</th>\n",
       "      <th>Mortgage_Loan</th>\n",
       "      <th>No_Loan</th>\n",
       "      <th>Not_Specified</th>\n",
       "      <th>Payday_Loan</th>\n",
       "      <th>Personal_Loan</th>\n",
       "      <th>Student_Loan</th>\n",
       "    </tr>\n",
       "  </thead>\n",
       "  <tbody>\n",
       "    <tr>\n",
       "      <th>0</th>\n",
       "      <td>0</td>\n",
       "      <td>17</td>\n",
       "      <td>Lawyer</td>\n",
       "      <td>30625.94</td>\n",
       "      <td>2706.16</td>\n",
       "      <td>6</td>\n",
       "      <td>5</td>\n",
       "      <td>27.0</td>\n",
       "      <td>2</td>\n",
       "      <td>57</td>\n",
       "      <td>...</td>\n",
       "      <td>0</td>\n",
       "      <td>1</td>\n",
       "      <td>0</td>\n",
       "      <td>1</td>\n",
       "      <td>0</td>\n",
       "      <td>0</td>\n",
       "      <td>0</td>\n",
       "      <td>0</td>\n",
       "      <td>0</td>\n",
       "      <td>0</td>\n",
       "    </tr>\n",
       "    <tr>\n",
       "      <th>1</th>\n",
       "      <td>1</td>\n",
       "      <td>25</td>\n",
       "      <td>Mechanic</td>\n",
       "      <td>52312.68</td>\n",
       "      <td>4250.39</td>\n",
       "      <td>6</td>\n",
       "      <td>5</td>\n",
       "      <td>17.0</td>\n",
       "      <td>4</td>\n",
       "      <td>7</td>\n",
       "      <td>...</td>\n",
       "      <td>0</td>\n",
       "      <td>1</td>\n",
       "      <td>0</td>\n",
       "      <td>1</td>\n",
       "      <td>0</td>\n",
       "      <td>0</td>\n",
       "      <td>1</td>\n",
       "      <td>1</td>\n",
       "      <td>0</td>\n",
       "      <td>0</td>\n",
       "    </tr>\n",
       "    <tr>\n",
       "      <th>2</th>\n",
       "      <td>2</td>\n",
       "      <td>18</td>\n",
       "      <td>Media_Manager</td>\n",
       "      <td>113781.39</td>\n",
       "      <td>9549.78</td>\n",
       "      <td>1</td>\n",
       "      <td>4</td>\n",
       "      <td>1.0</td>\n",
       "      <td>0</td>\n",
       "      <td>13</td>\n",
       "      <td>...</td>\n",
       "      <td>0</td>\n",
       "      <td>0</td>\n",
       "      <td>0</td>\n",
       "      <td>0</td>\n",
       "      <td>0</td>\n",
       "      <td>1</td>\n",
       "      <td>0</td>\n",
       "      <td>0</td>\n",
       "      <td>0</td>\n",
       "      <td>0</td>\n",
       "    </tr>\n",
       "    <tr>\n",
       "      <th>3</th>\n",
       "      <td>3</td>\n",
       "      <td>43</td>\n",
       "      <td>Doctor</td>\n",
       "      <td>58918.47</td>\n",
       "      <td>5208.87</td>\n",
       "      <td>3</td>\n",
       "      <td>3</td>\n",
       "      <td>17.0</td>\n",
       "      <td>3</td>\n",
       "      <td>27</td>\n",
       "      <td>...</td>\n",
       "      <td>0</td>\n",
       "      <td>1</td>\n",
       "      <td>1</td>\n",
       "      <td>0</td>\n",
       "      <td>0</td>\n",
       "      <td>0</td>\n",
       "      <td>0</td>\n",
       "      <td>0</td>\n",
       "      <td>0</td>\n",
       "      <td>1</td>\n",
       "    </tr>\n",
       "    <tr>\n",
       "      <th>4</th>\n",
       "      <td>4</td>\n",
       "      <td>43</td>\n",
       "      <td>Mechanic</td>\n",
       "      <td>98620.98</td>\n",
       "      <td>7962.42</td>\n",
       "      <td>3</td>\n",
       "      <td>3</td>\n",
       "      <td>6.0</td>\n",
       "      <td>3</td>\n",
       "      <td>12</td>\n",
       "      <td>...</td>\n",
       "      <td>0</td>\n",
       "      <td>0</td>\n",
       "      <td>1</td>\n",
       "      <td>0</td>\n",
       "      <td>0</td>\n",
       "      <td>0</td>\n",
       "      <td>0</td>\n",
       "      <td>0</td>\n",
       "      <td>1</td>\n",
       "      <td>1</td>\n",
       "    </tr>\n",
       "  </tbody>\n",
       "</table>\n",
       "<p>5 rows × 33 columns</p>\n",
       "</div>"
      ],
      "text/plain": [
       "   Unnamed: 0  Age     Occupation  Annual_Income  Monthly_Inhand_Salary  \\\n",
       "0           0   17         Lawyer       30625.94                2706.16   \n",
       "1           1   25       Mechanic       52312.68                4250.39   \n",
       "2           2   18  Media_Manager      113781.39                9549.78   \n",
       "3           3   43         Doctor       58918.47                5208.87   \n",
       "4           4   43       Mechanic       98620.98                7962.42   \n",
       "\n",
       "   Num_Bank_Accounts  Num_Credit_Card  Interest_Rate  Num_of_Loan  \\\n",
       "0                  6                5           27.0            2   \n",
       "1                  6                5           17.0            4   \n",
       "2                  1                4            1.0            0   \n",
       "3                  3                3           17.0            3   \n",
       "4                  3                3            6.0            3   \n",
       "\n",
       "   Delay_from_due_date  ...  Auto_Loan  Credit_Builder_Loan  \\\n",
       "0                   57  ...          0                    1   \n",
       "1                    7  ...          0                    1   \n",
       "2                   13  ...          0                    0   \n",
       "3                   27  ...          0                    1   \n",
       "4                   12  ...          0                    0   \n",
       "\n",
       "   Debt_Consolidation_Loan Home_Equity_Loan  Mortgage_Loan  No_Loan  \\\n",
       "0                        0                1              0        0   \n",
       "1                        0                1              0        0   \n",
       "2                        0                0              0        1   \n",
       "3                        1                0              0        0   \n",
       "4                        1                0              0        0   \n",
       "\n",
       "   Not_Specified Payday_Loan  Personal_Loan  Student_Loan  \n",
       "0              0           0              0             0  \n",
       "1              1           1              0             0  \n",
       "2              0           0              0             0  \n",
       "3              0           0              0             1  \n",
       "4              0           0              1             1  \n",
       "\n",
       "[5 rows x 33 columns]"
      ]
     },
     "execution_count": 19,
     "metadata": {},
     "output_type": "execute_result"
    }
   ],
   "source": [
    "data.head()"
   ]
  },
  {
   "cell_type": "code",
   "execution_count": 20,
   "metadata": {},
   "outputs": [],
   "source": [
    "x_train,x_test,y_train,y_test=train_test_split(data.drop('Credit_Score',axis=1),data['Credit_Score'],test_size=0.2,random_state=42)"
   ]
  },
  {
   "cell_type": "code",
   "execution_count": 24,
   "metadata": {},
   "outputs": [
    {
     "data": {
      "text/plain": [
       "(10000, 32)"
      ]
     },
     "execution_count": 24,
     "metadata": {},
     "output_type": "execute_result"
    }
   ],
   "source": [
    "x_train.shape"
   ]
  },
  {
   "cell_type": "code",
   "execution_count": 21,
   "metadata": {},
   "outputs": [],
   "source": [
    "le=LabelEncoder()\n",
    "y_train_label=le.fit_transform(y_train)\n",
    "y_test_label=le.transform(y_test)"
   ]
  },
  {
   "cell_type": "code",
   "execution_count": 42,
   "metadata": {},
   "outputs": [],
   "source": [
    "encode=ColumnTransformer([\n",
    "    ('ohe',OneHotEncoder(sparse_output=False,handle_unknown='error',drop='first'),['Occupation','Payment_of_Min_Amount','Payment_Behaviour']),\n",
    "    ('oe',OrdinalEncoder(categories=[['Bad', 'Standard', 'Good']]),['Credit_Mix'])\n",
    "],remainder='passthrough')"
   ]
  },
  {
   "cell_type": "code",
   "execution_count": 43,
   "metadata": {},
   "outputs": [
    {
     "data": {
      "text/plain": [
       "(10000, 49)"
      ]
     },
     "execution_count": 43,
     "metadata": {},
     "output_type": "execute_result"
    }
   ],
   "source": [
    "xx=encode.fit_transform(x_train)\n",
    "xx.shape"
   ]
  },
  {
   "cell_type": "code",
   "execution_count": 44,
   "metadata": {},
   "outputs": [],
   "source": [
    "scale=ColumnTransformer([\n",
    "    ('scaler',StandardScaler(),slice(0,50))\n",
    "],remainder='passthrough')"
   ]
  },
  {
   "cell_type": "code",
   "execution_count": 45,
   "metadata": {},
   "outputs": [],
   "source": [
    "transform=ColumnTransformer([\n",
    "    ('yeo',PowerTransformer(method='yeo-johnson'),slice(0,50))\n",
    "],remainder='passthrough')"
   ]
  },
  {
   "cell_type": "code",
   "execution_count": 49,
   "metadata": {},
   "outputs": [],
   "source": [
    "pipe=make_pipeline(encode,scale,transform)"
   ]
  },
  {
   "cell_type": "code",
   "execution_count": 50,
   "metadata": {},
   "outputs": [],
   "source": [
    "x_train_tr=pipe.fit_transform(x_train)\n",
    "x_test_tr=pipe.transform(x_test)"
   ]
  },
  {
   "cell_type": "code",
   "execution_count": 214,
   "metadata": {},
   "outputs": [],
   "source": [
    "from sklearn.linear_model import LogisticRegression\n",
    "from sklearn.tree import DecisionTreeClassifier\n",
    "from sklearn.naive_bayes import GaussianNB\n",
    "from sklearn.neighbors import KNeighborsClassifier\n",
    "from sklearn.ensemble import StackingClassifier,VotingClassifier,RandomForestClassifier,GradientBoostingClassifier\n",
    "from sklearn.metrics import classification_report,accuracy_score,confusion_matrix\n",
    "from sklearn.decomposition import PCA\n",
    "import xgboost as xgb\n",
    "from catboost import CatBoostClassifier"
   ]
  },
  {
   "cell_type": "code",
   "execution_count": 181,
   "metadata": {},
   "outputs": [],
   "source": [
    "pca=PCA(n_components=45)\n",
    "x_train_pca=pca.fit_transform(x_train_tr)\n",
    "x_test_pca=pca.transform(x_test_tr)"
   ]
  },
  {
   "cell_type": "code",
   "execution_count": 187,
   "metadata": {},
   "outputs": [
    {
     "data": {
      "text/plain": [
       "0.6108"
      ]
     },
     "execution_count": 187,
     "metadata": {},
     "output_type": "execute_result"
    }
   ],
   "source": [
    "tree=DecisionTreeClassifier()\n",
    "tree.fit(x_train_pca,y_train_label)\n",
    "y_pred_tr=tree.predict(x_test_pca)\n",
    "accuracy_score(y_test_label,y_pred_tr)"
   ]
  },
  {
   "cell_type": "code",
   "execution_count": 192,
   "metadata": {},
   "outputs": [
    {
     "name": "stdout",
     "output_type": "stream",
     "text": [
      "XGBoost Accuracy: 0.72\n",
      "              precision    recall  f1-score   support\n",
      "\n",
      "           0       0.66      0.70      0.68       518\n",
      "           1       0.75      0.72      0.73       822\n",
      "           2       0.74      0.74      0.74      1160\n",
      "\n",
      "    accuracy                           0.72      2500\n",
      "   macro avg       0.71      0.72      0.72      2500\n",
      "weighted avg       0.72      0.72      0.72      2500\n",
      "\n"
     ]
    }
   ],
   "source": [
    "\n",
    "xgb_clf = xgb.XGBClassifier(use_label_encoder=False, eval_metric='mlogloss')\n",
    "xgb_clf.fit(x_train_pca,y_train_label)\n",
    "y_pred_xgb = xgb_clf.predict(x_test_pca)\n",
    "\n",
    "# Evaluate the model\n",
    "accuracy = accuracy_score(y_test_label,y_pred_xgb)\n",
    "print(f\"XGBoost Accuracy: {accuracy:.2f}\")\n",
    "print(classification_report(y_test_label,y_pred_xgb))"
   ]
  },
  {
   "cell_type": "code",
   "execution_count": 195,
   "metadata": {},
   "outputs": [
    {
     "name": "stdout",
     "output_type": "stream",
     "text": [
      "              precision    recall  f1-score   support\n",
      "\n",
      "           0       0.60      0.79      0.68       518\n",
      "           1       0.69      0.73      0.71       822\n",
      "           2       0.77      0.64      0.70      1160\n",
      "\n",
      "    accuracy                           0.70      2500\n",
      "   macro avg       0.69      0.72      0.70      2500\n",
      "weighted avg       0.71      0.70      0.70      2500\n",
      "\n"
     ]
    }
   ],
   "source": [
    "gb=GaussianNB()\n",
    "gb.fit(x_train_pca,y_train_label)\n",
    "y_pred_gb=gb.predict(x_test_pca)\n",
    "accuracy_score(y_test_label,y_pred_gb)\n",
    "print(classification_report(y_test_label,y_pred_gb))"
   ]
  },
  {
   "cell_type": "code",
   "execution_count": 194,
   "metadata": {},
   "outputs": [
    {
     "name": "stdout",
     "output_type": "stream",
     "text": [
      "KNN Accuracy: 0.63\n",
      "              precision    recall  f1-score   support\n",
      "\n",
      "           0       0.54      0.60      0.57       518\n",
      "           1       0.66      0.66      0.66       822\n",
      "           2       0.67      0.63      0.65      1160\n",
      "\n",
      "    accuracy                           0.63      2500\n",
      "   macro avg       0.62      0.63      0.62      2500\n",
      "weighted avg       0.64      0.63      0.64      2500\n",
      "\n"
     ]
    }
   ],
   "source": [
    "\n",
    "knn_clf = KNeighborsClassifier()\n",
    "knn_clf.fit(x_train_pca,y_train_label)\n",
    "y_pred_knn = knn_clf.predict(x_test_pca)\n",
    "\n",
    "# Evaluate the model\n",
    "accuracy1 = accuracy_score(y_test_label,y_pred_knn)\n",
    "print(f\"KNN Accuracy: {accuracy1:.2f}\")\n",
    "print(classification_report(y_test_label,y_pred_knn))"
   ]
  },
  {
   "cell_type": "code",
   "execution_count": 212,
   "metadata": {},
   "outputs": [
    {
     "name": "stdout",
     "output_type": "stream",
     "text": [
      "Random Forest Accuracy: 0.72\n",
      "              precision    recall  f1-score   support\n",
      "\n",
      "           0       0.64      0.71      0.67       518\n",
      "           1       0.74      0.73      0.73       822\n",
      "           2       0.75      0.71      0.73      1160\n",
      "\n",
      "    accuracy                           0.72      2500\n",
      "   macro avg       0.71      0.72      0.71      2500\n",
      "weighted avg       0.72      0.72      0.72      2500\n",
      "\n"
     ]
    }
   ],
   "source": [
    "\n",
    "rf_clf = RandomForestClassifier()\n",
    "rf_clf.fit(x_train_pca,y_train_label)\n",
    "y_pred_rf = rf_clf.predict(x_test_pca)\n",
    "\n",
    "# Evaluate the model\n",
    "accuracy2 = accuracy_score(y_test_label,y_pred_rf)\n",
    "print(f\"Random Forest Accuracy: {accuracy2:.2f}\")\n",
    "print(classification_report(y_test_label,y_pred_rf))"
   ]
  },
  {
   "cell_type": "code",
   "execution_count": 203,
   "metadata": {},
   "outputs": [
    {
     "name": "stdout",
     "output_type": "stream",
     "text": [
      "Logistic Regression Accuracy: 0.71\n",
      "              precision    recall  f1-score   support\n",
      "\n",
      "           0       0.64      0.76      0.70       518\n",
      "           1       0.71      0.69      0.70       822\n",
      "           2       0.75      0.70      0.72      1160\n",
      "\n",
      "    accuracy                           0.71      2500\n",
      "   macro avg       0.70      0.72      0.71      2500\n",
      "weighted avg       0.72      0.71      0.71      2500\n",
      "\n"
     ]
    }
   ],
   "source": [
    "\n",
    "lr_clf = LogisticRegression()\n",
    "lr_clf.fit(x_train_pca,y_train_label)\n",
    "y_pred_lr = lr_clf.predict(x_test_pca)\n",
    "\n",
    "# Evaluate the model\n",
    "accuracy = accuracy_score(y_test_label,y_pred_lr)\n",
    "print(f\"Logistic Regression Accuracy: {accuracy:.2f}\")\n",
    "print(classification_report(y_test_label,y_pred_lr))"
   ]
  },
  {
   "cell_type": "code",
   "execution_count": 204,
   "metadata": {},
   "outputs": [
    {
     "name": "stdout",
     "output_type": "stream",
     "text": [
      "Gradiant Boosting Accuracy: 0.71\n",
      "              precision    recall  f1-score   support\n",
      "\n",
      "           0       0.63      0.75      0.68       518\n",
      "           1       0.75      0.73      0.74       822\n",
      "           2       0.76      0.72      0.74      1160\n",
      "\n",
      "    accuracy                           0.73      2500\n",
      "   macro avg       0.72      0.73      0.72      2500\n",
      "weighted avg       0.73      0.73      0.73      2500\n",
      "\n"
     ]
    }
   ],
   "source": [
    "\n",
    "gb_clf = GradientBoostingClassifier()\n",
    "gb_clf.fit(x_train_pca,y_train_label)\n",
    "y_pred_gb = gb_clf.predict(x_test_pca)\n",
    "\n",
    "# Evaluate the model\n",
    "accuracy = accuracy_score(y_test_label,y_pred_lr)\n",
    "print(f\"Gradiant Boosting Accuracy: {accuracy:.2f}\")\n",
    "print(classification_report(y_test_label,y_pred_gb))"
   ]
  },
  {
   "cell_type": "code",
   "execution_count": 207,
   "metadata": {},
   "outputs": [],
   "source": [
    "estmator=[('lr1',lr_clf),('tree1',tree),('xgb',xgb_clf),('gb1',gb),('rf',rf_clf)]"
   ]
  },
  {
   "cell_type": "code",
   "execution_count": 209,
   "metadata": {},
   "outputs": [
    {
     "name": "stdout",
     "output_type": "stream",
     "text": [
      "Voting Classifier Accuracy: 0.72\n",
      "              precision    recall  f1-score   support\n",
      "\n",
      "           0       0.64      0.72      0.68       518\n",
      "           1       0.73      0.73      0.73       822\n",
      "           2       0.75      0.71      0.73      1160\n",
      "\n",
      "    accuracy                           0.72      2500\n",
      "   macro avg       0.71      0.72      0.71      2500\n",
      "weighted avg       0.72      0.72      0.72      2500\n",
      "\n"
     ]
    }
   ],
   "source": [
    "vc=VotingClassifier(estimators=estmator,voting='soft',n_jobs=-1)\n",
    "vc.fit(x_train_pca,y_train_label)\n",
    "y_pred_vc = vc.predict(x_test_pca)\n",
    "\n",
    "# Evaluate the model\n",
    "accuracy = accuracy_score(y_test_label,y_pred_vc)\n",
    "print(f\"Voting Classifier Accuracy: {accuracy:.2f}\")\n",
    "print(classification_report(y_test_label,y_pred_vc))"
   ]
  },
  {
   "cell_type": "code",
   "execution_count": 210,
   "metadata": {},
   "outputs": [
    {
     "name": "stdout",
     "output_type": "stream",
     "text": [
      "Stacking Classifier Accuracy: 0.73\n",
      "              precision    recall  f1-score   support\n",
      "\n",
      "           0       0.65      0.73      0.69       518\n",
      "           1       0.75      0.71      0.73       822\n",
      "           2       0.75      0.74      0.74      1160\n",
      "\n",
      "    accuracy                           0.73      2500\n",
      "   macro avg       0.72      0.73      0.72      2500\n",
      "weighted avg       0.73      0.73      0.73      2500\n",
      "\n"
     ]
    }
   ],
   "source": [
    "sc=StackingClassifier(estimators=estmator,final_estimator=xgb_clf,n_jobs=-1)\n",
    "sc.fit(x_train_pca,y_train_label)\n",
    "y_pred_sc = sc.predict(x_test_pca)\n",
    "\n",
    "# Evaluate the model\n",
    "accuracy = accuracy_score(y_test_label,y_pred_sc)\n",
    "print(f\"Stacking Classifier Accuracy: {accuracy:.2f}\")\n",
    "print(classification_report(y_test_label,y_pred_sc))"
   ]
  },
  {
   "cell_type": "code",
   "execution_count": 238,
   "metadata": {},
   "outputs": [
    {
     "name": "stdout",
     "output_type": "stream",
     "text": [
      "CatBoost Accuracy: 0.74\n",
      "              precision    recall  f1-score   support\n",
      "\n",
      "           0       0.65      0.79      0.71       518\n",
      "           1       0.75      0.74      0.75       822\n",
      "           2       0.78      0.71      0.75      1160\n",
      "\n",
      "    accuracy                           0.74      2500\n",
      "   macro avg       0.73      0.75      0.73      2500\n",
      "weighted avg       0.74      0.74      0.74      2500\n",
      "\n"
     ]
    }
   ],
   "source": [
    "cat_clf = CatBoostClassifier(iterations=200, learning_rate=0.1, depth=6, verbose=0)\n",
    "\n",
    "cat_clf.fit(x_train_pca,y_train_label)\n",
    "y_pred_cat = cat_clf.predict(x_test_pca)\n",
    "\n",
    "accuracy = accuracy_score(y_test_label, y_pred_cat)\n",
    "print(f\"CatBoost Accuracy: {accuracy:.2f}\")\n",
    "print(classification_report(y_test_label,y_pred_cat))"
   ]
  },
  {
   "cell_type": "code",
   "execution_count": 235,
   "metadata": {},
   "outputs": [],
   "source": [
    "pipe=make_pipeline(encode,scale,transform,cat_clf)"
   ]
  },
  {
   "cell_type": "code",
   "execution_count": 236,
   "metadata": {},
   "outputs": [
    {
     "name": "stdout",
     "output_type": "stream",
     "text": [
      "CatBoost Accuracy: 0.76\n",
      "              precision    recall  f1-score   support\n",
      "\n",
      "           0       0.65      0.79      0.71       518\n",
      "           1       0.79      0.77      0.78       822\n",
      "           2       0.80      0.74      0.77      1160\n",
      "\n",
      "    accuracy                           0.76      2500\n",
      "   macro avg       0.75      0.76      0.75      2500\n",
      "weighted avg       0.76      0.76      0.76      2500\n",
      "\n"
     ]
    }
   ],
   "source": [
    "pipe.fit(x_train,y_train_label)\n",
    "y_pred_cat1=pipe.predict(x_test)\n",
    "accuracy = accuracy_score(y_test_label, y_pred_cat1)\n",
    "print(f\"CatBoost Accuracy: {accuracy:.2f}\")\n",
    "print(classification_report(y_test_label,y_pred_cat1))"
   ]
  },
  {
   "cell_type": "code",
   "execution_count": 241,
   "metadata": {},
   "outputs": [
    {
     "data": {
      "text/plain": [
       "['credit_score_model.joblib']"
      ]
     },
     "execution_count": 241,
     "metadata": {},
     "output_type": "execute_result"
    }
   ],
   "source": [
    "import joblib\n",
    "\n",
    "joblib.dump(pipe, 'credit_score_model.joblib')\n"
   ]
  },
  {
   "cell_type": "code",
   "execution_count": null,
   "metadata": {},
   "outputs": [],
   "source": []
  }
 ],
 "metadata": {
  "kernelspec": {
   "display_name": "tf-cpu",
   "language": "python",
   "name": "python3"
  },
  "language_info": {
   "codemirror_mode": {
    "name": "ipython",
    "version": 3
   },
   "file_extension": ".py",
   "mimetype": "text/x-python",
   "name": "python",
   "nbconvert_exporter": "python",
   "pygments_lexer": "ipython3",
   "version": "3.12.3"
  }
 },
 "nbformat": 4,
 "nbformat_minor": 2
}
