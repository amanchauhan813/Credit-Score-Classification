{
 "cells": [
  {
   "cell_type": "code",
   "execution_count": 10,
   "metadata": {},
   "outputs": [],
   "source": [
    "import pandas as pd\n",
    "import numpy as np\n",
    "import matplotlib.pyplot as plt\n",
    "import seaborn as sns"
   ]
  },
  {
   "cell_type": "code",
   "execution_count": 11,
   "metadata": {},
   "outputs": [],
   "source": [
    "path='C:\\\\Users\\\\amanc\\\\Desktop\\\\python new project\\\\Machine Learning\\\\Credit Score Classification\\\\data\\\\train.csv'\n",
    "# dtype={'Age':'int64',\n",
    "#        'Annual_Income':'float64', 'Monthly_Inhand_Salary':'float64', 'Num_Bank_Accounts':'int64',\n",
    "#        'Num_Credit_Card':'int64', 'Interest_Rate':'float64', 'Num_of_Loan':'int64',\n",
    "#        'Delay_from_due_date':'int64', 'Num_of_Delayed_Payment':'int64', 'Changed_Credit_Limit':'float64',\n",
    "#        'Num_Credit_Inquiries':'int64', 'Outstanding_Debt':'float64',\n",
    "#        'Credit_Utilization_Ratio':'float64',\n",
    "#        'Payment_of_Min_Amount':'category', 'Total_EMI_per_month':'float64',\n",
    "#        'Amount_invested_monthly':'float64', 'Monthly_Balance':'float64'\n",
    "#        }\n",
    "data=pd.read_csv(path, low_memory=False)\n"
   ]
  },
  {
   "cell_type": "code",
   "execution_count": 12,
   "metadata": {},
   "outputs": [
    {
     "data": {
      "text/html": [
       "<div>\n",
       "<style scoped>\n",
       "    .dataframe tbody tr th:only-of-type {\n",
       "        vertical-align: middle;\n",
       "    }\n",
       "\n",
       "    .dataframe tbody tr th {\n",
       "        vertical-align: top;\n",
       "    }\n",
       "\n",
       "    .dataframe thead th {\n",
       "        text-align: right;\n",
       "    }\n",
       "</style>\n",
       "<table border=\"1\" class=\"dataframe\">\n",
       "  <thead>\n",
       "    <tr style=\"text-align: right;\">\n",
       "      <th></th>\n",
       "      <th>ID</th>\n",
       "      <th>Customer_ID</th>\n",
       "      <th>Month</th>\n",
       "      <th>Name</th>\n",
       "      <th>Age</th>\n",
       "      <th>SSN</th>\n",
       "      <th>Occupation</th>\n",
       "      <th>Annual_Income</th>\n",
       "      <th>Monthly_Inhand_Salary</th>\n",
       "      <th>Num_Bank_Accounts</th>\n",
       "      <th>...</th>\n",
       "      <th>Credit_Mix</th>\n",
       "      <th>Outstanding_Debt</th>\n",
       "      <th>Credit_Utilization_Ratio</th>\n",
       "      <th>Credit_History_Age</th>\n",
       "      <th>Payment_of_Min_Amount</th>\n",
       "      <th>Total_EMI_per_month</th>\n",
       "      <th>Amount_invested_monthly</th>\n",
       "      <th>Payment_Behaviour</th>\n",
       "      <th>Monthly_Balance</th>\n",
       "      <th>Credit_Score</th>\n",
       "    </tr>\n",
       "  </thead>\n",
       "  <tbody>\n",
       "    <tr>\n",
       "      <th>0</th>\n",
       "      <td>0x1602</td>\n",
       "      <td>CUS_0xd40</td>\n",
       "      <td>January</td>\n",
       "      <td>Aaron Maashoh</td>\n",
       "      <td>23</td>\n",
       "      <td>821-00-0265</td>\n",
       "      <td>Scientist</td>\n",
       "      <td>19114.12</td>\n",
       "      <td>1824.843333</td>\n",
       "      <td>3</td>\n",
       "      <td>...</td>\n",
       "      <td>_</td>\n",
       "      <td>809.98</td>\n",
       "      <td>26.822620</td>\n",
       "      <td>22 Years and 1 Months</td>\n",
       "      <td>No</td>\n",
       "      <td>49.574949</td>\n",
       "      <td>80.41529543900253</td>\n",
       "      <td>High_spent_Small_value_payments</td>\n",
       "      <td>312.49408867943663</td>\n",
       "      <td>Good</td>\n",
       "    </tr>\n",
       "    <tr>\n",
       "      <th>1</th>\n",
       "      <td>0x1603</td>\n",
       "      <td>CUS_0xd40</td>\n",
       "      <td>February</td>\n",
       "      <td>Aaron Maashoh</td>\n",
       "      <td>23</td>\n",
       "      <td>821-00-0265</td>\n",
       "      <td>Scientist</td>\n",
       "      <td>19114.12</td>\n",
       "      <td>NaN</td>\n",
       "      <td>3</td>\n",
       "      <td>...</td>\n",
       "      <td>Good</td>\n",
       "      <td>809.98</td>\n",
       "      <td>31.944960</td>\n",
       "      <td>NaN</td>\n",
       "      <td>No</td>\n",
       "      <td>49.574949</td>\n",
       "      <td>118.28022162236736</td>\n",
       "      <td>Low_spent_Large_value_payments</td>\n",
       "      <td>284.62916249607184</td>\n",
       "      <td>Good</td>\n",
       "    </tr>\n",
       "    <tr>\n",
       "      <th>2</th>\n",
       "      <td>0x1604</td>\n",
       "      <td>CUS_0xd40</td>\n",
       "      <td>March</td>\n",
       "      <td>Aaron Maashoh</td>\n",
       "      <td>-500</td>\n",
       "      <td>821-00-0265</td>\n",
       "      <td>Scientist</td>\n",
       "      <td>19114.12</td>\n",
       "      <td>NaN</td>\n",
       "      <td>3</td>\n",
       "      <td>...</td>\n",
       "      <td>Good</td>\n",
       "      <td>809.98</td>\n",
       "      <td>28.609352</td>\n",
       "      <td>22 Years and 3 Months</td>\n",
       "      <td>No</td>\n",
       "      <td>49.574949</td>\n",
       "      <td>81.699521264648</td>\n",
       "      <td>Low_spent_Medium_value_payments</td>\n",
       "      <td>331.2098628537912</td>\n",
       "      <td>Good</td>\n",
       "    </tr>\n",
       "    <tr>\n",
       "      <th>3</th>\n",
       "      <td>0x1605</td>\n",
       "      <td>CUS_0xd40</td>\n",
       "      <td>April</td>\n",
       "      <td>Aaron Maashoh</td>\n",
       "      <td>23</td>\n",
       "      <td>821-00-0265</td>\n",
       "      <td>Scientist</td>\n",
       "      <td>19114.12</td>\n",
       "      <td>NaN</td>\n",
       "      <td>3</td>\n",
       "      <td>...</td>\n",
       "      <td>Good</td>\n",
       "      <td>809.98</td>\n",
       "      <td>31.377862</td>\n",
       "      <td>22 Years and 4 Months</td>\n",
       "      <td>No</td>\n",
       "      <td>49.574949</td>\n",
       "      <td>199.4580743910713</td>\n",
       "      <td>Low_spent_Small_value_payments</td>\n",
       "      <td>223.45130972736786</td>\n",
       "      <td>Good</td>\n",
       "    </tr>\n",
       "    <tr>\n",
       "      <th>4</th>\n",
       "      <td>0x1606</td>\n",
       "      <td>CUS_0xd40</td>\n",
       "      <td>May</td>\n",
       "      <td>Aaron Maashoh</td>\n",
       "      <td>23</td>\n",
       "      <td>821-00-0265</td>\n",
       "      <td>Scientist</td>\n",
       "      <td>19114.12</td>\n",
       "      <td>1824.843333</td>\n",
       "      <td>3</td>\n",
       "      <td>...</td>\n",
       "      <td>Good</td>\n",
       "      <td>809.98</td>\n",
       "      <td>24.797347</td>\n",
       "      <td>22 Years and 5 Months</td>\n",
       "      <td>No</td>\n",
       "      <td>49.574949</td>\n",
       "      <td>41.420153086217326</td>\n",
       "      <td>High_spent_Medium_value_payments</td>\n",
       "      <td>341.48923103222177</td>\n",
       "      <td>Good</td>\n",
       "    </tr>\n",
       "  </tbody>\n",
       "</table>\n",
       "<p>5 rows × 28 columns</p>\n",
       "</div>"
      ],
      "text/plain": [
       "       ID Customer_ID     Month           Name   Age          SSN Occupation  \\\n",
       "0  0x1602   CUS_0xd40   January  Aaron Maashoh    23  821-00-0265  Scientist   \n",
       "1  0x1603   CUS_0xd40  February  Aaron Maashoh    23  821-00-0265  Scientist   \n",
       "2  0x1604   CUS_0xd40     March  Aaron Maashoh  -500  821-00-0265  Scientist   \n",
       "3  0x1605   CUS_0xd40     April  Aaron Maashoh    23  821-00-0265  Scientist   \n",
       "4  0x1606   CUS_0xd40       May  Aaron Maashoh    23  821-00-0265  Scientist   \n",
       "\n",
       "  Annual_Income  Monthly_Inhand_Salary  Num_Bank_Accounts  ...  Credit_Mix  \\\n",
       "0      19114.12            1824.843333                  3  ...           _   \n",
       "1      19114.12                    NaN                  3  ...        Good   \n",
       "2      19114.12                    NaN                  3  ...        Good   \n",
       "3      19114.12                    NaN                  3  ...        Good   \n",
       "4      19114.12            1824.843333                  3  ...        Good   \n",
       "\n",
       "   Outstanding_Debt Credit_Utilization_Ratio     Credit_History_Age  \\\n",
       "0            809.98                26.822620  22 Years and 1 Months   \n",
       "1            809.98                31.944960                    NaN   \n",
       "2            809.98                28.609352  22 Years and 3 Months   \n",
       "3            809.98                31.377862  22 Years and 4 Months   \n",
       "4            809.98                24.797347  22 Years and 5 Months   \n",
       "\n",
       "   Payment_of_Min_Amount Total_EMI_per_month Amount_invested_monthly  \\\n",
       "0                     No           49.574949       80.41529543900253   \n",
       "1                     No           49.574949      118.28022162236736   \n",
       "2                     No           49.574949         81.699521264648   \n",
       "3                     No           49.574949       199.4580743910713   \n",
       "4                     No           49.574949      41.420153086217326   \n",
       "\n",
       "                  Payment_Behaviour     Monthly_Balance Credit_Score  \n",
       "0   High_spent_Small_value_payments  312.49408867943663         Good  \n",
       "1    Low_spent_Large_value_payments  284.62916249607184         Good  \n",
       "2   Low_spent_Medium_value_payments   331.2098628537912         Good  \n",
       "3    Low_spent_Small_value_payments  223.45130972736786         Good  \n",
       "4  High_spent_Medium_value_payments  341.48923103222177         Good  \n",
       "\n",
       "[5 rows x 28 columns]"
      ]
     },
     "execution_count": 12,
     "metadata": {},
     "output_type": "execute_result"
    }
   ],
   "source": [
    "data.head(5)"
   ]
  },
  {
   "cell_type": "code",
   "execution_count": 13,
   "metadata": {},
   "outputs": [
    {
     "data": {
      "text/plain": [
       "(100000, 28)"
      ]
     },
     "execution_count": 13,
     "metadata": {},
     "output_type": "execute_result"
    }
   ],
   "source": [
    "data.shape"
   ]
  },
  {
   "cell_type": "code",
   "execution_count": 14,
   "metadata": {},
   "outputs": [
    {
     "name": "stdout",
     "output_type": "stream",
     "text": [
      "<class 'pandas.core.frame.DataFrame'>\n",
      "RangeIndex: 100000 entries, 0 to 99999\n",
      "Data columns (total 28 columns):\n",
      " #   Column                    Non-Null Count   Dtype  \n",
      "---  ------                    --------------   -----  \n",
      " 0   ID                        100000 non-null  object \n",
      " 1   Customer_ID               100000 non-null  object \n",
      " 2   Month                     100000 non-null  object \n",
      " 3   Name                      90015 non-null   object \n",
      " 4   Age                       100000 non-null  object \n",
      " 5   SSN                       100000 non-null  object \n",
      " 6   Occupation                100000 non-null  object \n",
      " 7   Annual_Income             100000 non-null  object \n",
      " 8   Monthly_Inhand_Salary     84998 non-null   float64\n",
      " 9   Num_Bank_Accounts         100000 non-null  int64  \n",
      " 10  Num_Credit_Card           100000 non-null  int64  \n",
      " 11  Interest_Rate             100000 non-null  int64  \n",
      " 12  Num_of_Loan               100000 non-null  object \n",
      " 13  Type_of_Loan              88592 non-null   object \n",
      " 14  Delay_from_due_date       100000 non-null  int64  \n",
      " 15  Num_of_Delayed_Payment    92998 non-null   object \n",
      " 16  Changed_Credit_Limit      100000 non-null  object \n",
      " 17  Num_Credit_Inquiries      98035 non-null   float64\n",
      " 18  Credit_Mix                100000 non-null  object \n",
      " 19  Outstanding_Debt          100000 non-null  object \n",
      " 20  Credit_Utilization_Ratio  100000 non-null  float64\n",
      " 21  Credit_History_Age        90970 non-null   object \n",
      " 22  Payment_of_Min_Amount     100000 non-null  object \n",
      " 23  Total_EMI_per_month       100000 non-null  float64\n",
      " 24  Amount_invested_monthly   95521 non-null   object \n",
      " 25  Payment_Behaviour         100000 non-null  object \n",
      " 26  Monthly_Balance           98800 non-null   object \n",
      " 27  Credit_Score              100000 non-null  object \n",
      "dtypes: float64(4), int64(4), object(20)\n",
      "memory usage: 21.4+ MB\n"
     ]
    }
   ],
   "source": [
    "data.info()"
   ]
  },
  {
   "cell_type": "code",
   "execution_count": 15,
   "metadata": {},
   "outputs": [
    {
     "data": {
      "text/plain": [
       "ID                              0\n",
       "Customer_ID                     0\n",
       "Month                           0\n",
       "Name                         9985\n",
       "Age                             0\n",
       "SSN                             0\n",
       "Occupation                      0\n",
       "Annual_Income                   0\n",
       "Monthly_Inhand_Salary       15002\n",
       "Num_Bank_Accounts               0\n",
       "Num_Credit_Card                 0\n",
       "Interest_Rate                   0\n",
       "Num_of_Loan                     0\n",
       "Type_of_Loan                11408\n",
       "Delay_from_due_date             0\n",
       "Num_of_Delayed_Payment       7002\n",
       "Changed_Credit_Limit            0\n",
       "Num_Credit_Inquiries         1965\n",
       "Credit_Mix                      0\n",
       "Outstanding_Debt                0\n",
       "Credit_Utilization_Ratio        0\n",
       "Credit_History_Age           9030\n",
       "Payment_of_Min_Amount           0\n",
       "Total_EMI_per_month             0\n",
       "Amount_invested_monthly      4479\n",
       "Payment_Behaviour               0\n",
       "Monthly_Balance              1200\n",
       "Credit_Score                    0\n",
       "dtype: int64"
      ]
     },
     "execution_count": 15,
     "metadata": {},
     "output_type": "execute_result"
    }
   ],
   "source": [
    "data.isnull().sum()"
   ]
  },
  {
   "cell_type": "code",
   "execution_count": 16,
   "metadata": {},
   "outputs": [
    {
     "data": {
      "text/plain": [
       "ID                          100000\n",
       "Customer_ID                  12500\n",
       "Month                            8\n",
       "Name                         10139\n",
       "Age                           1788\n",
       "SSN                          12501\n",
       "Occupation                      16\n",
       "Annual_Income                18940\n",
       "Monthly_Inhand_Salary        13235\n",
       "Num_Bank_Accounts              943\n",
       "Num_Credit_Card               1179\n",
       "Interest_Rate                 1750\n",
       "Num_of_Loan                    434\n",
       "Type_of_Loan                  6260\n",
       "Delay_from_due_date             73\n",
       "Num_of_Delayed_Payment         749\n",
       "Changed_Credit_Limit          4384\n",
       "Num_Credit_Inquiries          1223\n",
       "Credit_Mix                       4\n",
       "Outstanding_Debt             13178\n",
       "Credit_Utilization_Ratio    100000\n",
       "Credit_History_Age             404\n",
       "Payment_of_Min_Amount            3\n",
       "Total_EMI_per_month          14950\n",
       "Amount_invested_monthly      91049\n",
       "Payment_Behaviour                7\n",
       "Monthly_Balance              98792\n",
       "Credit_Score                     3\n",
       "dtype: int64"
      ]
     },
     "execution_count": 16,
     "metadata": {},
     "output_type": "execute_result"
    }
   ],
   "source": [
    "data.nunique()"
   ]
  },
  {
   "cell_type": "code",
   "execution_count": 17,
   "metadata": {},
   "outputs": [
    {
     "data": {
      "text/plain": [
       "87500"
      ]
     },
     "execution_count": 17,
     "metadata": {},
     "output_type": "execute_result"
    }
   ],
   "source": [
    "data['Customer_ID'].duplicated().sum()\n",
    "#shows that one person has multiple data "
   ]
  },
  {
   "cell_type": "code",
   "execution_count": 18,
   "metadata": {},
   "outputs": [
    {
     "data": {
      "text/html": [
       "<div>\n",
       "<style scoped>\n",
       "    .dataframe tbody tr th:only-of-type {\n",
       "        vertical-align: middle;\n",
       "    }\n",
       "\n",
       "    .dataframe tbody tr th {\n",
       "        vertical-align: top;\n",
       "    }\n",
       "\n",
       "    .dataframe thead th {\n",
       "        text-align: right;\n",
       "    }\n",
       "</style>\n",
       "<table border=\"1\" class=\"dataframe\">\n",
       "  <thead>\n",
       "    <tr style=\"text-align: right;\">\n",
       "      <th></th>\n",
       "      <th>Monthly_Inhand_Salary</th>\n",
       "      <th>Num_Bank_Accounts</th>\n",
       "      <th>Num_Credit_Card</th>\n",
       "      <th>Interest_Rate</th>\n",
       "      <th>Delay_from_due_date</th>\n",
       "      <th>Num_Credit_Inquiries</th>\n",
       "      <th>Credit_Utilization_Ratio</th>\n",
       "      <th>Total_EMI_per_month</th>\n",
       "    </tr>\n",
       "  </thead>\n",
       "  <tbody>\n",
       "    <tr>\n",
       "      <th>count</th>\n",
       "      <td>84998.000000</td>\n",
       "      <td>100000.000000</td>\n",
       "      <td>100000.00000</td>\n",
       "      <td>100000.000000</td>\n",
       "      <td>100000.000000</td>\n",
       "      <td>98035.000000</td>\n",
       "      <td>100000.000000</td>\n",
       "      <td>100000.000000</td>\n",
       "    </tr>\n",
       "    <tr>\n",
       "      <th>mean</th>\n",
       "      <td>4194.170850</td>\n",
       "      <td>17.091280</td>\n",
       "      <td>22.47443</td>\n",
       "      <td>72.466040</td>\n",
       "      <td>21.068780</td>\n",
       "      <td>27.754251</td>\n",
       "      <td>32.285173</td>\n",
       "      <td>1403.118217</td>\n",
       "    </tr>\n",
       "    <tr>\n",
       "      <th>std</th>\n",
       "      <td>3183.686167</td>\n",
       "      <td>117.404834</td>\n",
       "      <td>129.05741</td>\n",
       "      <td>466.422621</td>\n",
       "      <td>14.860104</td>\n",
       "      <td>193.177339</td>\n",
       "      <td>5.116875</td>\n",
       "      <td>8306.041270</td>\n",
       "    </tr>\n",
       "    <tr>\n",
       "      <th>min</th>\n",
       "      <td>303.645417</td>\n",
       "      <td>-1.000000</td>\n",
       "      <td>0.00000</td>\n",
       "      <td>1.000000</td>\n",
       "      <td>-5.000000</td>\n",
       "      <td>0.000000</td>\n",
       "      <td>20.000000</td>\n",
       "      <td>0.000000</td>\n",
       "    </tr>\n",
       "    <tr>\n",
       "      <th>25%</th>\n",
       "      <td>1625.568229</td>\n",
       "      <td>3.000000</td>\n",
       "      <td>4.00000</td>\n",
       "      <td>8.000000</td>\n",
       "      <td>10.000000</td>\n",
       "      <td>3.000000</td>\n",
       "      <td>28.052567</td>\n",
       "      <td>30.306660</td>\n",
       "    </tr>\n",
       "    <tr>\n",
       "      <th>50%</th>\n",
       "      <td>3093.745000</td>\n",
       "      <td>6.000000</td>\n",
       "      <td>5.00000</td>\n",
       "      <td>13.000000</td>\n",
       "      <td>18.000000</td>\n",
       "      <td>6.000000</td>\n",
       "      <td>32.305784</td>\n",
       "      <td>69.249473</td>\n",
       "    </tr>\n",
       "    <tr>\n",
       "      <th>75%</th>\n",
       "      <td>5957.448333</td>\n",
       "      <td>7.000000</td>\n",
       "      <td>7.00000</td>\n",
       "      <td>20.000000</td>\n",
       "      <td>28.000000</td>\n",
       "      <td>9.000000</td>\n",
       "      <td>36.496663</td>\n",
       "      <td>161.224249</td>\n",
       "    </tr>\n",
       "    <tr>\n",
       "      <th>max</th>\n",
       "      <td>15204.633333</td>\n",
       "      <td>1798.000000</td>\n",
       "      <td>1499.00000</td>\n",
       "      <td>5797.000000</td>\n",
       "      <td>67.000000</td>\n",
       "      <td>2597.000000</td>\n",
       "      <td>50.000000</td>\n",
       "      <td>82331.000000</td>\n",
       "    </tr>\n",
       "  </tbody>\n",
       "</table>\n",
       "</div>"
      ],
      "text/plain": [
       "       Monthly_Inhand_Salary  Num_Bank_Accounts  Num_Credit_Card  \\\n",
       "count           84998.000000      100000.000000     100000.00000   \n",
       "mean             4194.170850          17.091280         22.47443   \n",
       "std              3183.686167         117.404834        129.05741   \n",
       "min               303.645417          -1.000000          0.00000   \n",
       "25%              1625.568229           3.000000          4.00000   \n",
       "50%              3093.745000           6.000000          5.00000   \n",
       "75%              5957.448333           7.000000          7.00000   \n",
       "max             15204.633333        1798.000000       1499.00000   \n",
       "\n",
       "       Interest_Rate  Delay_from_due_date  Num_Credit_Inquiries  \\\n",
       "count  100000.000000        100000.000000          98035.000000   \n",
       "mean       72.466040            21.068780             27.754251   \n",
       "std       466.422621            14.860104            193.177339   \n",
       "min         1.000000            -5.000000              0.000000   \n",
       "25%         8.000000            10.000000              3.000000   \n",
       "50%        13.000000            18.000000              6.000000   \n",
       "75%        20.000000            28.000000              9.000000   \n",
       "max      5797.000000            67.000000           2597.000000   \n",
       "\n",
       "       Credit_Utilization_Ratio  Total_EMI_per_month  \n",
       "count             100000.000000        100000.000000  \n",
       "mean                  32.285173          1403.118217  \n",
       "std                    5.116875          8306.041270  \n",
       "min                   20.000000             0.000000  \n",
       "25%                   28.052567            30.306660  \n",
       "50%                   32.305784            69.249473  \n",
       "75%                   36.496663           161.224249  \n",
       "max                   50.000000         82331.000000  "
      ]
     },
     "execution_count": 18,
     "metadata": {},
     "output_type": "execute_result"
    }
   ],
   "source": [
    "data.describe()"
   ]
  },
  {
   "cell_type": "code",
   "execution_count": 19,
   "metadata": {},
   "outputs": [
    {
     "data": {
      "text/html": [
       "<div>\n",
       "<style scoped>\n",
       "    .dataframe tbody tr th:only-of-type {\n",
       "        vertical-align: middle;\n",
       "    }\n",
       "\n",
       "    .dataframe tbody tr th {\n",
       "        vertical-align: top;\n",
       "    }\n",
       "\n",
       "    .dataframe thead th {\n",
       "        text-align: right;\n",
       "    }\n",
       "</style>\n",
       "<table border=\"1\" class=\"dataframe\">\n",
       "  <thead>\n",
       "    <tr style=\"text-align: right;\">\n",
       "      <th></th>\n",
       "      <th>ID</th>\n",
       "      <th>Customer_ID</th>\n",
       "      <th>Month</th>\n",
       "      <th>Name</th>\n",
       "      <th>Age</th>\n",
       "      <th>SSN</th>\n",
       "      <th>Occupation</th>\n",
       "      <th>Annual_Income</th>\n",
       "      <th>Monthly_Inhand_Salary</th>\n",
       "      <th>Num_Bank_Accounts</th>\n",
       "      <th>...</th>\n",
       "      <th>Credit_Mix</th>\n",
       "      <th>Outstanding_Debt</th>\n",
       "      <th>Credit_Utilization_Ratio</th>\n",
       "      <th>Credit_History_Age</th>\n",
       "      <th>Payment_of_Min_Amount</th>\n",
       "      <th>Total_EMI_per_month</th>\n",
       "      <th>Amount_invested_monthly</th>\n",
       "      <th>Payment_Behaviour</th>\n",
       "      <th>Monthly_Balance</th>\n",
       "      <th>Credit_Score</th>\n",
       "    </tr>\n",
       "  </thead>\n",
       "  <tbody>\n",
       "    <tr>\n",
       "      <th>99995</th>\n",
       "      <td>0x25fe9</td>\n",
       "      <td>CUS_0x942c</td>\n",
       "      <td>April</td>\n",
       "      <td>Nicks</td>\n",
       "      <td>25</td>\n",
       "      <td>078-73-5990</td>\n",
       "      <td>Mechanic</td>\n",
       "      <td>39628.99</td>\n",
       "      <td>3359.415833</td>\n",
       "      <td>4</td>\n",
       "      <td>...</td>\n",
       "      <td>_</td>\n",
       "      <td>502.38</td>\n",
       "      <td>34.663572</td>\n",
       "      <td>31 Years and 6 Months</td>\n",
       "      <td>No</td>\n",
       "      <td>35.104023</td>\n",
       "      <td>60.97133255718485</td>\n",
       "      <td>High_spent_Large_value_payments</td>\n",
       "      <td>479.86622816574095</td>\n",
       "      <td>Poor</td>\n",
       "    </tr>\n",
       "    <tr>\n",
       "      <th>99996</th>\n",
       "      <td>0x25fea</td>\n",
       "      <td>CUS_0x942c</td>\n",
       "      <td>May</td>\n",
       "      <td>Nicks</td>\n",
       "      <td>25</td>\n",
       "      <td>078-73-5990</td>\n",
       "      <td>Mechanic</td>\n",
       "      <td>39628.99</td>\n",
       "      <td>3359.415833</td>\n",
       "      <td>4</td>\n",
       "      <td>...</td>\n",
       "      <td>_</td>\n",
       "      <td>502.38</td>\n",
       "      <td>40.565631</td>\n",
       "      <td>31 Years and 7 Months</td>\n",
       "      <td>No</td>\n",
       "      <td>35.104023</td>\n",
       "      <td>54.18595028760385</td>\n",
       "      <td>High_spent_Medium_value_payments</td>\n",
       "      <td>496.651610435322</td>\n",
       "      <td>Poor</td>\n",
       "    </tr>\n",
       "    <tr>\n",
       "      <th>99997</th>\n",
       "      <td>0x25feb</td>\n",
       "      <td>CUS_0x942c</td>\n",
       "      <td>June</td>\n",
       "      <td>Nicks</td>\n",
       "      <td>25</td>\n",
       "      <td>078-73-5990</td>\n",
       "      <td>Mechanic</td>\n",
       "      <td>39628.99</td>\n",
       "      <td>3359.415833</td>\n",
       "      <td>4</td>\n",
       "      <td>...</td>\n",
       "      <td>Good</td>\n",
       "      <td>502.38</td>\n",
       "      <td>41.255522</td>\n",
       "      <td>31 Years and 8 Months</td>\n",
       "      <td>No</td>\n",
       "      <td>35.104023</td>\n",
       "      <td>24.02847744864441</td>\n",
       "      <td>High_spent_Large_value_payments</td>\n",
       "      <td>516.8090832742814</td>\n",
       "      <td>Poor</td>\n",
       "    </tr>\n",
       "    <tr>\n",
       "      <th>99998</th>\n",
       "      <td>0x25fec</td>\n",
       "      <td>CUS_0x942c</td>\n",
       "      <td>July</td>\n",
       "      <td>Nicks</td>\n",
       "      <td>25</td>\n",
       "      <td>078-73-5990</td>\n",
       "      <td>Mechanic</td>\n",
       "      <td>39628.99</td>\n",
       "      <td>3359.415833</td>\n",
       "      <td>4</td>\n",
       "      <td>...</td>\n",
       "      <td>Good</td>\n",
       "      <td>502.38</td>\n",
       "      <td>33.638208</td>\n",
       "      <td>31 Years and 9 Months</td>\n",
       "      <td>No</td>\n",
       "      <td>35.104023</td>\n",
       "      <td>251.67258219721603</td>\n",
       "      <td>Low_spent_Large_value_payments</td>\n",
       "      <td>319.1649785257098</td>\n",
       "      <td>Standard</td>\n",
       "    </tr>\n",
       "    <tr>\n",
       "      <th>99999</th>\n",
       "      <td>0x25fed</td>\n",
       "      <td>CUS_0x942c</td>\n",
       "      <td>August</td>\n",
       "      <td>Nicks</td>\n",
       "      <td>25</td>\n",
       "      <td>078-73-5990</td>\n",
       "      <td>Mechanic</td>\n",
       "      <td>39628.99_</td>\n",
       "      <td>3359.415833</td>\n",
       "      <td>4</td>\n",
       "      <td>...</td>\n",
       "      <td>Good</td>\n",
       "      <td>502.38</td>\n",
       "      <td>34.192463</td>\n",
       "      <td>31 Years and 10 Months</td>\n",
       "      <td>No</td>\n",
       "      <td>35.104023</td>\n",
       "      <td>167.1638651610451</td>\n",
       "      <td>!@9#%8</td>\n",
       "      <td>393.6736955618808</td>\n",
       "      <td>Poor</td>\n",
       "    </tr>\n",
       "  </tbody>\n",
       "</table>\n",
       "<p>5 rows × 28 columns</p>\n",
       "</div>"
      ],
      "text/plain": [
       "            ID Customer_ID   Month   Name Age          SSN Occupation  \\\n",
       "99995  0x25fe9  CUS_0x942c   April  Nicks  25  078-73-5990   Mechanic   \n",
       "99996  0x25fea  CUS_0x942c     May  Nicks  25  078-73-5990   Mechanic   \n",
       "99997  0x25feb  CUS_0x942c    June  Nicks  25  078-73-5990   Mechanic   \n",
       "99998  0x25fec  CUS_0x942c    July  Nicks  25  078-73-5990   Mechanic   \n",
       "99999  0x25fed  CUS_0x942c  August  Nicks  25  078-73-5990   Mechanic   \n",
       "\n",
       "      Annual_Income  Monthly_Inhand_Salary  Num_Bank_Accounts  ...  \\\n",
       "99995      39628.99            3359.415833                  4  ...   \n",
       "99996      39628.99            3359.415833                  4  ...   \n",
       "99997      39628.99            3359.415833                  4  ...   \n",
       "99998      39628.99            3359.415833                  4  ...   \n",
       "99999     39628.99_            3359.415833                  4  ...   \n",
       "\n",
       "       Credit_Mix  Outstanding_Debt Credit_Utilization_Ratio  \\\n",
       "99995           _            502.38                34.663572   \n",
       "99996           _            502.38                40.565631   \n",
       "99997        Good            502.38                41.255522   \n",
       "99998        Good            502.38                33.638208   \n",
       "99999        Good            502.38                34.192463   \n",
       "\n",
       "           Credit_History_Age  Payment_of_Min_Amount Total_EMI_per_month  \\\n",
       "99995   31 Years and 6 Months                     No           35.104023   \n",
       "99996   31 Years and 7 Months                     No           35.104023   \n",
       "99997   31 Years and 8 Months                     No           35.104023   \n",
       "99998   31 Years and 9 Months                     No           35.104023   \n",
       "99999  31 Years and 10 Months                     No           35.104023   \n",
       "\n",
       "      Amount_invested_monthly                 Payment_Behaviour  \\\n",
       "99995       60.97133255718485   High_spent_Large_value_payments   \n",
       "99996       54.18595028760385  High_spent_Medium_value_payments   \n",
       "99997       24.02847744864441   High_spent_Large_value_payments   \n",
       "99998      251.67258219721603    Low_spent_Large_value_payments   \n",
       "99999       167.1638651610451                            !@9#%8   \n",
       "\n",
       "          Monthly_Balance Credit_Score  \n",
       "99995  479.86622816574095         Poor  \n",
       "99996    496.651610435322         Poor  \n",
       "99997   516.8090832742814         Poor  \n",
       "99998   319.1649785257098     Standard  \n",
       "99999   393.6736955618808         Poor  \n",
       "\n",
       "[5 rows x 28 columns]"
      ]
     },
     "execution_count": 19,
     "metadata": {},
     "output_type": "execute_result"
    }
   ],
   "source": [
    "data.tail(5)"
   ]
  },
  {
   "cell_type": "code",
   "execution_count": 20,
   "metadata": {},
   "outputs": [],
   "source": [
    "# age1=data['Age'].unique()\n",
    "# for i in age1:\n",
    "#     print(i)"
   ]
  },
  {
   "cell_type": "code",
   "execution_count": 21,
   "metadata": {},
   "outputs": [],
   "source": [
    "data['Age']=data['Age'].str.replace('_','')\n",
    "data['Age']=data['Age'].str.replace('-','')\n",
    "data['Age'] = [int(x) for x in data['Age']]\n"
   ]
  },
  {
   "cell_type": "code",
   "execution_count": 22,
   "metadata": {},
   "outputs": [
    {
     "data": {
      "text/plain": [
       "dtype('int64')"
      ]
     },
     "execution_count": 22,
     "metadata": {},
     "output_type": "execute_result"
    }
   ],
   "source": [
    "data['Age'].dtype"
   ]
  },
  {
   "cell_type": "code",
   "execution_count": 23,
   "metadata": {},
   "outputs": [],
   "source": [
    "# for index in range(len(data)):\n",
    "    #     current_customer_id = data.loc[index, 'Customer_ID']\n",
    "        \n",
    "    #     # Initialize next and previous customer IDs\n",
    "    #     next_customer_id = data.loc[index + 1, 'Customer_ID'] if index < len(data) - 1 else None\n",
    "    #     previous_customer_id = data.loc[index - 1, 'Customer_ID'] if index > 0 else None\n",
    "        \n",
    "    #     # First check\n",
    "    #     if data.loc[index, 'Age'] > 56:\n",
    "    #         if previous_customer_id is not None and current_customer_id == previous_customer_id:\n",
    "    #             data.loc[index, 'Age'] = data.loc[index - 1, 'Age']\n",
    "    #         elif next_customer_id is not None and current_customer_id == next_customer_id:\n",
    "    #             data.loc[index, 'Age'] = data.loc[index + 1, 'Age']\n",
    "\n",
    "    #     # Second check (Reverse Order)\n",
    "    #     if data.loc[index, 'Age'] > 56:\n",
    "    #         if next_customer_id is not None and current_customer_id == next_customer_id:\n",
    "    #             data.loc[index, 'Age'] = data.loc[index + 1, 'Age']\n",
    "    #         elif previous_customer_id is not None and current_customer_id == previous_customer_id:\n",
    "    #             data.loc[index, 'Age'] = data.loc[index - 1, 'Age']\n"
   ]
  },
  {
   "cell_type": "code",
   "execution_count": 24,
   "metadata": {},
   "outputs": [],
   "source": [
    "def fill_values(column_name, data, threshold):\n",
    "    for index in range(len(data)):\n",
    "        current_value = data.loc[index, 'Customer_ID']\n",
    "\n",
    "        next_value = data.loc[index + 1, 'Customer_ID'] if index < len(data) - 1 else None\n",
    "        previous_value = data.loc[index - 1, 'Customer_ID'] if index > 0 else None\n",
    "\n",
    "        # First check\n",
    "        if data.loc[index, column_name] > threshold:\n",
    "            if previous_value is not None and current_value == previous_value:\n",
    "                data.loc[index, column_name] = data.loc[index - 1, column_name]\n",
    "            elif next_value is not None and current_value == next_value:\n",
    "                data.loc[index, column_name] = data.loc[index + 1, column_name]\n",
    "\n",
    "        # Second check (Reverse Order)\n",
    "        if data.loc[index, column_name] > threshold:\n",
    "            if next_value is not None and current_value == next_value:\n",
    "                data.loc[index, column_name] = data.loc[index + 1, column_name]\n",
    "            elif previous_value is not None and current_value == previous_value:\n",
    "                data.loc[index, column_name] = data.loc[index - 1, column_name]\n",
    "\n",
    "    return data"
   ]
  },
  {
   "cell_type": "code",
   "execution_count": 25,
   "metadata": {},
   "outputs": [],
   "source": [
    "def fill_values2(column_name, data, threshold):\n",
    "    for index in range(len(data)):\n",
    "        current_value = data.loc[index, 'Customer_ID']\n",
    "\n",
    "        next_value = data.loc[index + 1, 'Customer_ID'] if index < len(data) - 1 else None\n",
    "        previous_value = data.loc[index - 1, 'Customer_ID'] if index > 0 else None\n",
    "\n",
    "        # First check\n",
    "        if data.loc[index, column_name] == threshold:\n",
    "            if previous_value is not None and current_value == previous_value:\n",
    "                data.loc[index, column_name] = data.loc[index - 1, column_name]\n",
    "            elif next_value is not None and current_value == next_value:\n",
    "                data.loc[index, column_name] = data.loc[index + 1, column_name]\n",
    "\n",
    "        # Second check (Reverse Order)\n",
    "        if data.loc[index, column_name] == threshold:\n",
    "            if next_value is not None and current_value == next_value:\n",
    "                data.loc[index, column_name] = data.loc[index + 1, column_name]\n",
    "            elif previous_value is not None and current_value == previous_value:\n",
    "                data.loc[index, column_name] = data.loc[index - 1, column_name]\n",
    "\n",
    "    return data"
   ]
  },
  {
   "cell_type": "code",
   "execution_count": 26,
   "metadata": {},
   "outputs": [],
   "source": [
    "for i in range(2):\n",
    "    data = fill_values('Age', data, 56)\n",
    "    "
   ]
  },
  {
   "cell_type": "code",
   "execution_count": 27,
   "metadata": {},
   "outputs": [],
   "source": [
    "# age2=data['Age'].unique()\n",
    "# for i in age2:\n",
    "#     print(i)"
   ]
  },
  {
   "cell_type": "code",
   "execution_count": 28,
   "metadata": {},
   "outputs": [],
   "source": [
    "data['SSN']=data['SSN'].str.replace('-','')\n",
    "data['SSN']=data['SSN'].str.replace('#F%$D@*&8','1')  # #F%$D@*&8 is value in SSN which is replace by 1 so that all col. can be converted into integer\n",
    "data['SSN'] = [int(x) for x in data['SSN']]"
   ]
  },
  {
   "cell_type": "code",
   "execution_count": 29,
   "metadata": {},
   "outputs": [],
   "source": [
    "for i in range(3):\n",
    "    for index in range(len(data)):\n",
    "        current_value = data.loc[index, 'Customer_ID']\n",
    "\n",
    "        next_value = data.loc[index + 1, 'Customer_ID'] if index < len(data) - 1 else None\n",
    "        previous_value = data.loc[index - 1, 'Customer_ID'] if index > 0 else None\n",
    "\n",
    "        # First check\n",
    "        if data.loc[index, 'SSN'] == 1:\n",
    "            if next_value is not None and current_value == next_value:\n",
    "                data.loc[index, 'SSN'] = data.loc[index + 1, 'SSN']\n",
    "            elif previous_value is not None and current_value == previous_value:\n",
    "                data.loc[index, 'SSN'] = data.loc[index - 1, 'SSN']\n",
    "            \n",
    "\n",
    "        # Second check (Reverse Order)\n",
    "        \n",
    "        if data.loc[index, 'SSN'] == 1:\n",
    "            if previous_value is not None and current_value == previous_value:\n",
    "                data.loc[index, 'SSN'] = data.loc[index - 1, 'SSN']\n",
    "            elif next_value is not None and current_value == next_value:\n",
    "                data.loc[index, 'SSN'] = data.loc[index + 1, 'SSN']\n",
    "\n",
    "\n"
   ]
  },
  {
   "cell_type": "code",
   "execution_count": 30,
   "metadata": {},
   "outputs": [],
   "source": [
    "#data=fill_values2('SSN',data,1)"
   ]
  },
  {
   "cell_type": "code",
   "execution_count": 31,
   "metadata": {},
   "outputs": [
    {
     "data": {
      "text/html": [
       "<div>\n",
       "<style scoped>\n",
       "    .dataframe tbody tr th:only-of-type {\n",
       "        vertical-align: middle;\n",
       "    }\n",
       "\n",
       "    .dataframe tbody tr th {\n",
       "        vertical-align: top;\n",
       "    }\n",
       "\n",
       "    .dataframe thead th {\n",
       "        text-align: right;\n",
       "    }\n",
       "</style>\n",
       "<table border=\"1\" class=\"dataframe\">\n",
       "  <thead>\n",
       "    <tr style=\"text-align: right;\">\n",
       "      <th></th>\n",
       "      <th>ID</th>\n",
       "      <th>Customer_ID</th>\n",
       "      <th>Month</th>\n",
       "      <th>Name</th>\n",
       "      <th>Age</th>\n",
       "      <th>SSN</th>\n",
       "      <th>Occupation</th>\n",
       "      <th>Annual_Income</th>\n",
       "      <th>Monthly_Inhand_Salary</th>\n",
       "      <th>Num_Bank_Accounts</th>\n",
       "      <th>...</th>\n",
       "      <th>Credit_Mix</th>\n",
       "      <th>Outstanding_Debt</th>\n",
       "      <th>Credit_Utilization_Ratio</th>\n",
       "      <th>Credit_History_Age</th>\n",
       "      <th>Payment_of_Min_Amount</th>\n",
       "      <th>Total_EMI_per_month</th>\n",
       "      <th>Amount_invested_monthly</th>\n",
       "      <th>Payment_Behaviour</th>\n",
       "      <th>Monthly_Balance</th>\n",
       "      <th>Credit_Score</th>\n",
       "    </tr>\n",
       "  </thead>\n",
       "  <tbody>\n",
       "  </tbody>\n",
       "</table>\n",
       "<p>0 rows × 28 columns</p>\n",
       "</div>"
      ],
      "text/plain": [
       "Empty DataFrame\n",
       "Columns: [ID, Customer_ID, Month, Name, Age, SSN, Occupation, Annual_Income, Monthly_Inhand_Salary, Num_Bank_Accounts, Num_Credit_Card, Interest_Rate, Num_of_Loan, Type_of_Loan, Delay_from_due_date, Num_of_Delayed_Payment, Changed_Credit_Limit, Num_Credit_Inquiries, Credit_Mix, Outstanding_Debt, Credit_Utilization_Ratio, Credit_History_Age, Payment_of_Min_Amount, Total_EMI_per_month, Amount_invested_monthly, Payment_Behaviour, Monthly_Balance, Credit_Score]\n",
       "Index: []\n",
       "\n",
       "[0 rows x 28 columns]"
      ]
     },
     "execution_count": 31,
     "metadata": {},
     "output_type": "execute_result"
    }
   ],
   "source": [
    "data[data['SSN']==1]"
   ]
  },
  {
   "cell_type": "code",
   "execution_count": 32,
   "metadata": {},
   "outputs": [
    {
     "data": {
      "text/plain": [
       "array(['Scientist', '_______', 'Teacher', 'Engineer', 'Entrepreneur',\n",
       "       'Developer', 'Lawyer', 'Media_Manager', 'Doctor', 'Journalist',\n",
       "       'Manager', 'Accountant', 'Musician', 'Mechanic', 'Writer',\n",
       "       'Architect'], dtype=object)"
      ]
     },
     "execution_count": 32,
     "metadata": {},
     "output_type": "execute_result"
    }
   ],
   "source": [
    "data['Occupation'].unique()\n"
   ]
  },
  {
   "cell_type": "code",
   "execution_count": 33,
   "metadata": {},
   "outputs": [],
   "source": [
    "data['Occupation']=data['Occupation'].str.replace('_______','None')"
   ]
  },
  {
   "cell_type": "code",
   "execution_count": 34,
   "metadata": {},
   "outputs": [],
   "source": [
    "for i in range(3):\n",
    "    data = fill_values2('Occupation', data,'None')"
   ]
  },
  {
   "cell_type": "code",
   "execution_count": 35,
   "metadata": {},
   "outputs": [
    {
     "data": {
      "text/plain": [
       "array(['Scientist', 'Teacher', 'Engineer', 'Entrepreneur', 'Developer',\n",
       "       'Lawyer', 'Media_Manager', 'Doctor', 'Journalist', 'Manager',\n",
       "       'Accountant', 'Musician', 'Mechanic', 'Writer', 'Architect'],\n",
       "      dtype=object)"
      ]
     },
     "execution_count": 35,
     "metadata": {},
     "output_type": "execute_result"
    }
   ],
   "source": [
    "data['Occupation'].unique()"
   ]
  },
  {
   "cell_type": "code",
   "execution_count": 36,
   "metadata": {},
   "outputs": [],
   "source": [
    "\n",
    "data['Annual_Income']=data['Annual_Income'].str.replace('_','')\n",
    "\n",
    "data['Annual_Income']=[float(x) for x in data['Annual_Income']]\n",
    "data['Annual_Income']=data['Annual_Income'].apply(lambda x: f\"{x:.2f}\")\n",
    "data['Annual_Income']=[float(x) for x in data['Annual_Income']]"
   ]
  },
  {
   "cell_type": "code",
   "execution_count": 37,
   "metadata": {},
   "outputs": [
    {
     "data": {
      "text/plain": [
       "15002"
      ]
     },
     "execution_count": 37,
     "metadata": {},
     "output_type": "execute_result"
    }
   ],
   "source": [
    "data['Monthly_Inhand_Salary'].isnull().sum()"
   ]
  },
  {
   "cell_type": "code",
   "execution_count": 38,
   "metadata": {},
   "outputs": [
    {
     "name": "stderr",
     "output_type": "stream",
     "text": [
      "C:\\Users\\amanc\\AppData\\Local\\Temp\\ipykernel_2984\\2251128497.py:1: FutureWarning: A value is trying to be set on a copy of a DataFrame or Series through chained assignment using an inplace method.\n",
      "The behavior will change in pandas 3.0. This inplace method will never work because the intermediate object on which we are setting values always behaves as a copy.\n",
      "\n",
      "For example, when doing 'df[col].method(value, inplace=True)', try using 'df.method({col: value}, inplace=True)' or df[col] = df[col].method(value) instead, to perform the operation inplace on the original object.\n",
      "\n",
      "\n",
      "  data['Monthly_Inhand_Salary'].fillna(0,inplace=True)\n"
     ]
    }
   ],
   "source": [
    "\n",
    "data['Monthly_Inhand_Salary'].fillna(0,inplace=True)\n",
    "data['Monthly_Inhand_Salary']=data['Monthly_Inhand_Salary'].apply(lambda x: f\"{x:.2f}\")\n",
    "data['Monthly_Inhand_Salary']=[str(x) for x in data['Monthly_Inhand_Salary']] #changing into str because cannot fill values on float datatype"
   ]
  },
  {
   "cell_type": "code",
   "execution_count": 39,
   "metadata": {},
   "outputs": [],
   "source": [
    "for i in range(5):\n",
    "    data=fill_values2('Monthly_Inhand_Salary',data,'0.00')\n",
    "# for index in range(len(data)):\n",
    "#     current_value=data.loc[index,'Customer_ID']\n",
    "\n",
    "#     next_value=data.loc[index+1,'Customer_ID'] if index < len(data)-1 else None\n",
    "#     previous_value=data.loc[index-1,'Customer_ID'] if index > 0 else None\n",
    "    \n",
    "#     # First check\n",
    "#     if data.loc[index,'Monthly_Inhand_Salary'] == '0.00':\n",
    "\n",
    "#         if previous_value is not None and current_value == previous_value:\n",
    "#             data.loc[index,'Monthly_Inhand_Salary'] = data.loc[index-1,'Monthly_Inhand_Salary']\n",
    "#         elif next_value is not None and current_value == next_value:\n",
    "#             data.loc[index,'Monthly_Inhand_Salary'] = data.loc[index+1,'Monthly_Inhand_Salary']\n",
    "        \n",
    "    \n",
    "#     # Second check (Reverse Order)\n",
    "#     if data.loc[index,'Monthly_Inhand_Salary']== '0.00':\n",
    "#         if next_value is not None and current_value == next_value:\n",
    "#             data.loc[index,'Monthly_Inhand_Salary'] = data.loc[index+1,'Monthly_Inhand_Salary']\n",
    "#         elif previous_value is not None and current_value == previous_value:\n",
    "#             data.loc[index,'Monthly_Inhand_Salary'] = data.loc[index-1,'Monthly_Inhand_Salary']\n",
    "        \n",
    "        "
   ]
  },
  {
   "cell_type": "code",
   "execution_count": 40,
   "metadata": {},
   "outputs": [],
   "source": [
    "data['Monthly_Inhand_Salary']=[float(x) for x in data['Monthly_Inhand_Salary']] "
   ]
  },
  {
   "cell_type": "code",
   "execution_count": 41,
   "metadata": {},
   "outputs": [
    {
     "data": {
      "text/html": [
       "<div>\n",
       "<style scoped>\n",
       "    .dataframe tbody tr th:only-of-type {\n",
       "        vertical-align: middle;\n",
       "    }\n",
       "\n",
       "    .dataframe tbody tr th {\n",
       "        vertical-align: top;\n",
       "    }\n",
       "\n",
       "    .dataframe thead th {\n",
       "        text-align: right;\n",
       "    }\n",
       "</style>\n",
       "<table border=\"1\" class=\"dataframe\">\n",
       "  <thead>\n",
       "    <tr style=\"text-align: right;\">\n",
       "      <th></th>\n",
       "      <th>ID</th>\n",
       "      <th>Customer_ID</th>\n",
       "      <th>Month</th>\n",
       "      <th>Name</th>\n",
       "      <th>Age</th>\n",
       "      <th>SSN</th>\n",
       "      <th>Occupation</th>\n",
       "      <th>Annual_Income</th>\n",
       "      <th>Monthly_Inhand_Salary</th>\n",
       "      <th>Num_Bank_Accounts</th>\n",
       "      <th>...</th>\n",
       "      <th>Credit_Mix</th>\n",
       "      <th>Outstanding_Debt</th>\n",
       "      <th>Credit_Utilization_Ratio</th>\n",
       "      <th>Credit_History_Age</th>\n",
       "      <th>Payment_of_Min_Amount</th>\n",
       "      <th>Total_EMI_per_month</th>\n",
       "      <th>Amount_invested_monthly</th>\n",
       "      <th>Payment_Behaviour</th>\n",
       "      <th>Monthly_Balance</th>\n",
       "      <th>Credit_Score</th>\n",
       "    </tr>\n",
       "  </thead>\n",
       "  <tbody>\n",
       "  </tbody>\n",
       "</table>\n",
       "<p>0 rows × 28 columns</p>\n",
       "</div>"
      ],
      "text/plain": [
       "Empty DataFrame\n",
       "Columns: [ID, Customer_ID, Month, Name, Age, SSN, Occupation, Annual_Income, Monthly_Inhand_Salary, Num_Bank_Accounts, Num_Credit_Card, Interest_Rate, Num_of_Loan, Type_of_Loan, Delay_from_due_date, Num_of_Delayed_Payment, Changed_Credit_Limit, Num_Credit_Inquiries, Credit_Mix, Outstanding_Debt, Credit_Utilization_Ratio, Credit_History_Age, Payment_of_Min_Amount, Total_EMI_per_month, Amount_invested_monthly, Payment_Behaviour, Monthly_Balance, Credit_Score]\n",
       "Index: []\n",
       "\n",
       "[0 rows x 28 columns]"
      ]
     },
     "execution_count": 41,
     "metadata": {},
     "output_type": "execute_result"
    }
   ],
   "source": [
    "data[data['Monthly_Inhand_Salary']=='0.00']\n",
    "   #\n"
   ]
  },
  {
   "cell_type": "code",
   "execution_count": 42,
   "metadata": {},
   "outputs": [],
   "source": [
    "#data.to_csv('output.csv')\n"
   ]
  },
  {
   "cell_type": "code",
   "execution_count": 43,
   "metadata": {},
   "outputs": [],
   "source": [
    "# data['Num_Bank_Accounts'].unique()"
   ]
  },
  {
   "cell_type": "code",
   "execution_count": 44,
   "metadata": {},
   "outputs": [],
   "source": [
    "data['Num_Bank_Accounts']=data['Num_Bank_Accounts'].replace(-1,20)"
   ]
  },
  {
   "cell_type": "code",
   "execution_count": 45,
   "metadata": {},
   "outputs": [],
   "source": [
    "for i in range(2):\n",
    "    for index in range(len(data)):\n",
    "        current_value=data.loc[index,'Customer_ID']\n",
    "\n",
    "        next_value=data.loc[index+1,'Customer_ID'] if index < len(data)-1 else None\n",
    "        previous_value=data.loc[index-1,'Customer_ID'] if index > 0 else None\n",
    "        \n",
    "        # First check\n",
    "\n",
    "        if data.loc[index,'Num_Bank_Accounts']>10:\n",
    "                if next_value is not None and current_value == next_value:\n",
    "                    data.loc[index,'Num_Bank_Accounts'] = data.loc[index+1,'Num_Bank_Accounts']\n",
    "                elif previous_value is not None and current_value == previous_value:\n",
    "                    data.loc[index,'Num_Bank_Accounts'] = data.loc[index-1,'Num_Bank_Accounts']\n",
    "        \n",
    "        # Second check (Reverse Order)\n",
    "        if data.loc[index,'Num_Bank_Accounts'] > 10:\n",
    "            if previous_value is not None and current_value == previous_value:\n",
    "                data.loc[index,'Num_Bank_Accounts'] = data.loc[index-1,'Num_Bank_Accounts']\n",
    "            elif next_value is not None and current_value == next_value:\n",
    "                data.loc[index,'Num_Bank_Accounts'] = data.loc[index+1,'Num_Bank_Accounts']\n",
    "        \n",
    "        "
   ]
  },
  {
   "cell_type": "code",
   "execution_count": 46,
   "metadata": {},
   "outputs": [
    {
     "data": {
      "text/plain": [
       "array([ 3,  2,  1,  7,  4,  0,  8,  5,  6,  9, 10], dtype=int64)"
      ]
     },
     "execution_count": 46,
     "metadata": {},
     "output_type": "execute_result"
    }
   ],
   "source": [
    "data['Num_Bank_Accounts'].unique()"
   ]
  },
  {
   "cell_type": "code",
   "execution_count": 47,
   "metadata": {},
   "outputs": [
    {
     "data": {
      "text/plain": [
       "<Axes: ylabel='count'>"
      ]
     },
     "execution_count": 47,
     "metadata": {},
     "output_type": "execute_result"
    },
    {
     "data": {
      "image/png": "[encoded data removed]",
      "text/plain": [
       "<Figure size 640x480 with 1 Axes>"
      ]
     },
     "metadata": {},
     "output_type": "display_data"
    }
   ],
   "source": [
    "data['Num_Credit_Card'].value_counts().plot(kind='pie', autopct='%1.1f%%')"
   ]
  },
  {
   "cell_type": "code",
   "execution_count": 48,
   "metadata": {},
   "outputs": [],
   "source": [
    "# card=data['Num_Credit_Card'].unique()\n",
    "# for i in np.sort(card):\n",
    "# #     print(i)\n",
    "# for index,value in enumerate(data['Num_Credit_Card'].value_counts()):\n",
    "#     print(index,value)"
   ]
  },
  {
   "cell_type": "code",
   "execution_count": 49,
   "metadata": {},
   "outputs": [],
   "source": [
    "for i in range(2):\n",
    "    data = fill_values('Num_Credit_Card', data, 9)\n"
   ]
  },
  {
   "cell_type": "code",
   "execution_count": 50,
   "metadata": {},
   "outputs": [],
   "source": [
    "# for i in range(2):\n",
    "#     for index in range(len(data)):\n",
    "#         current_value=data.loc[index,'Customer_ID']\n",
    "\n",
    "#         next_value=data.loc[index+1,'Customer_ID'] if index < len(data)-1 else None\n",
    "#         previous_value=data.loc[index-1,'Customer_ID'] if index > 0 else None\n",
    "        \n",
    "#         # First check\n",
    "#         if data.loc[index,'Num_Credit_Card'] > 10:\n",
    "#             if previous_value is not None and current_value == previous_value:\n",
    "#                 data.loc[index,'Num_Credit_Card'] = data.loc[index-1,'Num_Credit_Card']\n",
    "#             elif next_value is not None and current_value == next_value:\n",
    "#                 data.loc[index,'Num_Credit_Card'] = data.loc[index+1,'Num_Credit_Card']\n",
    "        \n",
    "#         # Second check (Reverse Order)\n",
    "#         if data.loc[index,'Num_Credit_Card']>10:\n",
    "#                 if next_value is not None and current_value == next_value:\n",
    "#                     data.loc[index,'Num_Credit_Card'] = data.loc[index+1,'Num_Credit_Card']\n",
    "#                 elif previous_value is not None and current_value == previous_value:\n",
    "#                     data.loc[index,'Num_Credit_Card'] = data.loc[index-1,'Num_Credit_Card']"
   ]
  },
  {
   "cell_type": "code",
   "execution_count": 51,
   "metadata": {},
   "outputs": [],
   "source": [
    "# a=data['Interest_Rate'].unique()\n",
    "# for i in np.sort(a):\n",
    "#     print(i)"
   ]
  },
  {
   "cell_type": "code",
   "execution_count": 52,
   "metadata": {},
   "outputs": [],
   "source": [
    "for i in range(6):\n",
    "    data=fill_values('Interest_Rate',data,34)\n"
   ]
  },
  {
   "cell_type": "code",
   "execution_count": 53,
   "metadata": {},
   "outputs": [
    {
     "data": {
      "text/html": [
       "<div>\n",
       "<style scoped>\n",
       "    .dataframe tbody tr th:only-of-type {\n",
       "        vertical-align: middle;\n",
       "    }\n",
       "\n",
       "    .dataframe tbody tr th {\n",
       "        vertical-align: top;\n",
       "    }\n",
       "\n",
       "    .dataframe thead th {\n",
       "        text-align: right;\n",
       "    }\n",
       "</style>\n",
       "<table border=\"1\" class=\"dataframe\">\n",
       "  <thead>\n",
       "    <tr style=\"text-align: right;\">\n",
       "      <th></th>\n",
       "      <th>ID</th>\n",
       "      <th>Customer_ID</th>\n",
       "      <th>Month</th>\n",
       "      <th>Name</th>\n",
       "      <th>Age</th>\n",
       "      <th>SSN</th>\n",
       "      <th>Occupation</th>\n",
       "      <th>Annual_Income</th>\n",
       "      <th>Monthly_Inhand_Salary</th>\n",
       "      <th>Num_Bank_Accounts</th>\n",
       "      <th>...</th>\n",
       "      <th>Credit_Mix</th>\n",
       "      <th>Outstanding_Debt</th>\n",
       "      <th>Credit_Utilization_Ratio</th>\n",
       "      <th>Credit_History_Age</th>\n",
       "      <th>Payment_of_Min_Amount</th>\n",
       "      <th>Total_EMI_per_month</th>\n",
       "      <th>Amount_invested_monthly</th>\n",
       "      <th>Payment_Behaviour</th>\n",
       "      <th>Monthly_Balance</th>\n",
       "      <th>Credit_Score</th>\n",
       "    </tr>\n",
       "  </thead>\n",
       "  <tbody>\n",
       "  </tbody>\n",
       "</table>\n",
       "<p>0 rows × 28 columns</p>\n",
       "</div>"
      ],
      "text/plain": [
       "Empty DataFrame\n",
       "Columns: [ID, Customer_ID, Month, Name, Age, SSN, Occupation, Annual_Income, Monthly_Inhand_Salary, Num_Bank_Accounts, Num_Credit_Card, Interest_Rate, Num_of_Loan, Type_of_Loan, Delay_from_due_date, Num_of_Delayed_Payment, Changed_Credit_Limit, Num_Credit_Inquiries, Credit_Mix, Outstanding_Debt, Credit_Utilization_Ratio, Credit_History_Age, Payment_of_Min_Amount, Total_EMI_per_month, Amount_invested_monthly, Payment_Behaviour, Monthly_Balance, Credit_Score]\n",
       "Index: []\n",
       "\n",
       "[0 rows x 28 columns]"
      ]
     },
     "execution_count": 53,
     "metadata": {},
     "output_type": "execute_result"
    }
   ],
   "source": [
    "data[data['Interest_Rate']>34]"
   ]
  },
  {
   "cell_type": "code",
   "execution_count": 54,
   "metadata": {},
   "outputs": [],
   "source": [
    "data['Num_of_Loan']=data['Num_of_Loan'].str.replace('-','') #data contain -100 and 0_ or _2\n",
    "data['Num_of_Loan']=data['Num_of_Loan'].str.replace('_','')\n",
    "data['Num_of_Loan']=[int(x) for x in data['Num_of_Loan']] #converting into integer"
   ]
  },
  {
   "cell_type": "code",
   "execution_count": 55,
   "metadata": {},
   "outputs": [
    {
     "data": {
      "text/plain": [
       "15087      7\n",
       "11620      8\n",
       "91246      5\n",
       "79094      8\n",
       "87019    100\n",
       "58970      2\n",
       "21128      0\n",
       "69535      0\n",
       "1092       3\n",
       "35648      2\n",
       "Name: Num_of_Loan, dtype: int64"
      ]
     },
     "execution_count": 55,
     "metadata": {},
     "output_type": "execute_result"
    }
   ],
   "source": [
    "data['Num_of_Loan'].sample(10)"
   ]
  },
  {
   "cell_type": "code",
   "execution_count": 56,
   "metadata": {},
   "outputs": [],
   "source": [
    "for i in range(3):\n",
    "    data=fill_values('Num_of_Loan',data,9)"
   ]
  },
  {
   "cell_type": "code",
   "execution_count": 57,
   "metadata": {},
   "outputs": [
    {
     "data": {
      "text/html": [
       "<div>\n",
       "<style scoped>\n",
       "    .dataframe tbody tr th:only-of-type {\n",
       "        vertical-align: middle;\n",
       "    }\n",
       "\n",
       "    .dataframe tbody tr th {\n",
       "        vertical-align: top;\n",
       "    }\n",
       "\n",
       "    .dataframe thead th {\n",
       "        text-align: right;\n",
       "    }\n",
       "</style>\n",
       "<table border=\"1\" class=\"dataframe\">\n",
       "  <thead>\n",
       "    <tr style=\"text-align: right;\">\n",
       "      <th></th>\n",
       "      <th>ID</th>\n",
       "      <th>Customer_ID</th>\n",
       "      <th>Month</th>\n",
       "      <th>Name</th>\n",
       "      <th>Age</th>\n",
       "      <th>SSN</th>\n",
       "      <th>Occupation</th>\n",
       "      <th>Annual_Income</th>\n",
       "      <th>Monthly_Inhand_Salary</th>\n",
       "      <th>Num_Bank_Accounts</th>\n",
       "      <th>...</th>\n",
       "      <th>Credit_Mix</th>\n",
       "      <th>Outstanding_Debt</th>\n",
       "      <th>Credit_Utilization_Ratio</th>\n",
       "      <th>Credit_History_Age</th>\n",
       "      <th>Payment_of_Min_Amount</th>\n",
       "      <th>Total_EMI_per_month</th>\n",
       "      <th>Amount_invested_monthly</th>\n",
       "      <th>Payment_Behaviour</th>\n",
       "      <th>Monthly_Balance</th>\n",
       "      <th>Credit_Score</th>\n",
       "    </tr>\n",
       "  </thead>\n",
       "  <tbody>\n",
       "  </tbody>\n",
       "</table>\n",
       "<p>0 rows × 28 columns</p>\n",
       "</div>"
      ],
      "text/plain": [
       "Empty DataFrame\n",
       "Columns: [ID, Customer_ID, Month, Name, Age, SSN, Occupation, Annual_Income, Monthly_Inhand_Salary, Num_Bank_Accounts, Num_Credit_Card, Interest_Rate, Num_of_Loan, Type_of_Loan, Delay_from_due_date, Num_of_Delayed_Payment, Changed_Credit_Limit, Num_Credit_Inquiries, Credit_Mix, Outstanding_Debt, Credit_Utilization_Ratio, Credit_History_Age, Payment_of_Min_Amount, Total_EMI_per_month, Amount_invested_monthly, Payment_Behaviour, Monthly_Balance, Credit_Score]\n",
       "Index: []\n",
       "\n",
       "[0 rows x 28 columns]"
      ]
     },
     "execution_count": 57,
     "metadata": {},
     "output_type": "execute_result"
    }
   ],
   "source": [
    "data[data['Num_of_Loan']>9]"
   ]
  },
  {
   "cell_type": "code",
   "execution_count": 58,
   "metadata": {},
   "outputs": [
    {
     "data": {
      "text/plain": [
       "11408"
      ]
     },
     "execution_count": 58,
     "metadata": {},
     "output_type": "execute_result"
    }
   ],
   "source": [
    "data['Type_of_Loan'].isna().sum()"
   ]
  },
  {
   "cell_type": "code",
   "execution_count": 59,
   "metadata": {},
   "outputs": [],
   "source": [
    "for index in range(len(data)):\n",
    "    if data.loc[index,'Num_of_Loan']==0:\n",
    "        data.loc[index,'Type_of_Loan']='No Loan'\n",
    "\n"
   ]
  },
  {
   "cell_type": "code",
   "execution_count": 60,
   "metadata": {},
   "outputs": [
    {
     "data": {
      "text/plain": [
       "array([ 3, -1,  5,  6,  8,  7, 13, 10,  0,  4,  9,  1, 12, 11, 30, 31, 34,\n",
       "       27, 14,  2, -2, 16, 17, 15, 23, 22, 21, 18, 19, 52, 51, 48, 53, 26,\n",
       "       43, 28, 25, 20, 47, 46, 49, 24, 61, 29, 50, 58, 45, 59, 55, 56, 57,\n",
       "       54, 62, 65, 64, 67, 36, 41, 33, 32, 39, 44, 42, 60, 35, 38, -3, 63,\n",
       "       40, 37, -5, -4, 66], dtype=int64)"
      ]
     },
     "execution_count": 60,
     "metadata": {},
     "output_type": "execute_result"
    }
   ],
   "source": [
    "data['Delay_from_due_date'].unique() #contain -ve values let's fill it w.r.t. customer id"
   ]
  },
  {
   "cell_type": "code",
   "execution_count": 61,
   "metadata": {},
   "outputs": [],
   "source": [
    "for i in range(8):\n",
    "    for index in range(len(data)):\n",
    "        current_value=data.loc[index,'Customer_ID']\n",
    "\n",
    "        next_value=data.loc[index+1,'Customer_ID'] if index < len(data)-1 else None\n",
    "        previous_value=data.loc[index-1,'Customer_ID'] if index > 0 else None\n",
    "            \n",
    "        # First check\n",
    "        if data.loc[index,'Delay_from_due_date'] <0 or data.loc[index,'Delay_from_due_date'] >24:\n",
    "            if previous_value is not None and current_value == previous_value:\n",
    "                data.loc[index,'Delay_from_due_date'] = data.loc[index-1,'Delay_from_due_date']\n",
    "            elif next_value is not None and current_value == next_value:\n",
    "                data.loc[index,'Delay_from_due_date'] = data.loc[index+1,'Delay_from_due_date']\n",
    "            \n",
    "        # Second check (Reverse Order)\n",
    "        if data.loc[index,'Delay_from_due_date']<0 or data.loc[index,'Delay_from_due_date'] >24:\n",
    "                if next_value is not None and current_value == next_value:\n",
    "                    data.loc[index,'Delay_from_due_date'] = data.loc[index+1,'Delay_from_due_date']\n",
    "                elif previous_value is not None and current_value == previous_value:\n",
    "                    data.loc[index,'Delay_from_due_date'] = data.loc[index-1,'Delay_from_due_date']"
   ]
  },
  {
   "cell_type": "code",
   "execution_count": 62,
   "metadata": {},
   "outputs": [
    {
     "data": {
      "text/plain": [
       "array([ 3,  5,  6,  8,  7, 13, 10,  0,  4,  9,  1, 12, 11, 30, 14,  2, 16,\n",
       "       17, 15, 23, 22, 21, 18, 19, 53, 26, 48, 20, 24, 52, 25, 61, 31, 28,\n",
       "       49, 27, 57, 62, 54, 50, 41, 55, 36, 46, 60, 33, 29, 44, 34, 38, 45,\n",
       "       56, 42, 47, 59, 40, 35, 32, 51, 39, 37, 43, 64, 58, 65, 67, 63, 66],\n",
       "      dtype=int64)"
      ]
     },
     "execution_count": 62,
     "metadata": {},
     "output_type": "execute_result"
    }
   ],
   "source": [
    "data['Delay_from_due_date'].unique()"
   ]
  },
  {
   "cell_type": "code",
   "execution_count": 63,
   "metadata": {},
   "outputs": [
    {
     "data": {
      "text/plain": [
       "7002"
      ]
     },
     "execution_count": 63,
     "metadata": {},
     "output_type": "execute_result"
    }
   ],
   "source": [
    "data['Num_of_Delayed_Payment'].isnull().sum()"
   ]
  },
  {
   "cell_type": "code",
   "execution_count": 64,
   "metadata": {},
   "outputs": [],
   "source": [
    "data['Num_of_Delayed_Payment']=data['Num_of_Delayed_Payment'].str.replace('_','')\n",
    "data['Num_of_Delayed_Payment']=data['Num_of_Delayed_Payment'].ffill()\n",
    "data['Num_of_Delayed_Payment']=[int(i)for i in data['Num_of_Delayed_Payment']]"
   ]
  },
  {
   "cell_type": "code",
   "execution_count": 65,
   "metadata": {},
   "outputs": [],
   "source": [
    "# for i in np.sort(data['Num_of_Delayed_Payment'].unique()):\n",
    "#     print(i)"
   ]
  },
  {
   "cell_type": "code",
   "execution_count": 66,
   "metadata": {},
   "outputs": [],
   "source": [
    "for index in range(len(data)):\n",
    "    if data.loc[index,'Num_of_Delayed_Payment'] <0:\n",
    "        data.loc[index,'Num_of_Delayed_Payment']=400"
   ]
  },
  {
   "cell_type": "code",
   "execution_count": 67,
   "metadata": {},
   "outputs": [],
   "source": [
    "for i in range(4):\n",
    "    data=fill_values('Num_of_Delayed_Payment',data,24)\n",
    "    "
   ]
  },
  {
   "cell_type": "code",
   "execution_count": 68,
   "metadata": {},
   "outputs": [
    {
     "name": "stdout",
     "output_type": "stream",
     "text": [
      "datatype is  object\n",
      "total null values are 0\n"
     ]
    }
   ],
   "source": [
    "\n",
    "print('datatype is ',data['Changed_Credit_Limit'].dtype)\n",
    "print('total null values are',data['Changed_Credit_Limit'].isnull().sum())\n",
    "# for i in data['Changed_Credit_Limit'].unique():\n",
    "#     print(i)\n"
   ]
  },
  {
   "cell_type": "code",
   "execution_count": 69,
   "metadata": {},
   "outputs": [],
   "source": [
    "data['Changed_Credit_Limit']=data['Changed_Credit_Limit'].str.replace('_','9999')\n",
    "data['Changed_Credit_Limit'] = data['Changed_Credit_Limit'].astype(float)\n",
    "data['Changed_Credit_Limit']=data['Changed_Credit_Limit'].apply(lambda x: f\"{x:.2f}\")\n",
    "data['Changed_Credit_Limit'] = data['Changed_Credit_Limit'].astype(float)"
   ]
  },
  {
   "cell_type": "code",
   "execution_count": 70,
   "metadata": {},
   "outputs": [
    {
     "data": {
      "text/plain": [
       "dtype('float64')"
      ]
     },
     "execution_count": 70,
     "metadata": {},
     "output_type": "execute_result"
    }
   ],
   "source": [
    "data['Changed_Credit_Limit'].dtype\n"
   ]
  },
  {
   "cell_type": "code",
   "execution_count": 71,
   "metadata": {},
   "outputs": [],
   "source": [
    "for index in range(len(data)):\n",
    "    if data.loc[index,'Changed_Credit_Limit'] <0.50:  #0.50 value was used by analyzing data in excel\n",
    "        data.loc[index,'Changed_Credit_Limit']=9999.0"
   ]
  },
  {
   "cell_type": "code",
   "execution_count": 72,
   "metadata": {},
   "outputs": [],
   "source": [
    "def fill_values3(column_name, data, threshold):\n",
    "    for index in range(len(data)):\n",
    "        current_value = data.loc[index, 'Customer_ID']\n",
    "\n",
    "        next_value = data.loc[index + 1, 'Customer_ID'] if index < len(data) - 1 else None\n",
    "        previous_value = data.loc[index - 1, 'Customer_ID'] if index > 0 else None\n",
    "\n",
    "        if data.loc[index, column_name] > threshold:\n",
    "            if previous_value is not None and current_value == previous_value:\n",
    "                data.loc[index, column_name] = data.loc[index - 1, column_name]\n",
    "            elif next_value is not None and current_value == next_value:\n",
    "                data.loc[index, column_name] = data.loc[index + 1, column_name]\n",
    "\n",
    "\n",
    "    return data\n",
    "\n",
    "\n"
   ]
  },
  {
   "cell_type": "code",
   "execution_count": 73,
   "metadata": {},
   "outputs": [],
   "source": [
    "for i in range(2):\n",
    "    data=fill_values('Changed_Credit_Limit',data,29.98)\n",
    "    data=fill_values3('Changed_Credit_Limit',data,29.98) #29.99 value i found by analyzing data in Excel"
   ]
  },
  {
   "cell_type": "code",
   "execution_count": 74,
   "metadata": {},
   "outputs": [],
   "source": [
    "# for i in np.sort(data['Changed_Credit_Limit'].unique()):\n",
    "#     print(i)"
   ]
  },
  {
   "cell_type": "code",
   "execution_count": 75,
   "metadata": {},
   "outputs": [
    {
     "data": {
      "text/plain": [
       "1965"
      ]
     },
     "execution_count": 75,
     "metadata": {},
     "output_type": "execute_result"
    }
   ],
   "source": [
    "data['Num_Credit_Inquiries'].isnull().sum()"
   ]
  },
  {
   "cell_type": "code",
   "execution_count": 76,
   "metadata": {},
   "outputs": [
    {
     "data": {
      "text/plain": [
       "dtype('float64')"
      ]
     },
     "execution_count": 76,
     "metadata": {},
     "output_type": "execute_result"
    }
   ],
   "source": [
    "data['Num_Credit_Inquiries'].dtype"
   ]
  },
  {
   "cell_type": "code",
   "execution_count": 77,
   "metadata": {},
   "outputs": [],
   "source": [
    "data['Num_Credit_Inquiries']=data['Num_Credit_Inquiries'].fillna(999.0)"
   ]
  },
  {
   "cell_type": "code",
   "execution_count": 78,
   "metadata": {},
   "outputs": [],
   "source": [
    "for i in range(2):\n",
    "    data=fill_values('Num_Credit_Inquiries',data,16) #16 analyzed in Excel"
   ]
  },
  {
   "cell_type": "code",
   "execution_count": 79,
   "metadata": {},
   "outputs": [
    {
     "name": "stdout",
     "output_type": "stream",
     "text": [
      "['_' 'Good' 'Standard' 'Bad']\n"
     ]
    }
   ],
   "source": [
    "print(data['Credit_Mix'].unique())\n",
    "data['Credit_Mix']=data['Credit_Mix'].str.replace('_','s')"
   ]
  },
  {
   "cell_type": "code",
   "execution_count": 80,
   "metadata": {},
   "outputs": [],
   "source": [
    "for i in range(6):\n",
    "    data=fill_values2('Credit_Mix',data,'s')"
   ]
  },
  {
   "cell_type": "code",
   "execution_count": 81,
   "metadata": {},
   "outputs": [
    {
     "data": {
      "text/plain": [
       "Credit_Mix\n",
       "Standard    45848\n",
       "Good        30384\n",
       "Bad         23768\n",
       "Name: count, dtype: int64"
      ]
     },
     "execution_count": 81,
     "metadata": {},
     "output_type": "execute_result"
    }
   ],
   "source": [
    "data['Credit_Mix'].value_counts()"
   ]
  },
  {
   "cell_type": "code",
   "execution_count": 82,
   "metadata": {},
   "outputs": [],
   "source": [
    "data['Outstanding_Debt']=data['Outstanding_Debt'].str.replace('_','')\n",
    "data['Outstanding_Debt']=data['Outstanding_Debt'].astype(float)"
   ]
  },
  {
   "cell_type": "code",
   "execution_count": 83,
   "metadata": {},
   "outputs": [
    {
     "data": {
      "text/plain": [
       "9030"
      ]
     },
     "execution_count": 83,
     "metadata": {},
     "output_type": "execute_result"
    }
   ],
   "source": [
    "data['Credit_History_Age'].isnull().sum()"
   ]
  },
  {
   "cell_type": "code",
   "execution_count": 84,
   "metadata": {},
   "outputs": [],
   "source": [
    "data['Credit_History_Age']=data['Credit_History_Age'].fillna('abc')"
   ]
  },
  {
   "cell_type": "code",
   "execution_count": 85,
   "metadata": {},
   "outputs": [],
   "source": [
    "for i in range(4):\n",
    "    data=fill_values2('Credit_History_Age',data,'abc')"
   ]
  },
  {
   "cell_type": "code",
   "execution_count": 86,
   "metadata": {},
   "outputs": [
    {
     "data": {
      "text/html": [
       "<div>\n",
       "<style scoped>\n",
       "    .dataframe tbody tr th:only-of-type {\n",
       "        vertical-align: middle;\n",
       "    }\n",
       "\n",
       "    .dataframe tbody tr th {\n",
       "        vertical-align: top;\n",
       "    }\n",
       "\n",
       "    .dataframe thead th {\n",
       "        text-align: right;\n",
       "    }\n",
       "</style>\n",
       "<table border=\"1\" class=\"dataframe\">\n",
       "  <thead>\n",
       "    <tr style=\"text-align: right;\">\n",
       "      <th></th>\n",
       "      <th>ID</th>\n",
       "      <th>Customer_ID</th>\n",
       "      <th>Month</th>\n",
       "      <th>Name</th>\n",
       "      <th>Age</th>\n",
       "      <th>SSN</th>\n",
       "      <th>Occupation</th>\n",
       "      <th>Annual_Income</th>\n",
       "      <th>Monthly_Inhand_Salary</th>\n",
       "      <th>Num_Bank_Accounts</th>\n",
       "      <th>...</th>\n",
       "      <th>Credit_Mix</th>\n",
       "      <th>Outstanding_Debt</th>\n",
       "      <th>Credit_Utilization_Ratio</th>\n",
       "      <th>Credit_History_Age</th>\n",
       "      <th>Payment_of_Min_Amount</th>\n",
       "      <th>Total_EMI_per_month</th>\n",
       "      <th>Amount_invested_monthly</th>\n",
       "      <th>Payment_Behaviour</th>\n",
       "      <th>Monthly_Balance</th>\n",
       "      <th>Credit_Score</th>\n",
       "    </tr>\n",
       "  </thead>\n",
       "  <tbody>\n",
       "  </tbody>\n",
       "</table>\n",
       "<p>0 rows × 28 columns</p>\n",
       "</div>"
      ],
      "text/plain": [
       "Empty DataFrame\n",
       "Columns: [ID, Customer_ID, Month, Name, Age, SSN, Occupation, Annual_Income, Monthly_Inhand_Salary, Num_Bank_Accounts, Num_Credit_Card, Interest_Rate, Num_of_Loan, Type_of_Loan, Delay_from_due_date, Num_of_Delayed_Payment, Changed_Credit_Limit, Num_Credit_Inquiries, Credit_Mix, Outstanding_Debt, Credit_Utilization_Ratio, Credit_History_Age, Payment_of_Min_Amount, Total_EMI_per_month, Amount_invested_monthly, Payment_Behaviour, Monthly_Balance, Credit_Score]\n",
       "Index: []\n",
       "\n",
       "[0 rows x 28 columns]"
      ]
     },
     "execution_count": 86,
     "metadata": {},
     "output_type": "execute_result"
    }
   ],
   "source": [
    "data[data['Credit_History_Age']=='abc']"
   ]
  },
  {
   "cell_type": "code",
   "execution_count": 87,
   "metadata": {},
   "outputs": [
    {
     "data": {
      "text/plain": [
       "Payment_of_Min_Amount\n",
       "Yes    52326\n",
       "No     35667\n",
       "NM     12007\n",
       "Name: count, dtype: int64"
      ]
     },
     "execution_count": 87,
     "metadata": {},
     "output_type": "execute_result"
    }
   ],
   "source": [
    "data['Payment_of_Min_Amount'].value_counts()\n",
    "#NM is the value which we have to update w.r.t. customer_ID"
   ]
  },
  {
   "cell_type": "code",
   "execution_count": 88,
   "metadata": {},
   "outputs": [
    {
     "name": "stdout",
     "output_type": "stream",
     "text": [
      "Payment_of_Min_Amount\n",
      "Yes    59432\n",
      "No     40568\n",
      "Name: count, dtype: int64\n"
     ]
    }
   ],
   "source": [
    "for i in range(5):\n",
    "    data=fill_values2('Payment_of_Min_Amount',data,'NM')\n",
    "\n",
    "print(data['Payment_of_Min_Amount'].value_counts())"
   ]
  },
  {
   "cell_type": "code",
   "execution_count": 89,
   "metadata": {},
   "outputs": [
    {
     "data": {
      "text/plain": [
       "dtype('float64')"
      ]
     },
     "execution_count": 89,
     "metadata": {},
     "output_type": "execute_result"
    }
   ],
   "source": [
    "data['Total_EMI_per_month'].dtype"
   ]
  },
  {
   "cell_type": "code",
   "execution_count": 90,
   "metadata": {},
   "outputs": [],
   "source": [
    "for i in range(4):\n",
    "    data=fill_values('Total_EMI_per_month',data,1000)"
   ]
  },
  {
   "cell_type": "code",
   "execution_count": 91,
   "metadata": {},
   "outputs": [],
   "source": [
    "for index in range(len(data)):\n",
    "    if data.loc[index,'Num_of_Loan']==0:\n",
    "        data.loc[index,'Total_EMI_per_month']=0\n"
   ]
  },
  {
   "cell_type": "code",
   "execution_count": 92,
   "metadata": {},
   "outputs": [],
   "source": [
    "data['Total_EMI_per_month']=data['Total_EMI_per_month'].apply(lambda x: f\"{x:.2f}\")\n",
    "data['Total_EMI_per_month']=data['Total_EMI_per_month'].astype(float)"
   ]
  },
  {
   "cell_type": "code",
   "execution_count": 93,
   "metadata": {},
   "outputs": [
    {
     "data": {
      "text/plain": [
       "4479"
      ]
     },
     "execution_count": 93,
     "metadata": {},
     "output_type": "execute_result"
    }
   ],
   "source": [
    "data['Amount_invested_monthly'].isna().sum()"
   ]
  },
  {
   "cell_type": "code",
   "execution_count": 94,
   "metadata": {},
   "outputs": [],
   "source": [
    "data['Amount_invested_monthly']=data['Amount_invested_monthly'].str.replace('_','')\n",
    "data['Amount_invested_monthly']=data['Amount_invested_monthly'].fillna('10000')\n",
    "data['Amount_invested_monthly']=data['Amount_invested_monthly'].astype(float)"
   ]
  },
  {
   "cell_type": "code",
   "execution_count": 95,
   "metadata": {},
   "outputs": [],
   "source": [
    "for i in range(4):\n",
    "    data=fill_values2('Amount_invested_monthly',data,10000)"
   ]
  },
  {
   "cell_type": "code",
   "execution_count": 96,
   "metadata": {},
   "outputs": [],
   "source": [
    "data['Amount_invested_monthly']=data['Amount_invested_monthly'].apply(lambda x: f\"{x:.2f}\")\n",
    "data['Amount_invested_monthly']=data['Amount_invested_monthly'].astype(float)"
   ]
  },
  {
   "cell_type": "code",
   "execution_count": 97,
   "metadata": {},
   "outputs": [
    {
     "data": {
      "text/plain": [
       "Payment_Behaviour\n",
       "Low_spent_Small_value_payments      25513\n",
       "High_spent_Medium_value_payments    17540\n",
       "Low_spent_Medium_value_payments     13861\n",
       "High_spent_Large_value_payments     13721\n",
       "High_spent_Small_value_payments     11340\n",
       "Low_spent_Large_value_payments      10425\n",
       "!@9#%8                               7600\n",
       "Name: count, dtype: int64"
      ]
     },
     "execution_count": 97,
     "metadata": {},
     "output_type": "execute_result"
    }
   ],
   "source": [
    "data['Payment_Behaviour'].value_counts()"
   ]
  },
  {
   "cell_type": "code",
   "execution_count": 98,
   "metadata": {},
   "outputs": [],
   "source": [
    "for i in range(5):\n",
    "    data=fill_values2('Payment_Behaviour',data,'!@9#%8')"
   ]
  },
  {
   "cell_type": "code",
   "execution_count": 99,
   "metadata": {},
   "outputs": [
    {
     "data": {
      "text/plain": [
       "Payment_Behaviour\n",
       "Low_spent_Small_value_payments      27588\n",
       "High_spent_Medium_value_payments    19015\n",
       "Low_spent_Medium_value_payments     15012\n",
       "High_spent_Large_value_payments     14839\n",
       "High_spent_Small_value_payments     12244\n",
       "Low_spent_Large_value_payments      11302\n",
       "Name: count, dtype: int64"
      ]
     },
     "execution_count": 99,
     "metadata": {},
     "output_type": "execute_result"
    }
   ],
   "source": [
    "data['Payment_Behaviour'].value_counts()"
   ]
  },
  {
   "cell_type": "code",
   "execution_count": 100,
   "metadata": {},
   "outputs": [],
   "source": [
    "data['Monthly_Balance']=data['Monthly_Balance'].str.replace('__-333333333333333333333333333__','abc')\n",
    "data['Monthly_Balance']=data['Monthly_Balance'].fillna('abc')"
   ]
  },
  {
   "cell_type": "code",
   "execution_count": 101,
   "metadata": {},
   "outputs": [
    {
     "data": {
      "text/html": [
       "<div>\n",
       "<style scoped>\n",
       "    .dataframe tbody tr th:only-of-type {\n",
       "        vertical-align: middle;\n",
       "    }\n",
       "\n",
       "    .dataframe tbody tr th {\n",
       "        vertical-align: top;\n",
       "    }\n",
       "\n",
       "    .dataframe thead th {\n",
       "        text-align: right;\n",
       "    }\n",
       "</style>\n",
       "<table border=\"1\" class=\"dataframe\">\n",
       "  <thead>\n",
       "    <tr style=\"text-align: right;\">\n",
       "      <th></th>\n",
       "      <th>ID</th>\n",
       "      <th>Customer_ID</th>\n",
       "      <th>Month</th>\n",
       "      <th>Name</th>\n",
       "      <th>Age</th>\n",
       "      <th>SSN</th>\n",
       "      <th>Occupation</th>\n",
       "      <th>Annual_Income</th>\n",
       "      <th>Monthly_Inhand_Salary</th>\n",
       "      <th>Num_Bank_Accounts</th>\n",
       "      <th>...</th>\n",
       "      <th>Credit_Mix</th>\n",
       "      <th>Outstanding_Debt</th>\n",
       "      <th>Credit_Utilization_Ratio</th>\n",
       "      <th>Credit_History_Age</th>\n",
       "      <th>Payment_of_Min_Amount</th>\n",
       "      <th>Total_EMI_per_month</th>\n",
       "      <th>Amount_invested_monthly</th>\n",
       "      <th>Payment_Behaviour</th>\n",
       "      <th>Monthly_Balance</th>\n",
       "      <th>Credit_Score</th>\n",
       "    </tr>\n",
       "  </thead>\n",
       "  <tbody>\n",
       "    <tr>\n",
       "      <th>197</th>\n",
       "      <td>0x1727</td>\n",
       "      <td>CUS_0xa5f9</td>\n",
       "      <td>June</td>\n",
       "      <td>Rickt</td>\n",
       "      <td>34</td>\n",
       "      <td>189095267</td>\n",
       "      <td>Mechanic</td>\n",
       "      <td>57983.12</td>\n",
       "      <td>4720.93</td>\n",
       "      <td>9</td>\n",
       "      <td>...</td>\n",
       "      <td>Bad</td>\n",
       "      <td>3532.83</td>\n",
       "      <td>35.257378</td>\n",
       "      <td>12 Years and 7 Months</td>\n",
       "      <td>Yes</td>\n",
       "      <td>200.43</td>\n",
       "      <td>626.87</td>\n",
       "      <td>Low_spent_Small_value_payments</td>\n",
       "      <td>abc</td>\n",
       "      <td>Standard</td>\n",
       "    </tr>\n",
       "    <tr>\n",
       "      <th>314</th>\n",
       "      <td>0x17d8</td>\n",
       "      <td>CUS_0x571f</td>\n",
       "      <td>March</td>\n",
       "      <td>Emily Flitterl</td>\n",
       "      <td>18</td>\n",
       "      <td>397289675</td>\n",
       "      <td>Developer</td>\n",
       "      <td>66567.32</td>\n",
       "      <td>5800.28</td>\n",
       "      <td>5</td>\n",
       "      <td>...</td>\n",
       "      <td>Standard</td>\n",
       "      <td>233.79</td>\n",
       "      <td>33.486848</td>\n",
       "      <td>24 Years and 5 Months</td>\n",
       "      <td>No</td>\n",
       "      <td>100.19</td>\n",
       "      <td>770.70</td>\n",
       "      <td>Low_spent_Small_value_payments</td>\n",
       "      <td>abc</td>\n",
       "      <td>Standard</td>\n",
       "    </tr>\n",
       "    <tr>\n",
       "      <th>388</th>\n",
       "      <td>0x1846</td>\n",
       "      <td>CUS_0x9b3c</td>\n",
       "      <td>May</td>\n",
       "      <td>Scheydere</td>\n",
       "      <td>43</td>\n",
       "      <td>224487837</td>\n",
       "      <td>Lawyer</td>\n",
       "      <td>81842.28</td>\n",
       "      <td>6810.19</td>\n",
       "      <td>10</td>\n",
       "      <td>...</td>\n",
       "      <td>Bad</td>\n",
       "      <td>3053.16</td>\n",
       "      <td>31.317433</td>\n",
       "      <td>0 Years and 8 Months</td>\n",
       "      <td>Yes</td>\n",
       "      <td>574.07</td>\n",
       "      <td>447.85</td>\n",
       "      <td>Low_spent_Medium_value_payments</td>\n",
       "      <td>abc</td>\n",
       "      <td>Standard</td>\n",
       "    </tr>\n",
       "    <tr>\n",
       "      <th>456</th>\n",
       "      <td>0x18ae</td>\n",
       "      <td>CUS_0x9d78</td>\n",
       "      <td>January</td>\n",
       "      <td>Tim Hepherp</td>\n",
       "      <td>20</td>\n",
       "      <td>423776457</td>\n",
       "      <td>Scientist</td>\n",
       "      <td>69977.60</td>\n",
       "      <td>5978.47</td>\n",
       "      <td>10</td>\n",
       "      <td>...</td>\n",
       "      <td>Bad</td>\n",
       "      <td>3042.36</td>\n",
       "      <td>37.217199</td>\n",
       "      <td>12 Years and 8 Months</td>\n",
       "      <td>Yes</td>\n",
       "      <td>485.75</td>\n",
       "      <td>405.15</td>\n",
       "      <td>Low_spent_Small_value_payments</td>\n",
       "      <td>abc</td>\n",
       "      <td>Standard</td>\n",
       "    </tr>\n",
       "    <tr>\n",
       "      <th>457</th>\n",
       "      <td>0x18af</td>\n",
       "      <td>CUS_0x9d78</td>\n",
       "      <td>February</td>\n",
       "      <td>Tim Hepherp</td>\n",
       "      <td>20</td>\n",
       "      <td>423776457</td>\n",
       "      <td>Scientist</td>\n",
       "      <td>69977.60</td>\n",
       "      <td>5978.47</td>\n",
       "      <td>10</td>\n",
       "      <td>...</td>\n",
       "      <td>Bad</td>\n",
       "      <td>3042.36</td>\n",
       "      <td>30.467836</td>\n",
       "      <td>12 Years and 9 Months</td>\n",
       "      <td>Yes</td>\n",
       "      <td>485.75</td>\n",
       "      <td>470.84</td>\n",
       "      <td>Low_spent_Large_value_payments</td>\n",
       "      <td>abc</td>\n",
       "      <td>Poor</td>\n",
       "    </tr>\n",
       "    <tr>\n",
       "      <th>...</th>\n",
       "      <td>...</td>\n",
       "      <td>...</td>\n",
       "      <td>...</td>\n",
       "      <td>...</td>\n",
       "      <td>...</td>\n",
       "      <td>...</td>\n",
       "      <td>...</td>\n",
       "      <td>...</td>\n",
       "      <td>...</td>\n",
       "      <td>...</td>\n",
       "      <td>...</td>\n",
       "      <td>...</td>\n",
       "      <td>...</td>\n",
       "      <td>...</td>\n",
       "      <td>...</td>\n",
       "      <td>...</td>\n",
       "      <td>...</td>\n",
       "      <td>...</td>\n",
       "      <td>...</td>\n",
       "      <td>...</td>\n",
       "      <td>...</td>\n",
       "    </tr>\n",
       "    <tr>\n",
       "      <th>99820</th>\n",
       "      <td>0x25ee2</td>\n",
       "      <td>CUS_0x40ad</td>\n",
       "      <td>May</td>\n",
       "      <td>Dorisw</td>\n",
       "      <td>20</td>\n",
       "      <td>715143312</td>\n",
       "      <td>Scientist</td>\n",
       "      <td>65858.48</td>\n",
       "      <td>5421.21</td>\n",
       "      <td>7</td>\n",
       "      <td>...</td>\n",
       "      <td>Standard</td>\n",
       "      <td>2344.57</td>\n",
       "      <td>39.268583</td>\n",
       "      <td>6 Years and 8 Months</td>\n",
       "      <td>Yes</td>\n",
       "      <td>261.20</td>\n",
       "      <td>623.00</td>\n",
       "      <td>Low_spent_Small_value_payments</td>\n",
       "      <td>abc</td>\n",
       "      <td>Standard</td>\n",
       "    </tr>\n",
       "    <tr>\n",
       "      <th>99839</th>\n",
       "      <td>0x25efd</td>\n",
       "      <td>CUS_0x8788</td>\n",
       "      <td>August</td>\n",
       "      <td>Sophie Sassardv</td>\n",
       "      <td>25</td>\n",
       "      <td>138387150</td>\n",
       "      <td>Musician</td>\n",
       "      <td>71025.40</td>\n",
       "      <td>5766.78</td>\n",
       "      <td>7</td>\n",
       "      <td>...</td>\n",
       "      <td>Standard</td>\n",
       "      <td>2542.42</td>\n",
       "      <td>25.571911</td>\n",
       "      <td>14 Years and 8 Months</td>\n",
       "      <td>Yes</td>\n",
       "      <td>195.21</td>\n",
       "      <td>694.44</td>\n",
       "      <td>Low_spent_Small_value_payments</td>\n",
       "      <td>abc</td>\n",
       "      <td>Standard</td>\n",
       "    </tr>\n",
       "    <tr>\n",
       "      <th>99852</th>\n",
       "      <td>0x25f12</td>\n",
       "      <td>CUS_0x3048</td>\n",
       "      <td>May</td>\n",
       "      <td>Rick Rothackeru</td>\n",
       "      <td>40</td>\n",
       "      <td>375646913</td>\n",
       "      <td>Scientist</td>\n",
       "      <td>81093.16</td>\n",
       "      <td>7017.76</td>\n",
       "      <td>10</td>\n",
       "      <td>...</td>\n",
       "      <td>Bad</td>\n",
       "      <td>4523.30</td>\n",
       "      <td>27.419316</td>\n",
       "      <td>9 Years and 9 Months</td>\n",
       "      <td>Yes</td>\n",
       "      <td>409.04</td>\n",
       "      <td>741.57</td>\n",
       "      <td>Low_spent_Small_value_payments</td>\n",
       "      <td>abc</td>\n",
       "      <td>Standard</td>\n",
       "    </tr>\n",
       "    <tr>\n",
       "      <th>99854</th>\n",
       "      <td>0x25f14</td>\n",
       "      <td>CUS_0x3048</td>\n",
       "      <td>July</td>\n",
       "      <td>Rick Rothackeru</td>\n",
       "      <td>40</td>\n",
       "      <td>375646913</td>\n",
       "      <td>Scientist</td>\n",
       "      <td>81093.16</td>\n",
       "      <td>7017.76</td>\n",
       "      <td>10</td>\n",
       "      <td>...</td>\n",
       "      <td>Bad</td>\n",
       "      <td>4523.30</td>\n",
       "      <td>21.098676</td>\n",
       "      <td>9 Years and 11 Months</td>\n",
       "      <td>Yes</td>\n",
       "      <td>409.04</td>\n",
       "      <td>656.55</td>\n",
       "      <td>Low_spent_Medium_value_payments</td>\n",
       "      <td>abc</td>\n",
       "      <td>Poor</td>\n",
       "    </tr>\n",
       "    <tr>\n",
       "      <th>99927</th>\n",
       "      <td>0x25f81</td>\n",
       "      <td>CUS_0x2654</td>\n",
       "      <td>August</td>\n",
       "      <td>enj</td>\n",
       "      <td>38</td>\n",
       "      <td>647678889</td>\n",
       "      <td>Media_Manager</td>\n",
       "      <td>139664.96</td>\n",
       "      <td>11777.75</td>\n",
       "      <td>3</td>\n",
       "      <td>...</td>\n",
       "      <td>Standard</td>\n",
       "      <td>365.66</td>\n",
       "      <td>29.735401</td>\n",
       "      <td>30 Years and 2 Months</td>\n",
       "      <td>Yes</td>\n",
       "      <td>423.73</td>\n",
       "      <td>1104.42</td>\n",
       "      <td>Low_spent_Large_value_payments</td>\n",
       "      <td>abc</td>\n",
       "      <td>Good</td>\n",
       "    </tr>\n",
       "  </tbody>\n",
       "</table>\n",
       "<p>1209 rows × 28 columns</p>\n",
       "</div>"
      ],
      "text/plain": [
       "            ID Customer_ID     Month             Name  Age        SSN  \\\n",
       "197     0x1727  CUS_0xa5f9      June            Rickt   34  189095267   \n",
       "314     0x17d8  CUS_0x571f     March   Emily Flitterl   18  397289675   \n",
       "388     0x1846  CUS_0x9b3c       May        Scheydere   43  224487837   \n",
       "456     0x18ae  CUS_0x9d78   January      Tim Hepherp   20  423776457   \n",
       "457     0x18af  CUS_0x9d78  February      Tim Hepherp   20  423776457   \n",
       "...        ...         ...       ...              ...  ...        ...   \n",
       "99820  0x25ee2  CUS_0x40ad       May           Dorisw   20  715143312   \n",
       "99839  0x25efd  CUS_0x8788    August  Sophie Sassardv   25  138387150   \n",
       "99852  0x25f12  CUS_0x3048       May  Rick Rothackeru   40  375646913   \n",
       "99854  0x25f14  CUS_0x3048      July  Rick Rothackeru   40  375646913   \n",
       "99927  0x25f81  CUS_0x2654    August              enj   38  647678889   \n",
       "\n",
       "          Occupation  Annual_Income  Monthly_Inhand_Salary  Num_Bank_Accounts  \\\n",
       "197         Mechanic       57983.12                4720.93                  9   \n",
       "314        Developer       66567.32                5800.28                  5   \n",
       "388           Lawyer       81842.28                6810.19                 10   \n",
       "456        Scientist       69977.60                5978.47                 10   \n",
       "457        Scientist       69977.60                5978.47                 10   \n",
       "...              ...            ...                    ...                ...   \n",
       "99820      Scientist       65858.48                5421.21                  7   \n",
       "99839       Musician       71025.40                5766.78                  7   \n",
       "99852      Scientist       81093.16                7017.76                 10   \n",
       "99854      Scientist       81093.16                7017.76                 10   \n",
       "99927  Media_Manager      139664.96               11777.75                  3   \n",
       "\n",
       "       ...  Credit_Mix  Outstanding_Debt  Credit_Utilization_Ratio  \\\n",
       "197    ...         Bad           3532.83                 35.257378   \n",
       "314    ...    Standard            233.79                 33.486848   \n",
       "388    ...         Bad           3053.16                 31.317433   \n",
       "456    ...         Bad           3042.36                 37.217199   \n",
       "457    ...         Bad           3042.36                 30.467836   \n",
       "...    ...         ...               ...                       ...   \n",
       "99820  ...    Standard           2344.57                 39.268583   \n",
       "99839  ...    Standard           2542.42                 25.571911   \n",
       "99852  ...         Bad           4523.30                 27.419316   \n",
       "99854  ...         Bad           4523.30                 21.098676   \n",
       "99927  ...    Standard            365.66                 29.735401   \n",
       "\n",
       "          Credit_History_Age  Payment_of_Min_Amount  Total_EMI_per_month  \\\n",
       "197    12 Years and 7 Months                    Yes               200.43   \n",
       "314    24 Years and 5 Months                     No               100.19   \n",
       "388     0 Years and 8 Months                    Yes               574.07   \n",
       "456    12 Years and 8 Months                    Yes               485.75   \n",
       "457    12 Years and 9 Months                    Yes               485.75   \n",
       "...                      ...                    ...                  ...   \n",
       "99820   6 Years and 8 Months                    Yes               261.20   \n",
       "99839  14 Years and 8 Months                    Yes               195.21   \n",
       "99852   9 Years and 9 Months                    Yes               409.04   \n",
       "99854  9 Years and 11 Months                    Yes               409.04   \n",
       "99927  30 Years and 2 Months                    Yes               423.73   \n",
       "\n",
       "       Amount_invested_monthly                Payment_Behaviour  \\\n",
       "197                     626.87   Low_spent_Small_value_payments   \n",
       "314                     770.70   Low_spent_Small_value_payments   \n",
       "388                     447.85  Low_spent_Medium_value_payments   \n",
       "456                     405.15   Low_spent_Small_value_payments   \n",
       "457                     470.84   Low_spent_Large_value_payments   \n",
       "...                        ...                              ...   \n",
       "99820                   623.00   Low_spent_Small_value_payments   \n",
       "99839                   694.44   Low_spent_Small_value_payments   \n",
       "99852                   741.57   Low_spent_Small_value_payments   \n",
       "99854                   656.55  Low_spent_Medium_value_payments   \n",
       "99927                  1104.42   Low_spent_Large_value_payments   \n",
       "\n",
       "      Monthly_Balance  Credit_Score  \n",
       "197               abc      Standard  \n",
       "314               abc      Standard  \n",
       "388               abc      Standard  \n",
       "456               abc      Standard  \n",
       "457               abc          Poor  \n",
       "...               ...           ...  \n",
       "99820             abc      Standard  \n",
       "99839             abc      Standard  \n",
       "99852             abc      Standard  \n",
       "99854             abc          Poor  \n",
       "99927             abc          Good  \n",
       "\n",
       "[1209 rows x 28 columns]"
      ]
     },
     "execution_count": 101,
     "metadata": {},
     "output_type": "execute_result"
    }
   ],
   "source": [
    "data[data['Monthly_Balance']=='abc']"
   ]
  },
  {
   "cell_type": "code",
   "execution_count": 102,
   "metadata": {},
   "outputs": [],
   "source": [
    "for i in range(3):\n",
    "    data=fill_values2('Monthly_Balance',data,'abc')\n",
    "\n"
   ]
  },
  {
   "cell_type": "code",
   "execution_count": 103,
   "metadata": {},
   "outputs": [],
   "source": [
    "data['Monthly_Balance']=data['Monthly_Balance'].astype(float)\n",
    "data['Monthly_Balance']=data['Monthly_Balance'].apply(lambda x: f\"{x:.2f}\")\n",
    "data['Monthly_Balance']=data['Monthly_Balance'].astype(float)"
   ]
  },
  {
   "cell_type": "code",
   "execution_count": 104,
   "metadata": {},
   "outputs": [
    {
     "data": {
      "text/html": [
       "<div>\n",
       "<style scoped>\n",
       "    .dataframe tbody tr th:only-of-type {\n",
       "        vertical-align: middle;\n",
       "    }\n",
       "\n",
       "    .dataframe tbody tr th {\n",
       "        vertical-align: top;\n",
       "    }\n",
       "\n",
       "    .dataframe thead th {\n",
       "        text-align: right;\n",
       "    }\n",
       "</style>\n",
       "<table border=\"1\" class=\"dataframe\">\n",
       "  <thead>\n",
       "    <tr style=\"text-align: right;\">\n",
       "      <th></th>\n",
       "      <th>ID</th>\n",
       "      <th>Customer_ID</th>\n",
       "      <th>Month</th>\n",
       "      <th>Name</th>\n",
       "      <th>Age</th>\n",
       "      <th>SSN</th>\n",
       "      <th>Occupation</th>\n",
       "      <th>Annual_Income</th>\n",
       "      <th>Monthly_Inhand_Salary</th>\n",
       "      <th>Num_Bank_Accounts</th>\n",
       "      <th>...</th>\n",
       "      <th>Credit_Mix</th>\n",
       "      <th>Outstanding_Debt</th>\n",
       "      <th>Credit_Utilization_Ratio</th>\n",
       "      <th>Credit_History_Age</th>\n",
       "      <th>Payment_of_Min_Amount</th>\n",
       "      <th>Total_EMI_per_month</th>\n",
       "      <th>Amount_invested_monthly</th>\n",
       "      <th>Payment_Behaviour</th>\n",
       "      <th>Monthly_Balance</th>\n",
       "      <th>Credit_Score</th>\n",
       "    </tr>\n",
       "  </thead>\n",
       "  <tbody>\n",
       "  </tbody>\n",
       "</table>\n",
       "<p>0 rows × 28 columns</p>\n",
       "</div>"
      ],
      "text/plain": [
       "Empty DataFrame\n",
       "Columns: [ID, Customer_ID, Month, Name, Age, SSN, Occupation, Annual_Income, Monthly_Inhand_Salary, Num_Bank_Accounts, Num_Credit_Card, Interest_Rate, Num_of_Loan, Type_of_Loan, Delay_from_due_date, Num_of_Delayed_Payment, Changed_Credit_Limit, Num_Credit_Inquiries, Credit_Mix, Outstanding_Debt, Credit_Utilization_Ratio, Credit_History_Age, Payment_of_Min_Amount, Total_EMI_per_month, Amount_invested_monthly, Payment_Behaviour, Monthly_Balance, Credit_Score]\n",
       "Index: []\n",
       "\n",
       "[0 rows x 28 columns]"
      ]
     },
     "execution_count": 104,
     "metadata": {},
     "output_type": "execute_result"
    }
   ],
   "source": [
    "data[data['Monthly_Balance']=='abc']"
   ]
  },
  {
   "cell_type": "code",
   "execution_count": 105,
   "metadata": {},
   "outputs": [],
   "source": [
    "data['Credit_Utilization_Ratio']=data['Credit_Utilization_Ratio'].apply(lambda x: f\"{x:.2f}\")\n",
    "data['Credit_Utilization_Ratio']=data['Credit_Utilization_Ratio'].astype(float)"
   ]
  },
  {
   "cell_type": "code",
   "execution_count": 106,
   "metadata": {},
   "outputs": [],
   "source": [
    "# data['Credit_Utilization_Ratio']"
   ]
  },
  {
   "cell_type": "code",
   "execution_count": 107,
   "metadata": {},
   "outputs": [
    {
     "name": "stdout",
     "output_type": "stream",
     "text": [
      "<class 'pandas.core.frame.DataFrame'>\n",
      "RangeIndex: 100000 entries, 0 to 99999\n",
      "Data columns (total 28 columns):\n",
      " #   Column                    Non-Null Count   Dtype  \n",
      "---  ------                    --------------   -----  \n",
      " 0   ID                        100000 non-null  object \n",
      " 1   Customer_ID               100000 non-null  object \n",
      " 2   Month                     100000 non-null  object \n",
      " 3   Name                      90015 non-null   object \n",
      " 4   Age                       100000 non-null  int64  \n",
      " 5   SSN                       100000 non-null  int64  \n",
      " 6   Occupation                100000 non-null  object \n",
      " 7   Annual_Income             100000 non-null  float64\n",
      " 8   Monthly_Inhand_Salary     100000 non-null  float64\n",
      " 9   Num_Bank_Accounts         100000 non-null  int64  \n",
      " 10  Num_Credit_Card           100000 non-null  int64  \n",
      " 11  Interest_Rate             100000 non-null  int64  \n",
      " 12  Num_of_Loan               100000 non-null  int64  \n",
      " 13  Type_of_Loan              100000 non-null  object \n",
      " 14  Delay_from_due_date       100000 non-null  int64  \n",
      " 15  Num_of_Delayed_Payment    100000 non-null  int64  \n",
      " 16  Changed_Credit_Limit      100000 non-null  float64\n",
      " 17  Num_Credit_Inquiries      100000 non-null  float64\n",
      " 18  Credit_Mix                100000 non-null  object \n",
      " 19  Outstanding_Debt          100000 non-null  float64\n",
      " 20  Credit_Utilization_Ratio  100000 non-null  float64\n",
      " 21  Credit_History_Age        100000 non-null  object \n",
      " 22  Payment_of_Min_Amount     100000 non-null  object \n",
      " 23  Total_EMI_per_month       100000 non-null  float64\n",
      " 24  Amount_invested_monthly   100000 non-null  float64\n",
      " 25  Payment_Behaviour         100000 non-null  object \n",
      " 26  Monthly_Balance           100000 non-null  float64\n",
      " 27  Credit_Score              100000 non-null  object \n",
      "dtypes: float64(9), int64(8), object(11)\n",
      "memory usage: 21.4+ MB\n"
     ]
    }
   ],
   "source": [
    "data.info()"
   ]
  },
  {
   "cell_type": "code",
   "execution_count": 108,
   "metadata": {},
   "outputs": [],
   "source": [
    "def get_mode(series):\n",
    "    mode = series.mode()\n",
    "    return mode[0] if not mode.empty else None\n",
    "\n",
    "\n",
    "clean_train = data.groupby(['Customer_ID']).agg({ \n",
    "    'Age':'mean',\n",
    "    'SSN':'first', \n",
    "    'Occupation':'first',\n",
    "    'Annual_Income':'mean',\n",
    "    'Monthly_Inhand_Salary':'mean',\n",
    "    'Num_Bank_Accounts':'first',\n",
    "    'Num_Credit_Card':'first',\n",
    "    'Interest_Rate':'mean',\n",
    "    'Num_of_Loan':'first',\n",
    "    'Type_of_Loan':'first',\n",
    "    'Delay_from_due_date':'mean',\n",
    "    'Num_of_Delayed_Payment':'mean',\n",
    "    'Changed_Credit_Limit':'mean',\n",
    "    'Num_Credit_Inquiries':'mean', \n",
    "    'Credit_Mix':'first',\n",
    "    'Outstanding_Debt':'mean',\n",
    "    'Credit_Utilization_Ratio':'mean',\n",
    "    'Credit_History_Age':'first',\n",
    "    'Payment_of_Min_Amount':'first',\n",
    "    'Total_EMI_per_month':'mean',\n",
    "    'Amount_invested_monthly':'mean',\n",
    "    'Payment_Behaviour':'first',\n",
    "    'Monthly_Balance':'mean',\n",
    "    'Credit_Score':get_mode\n",
    "    }).reset_index()"
   ]
  },
  {
   "cell_type": "code",
   "execution_count": 109,
   "metadata": {},
   "outputs": [
    {
     "data": {
      "text/html": [
       "<div>\n",
       "<style scoped>\n",
       "    .dataframe tbody tr th:only-of-type {\n",
       "        vertical-align: middle;\n",
       "    }\n",
       "\n",
       "    .dataframe tbody tr th {\n",
       "        vertical-align: top;\n",
       "    }\n",
       "\n",
       "    .dataframe thead th {\n",
       "        text-align: right;\n",
       "    }\n",
       "</style>\n",
       "<table border=\"1\" class=\"dataframe\">\n",
       "  <thead>\n",
       "    <tr style=\"text-align: right;\">\n",
       "      <th></th>\n",
       "      <th>Customer_ID</th>\n",
       "      <th>Age</th>\n",
       "      <th>SSN</th>\n",
       "      <th>Occupation</th>\n",
       "      <th>Annual_Income</th>\n",
       "      <th>Monthly_Inhand_Salary</th>\n",
       "      <th>Num_Bank_Accounts</th>\n",
       "      <th>Num_Credit_Card</th>\n",
       "      <th>Interest_Rate</th>\n",
       "      <th>Num_of_Loan</th>\n",
       "      <th>...</th>\n",
       "      <th>Credit_Mix</th>\n",
       "      <th>Outstanding_Debt</th>\n",
       "      <th>Credit_Utilization_Ratio</th>\n",
       "      <th>Credit_History_Age</th>\n",
       "      <th>Payment_of_Min_Amount</th>\n",
       "      <th>Total_EMI_per_month</th>\n",
       "      <th>Amount_invested_monthly</th>\n",
       "      <th>Payment_Behaviour</th>\n",
       "      <th>Monthly_Balance</th>\n",
       "      <th>Credit_Score</th>\n",
       "    </tr>\n",
       "  </thead>\n",
       "  <tbody>\n",
       "    <tr>\n",
       "      <th>0</th>\n",
       "      <td>CUS_0x1000</td>\n",
       "      <td>17.375</td>\n",
       "      <td>913741218</td>\n",
       "      <td>Lawyer</td>\n",
       "      <td>3.062594e+04</td>\n",
       "      <td>2706.16</td>\n",
       "      <td>6</td>\n",
       "      <td>5</td>\n",
       "      <td>27.0</td>\n",
       "      <td>2</td>\n",
       "      <td>...</td>\n",
       "      <td>Bad</td>\n",
       "      <td>1562.91</td>\n",
       "      <td>33.47750</td>\n",
       "      <td>10 Years and 2 Months</td>\n",
       "      <td>Yes</td>\n",
       "      <td>42.94</td>\n",
       "      <td>158.54875</td>\n",
       "      <td>Low_spent_Large_value_payments</td>\n",
       "      <td>335.37500</td>\n",
       "      <td>Poor</td>\n",
       "    </tr>\n",
       "    <tr>\n",
       "      <th>1</th>\n",
       "      <td>CUS_0x1009</td>\n",
       "      <td>25.750</td>\n",
       "      <td>63676938</td>\n",
       "      <td>Mechanic</td>\n",
       "      <td>5.231268e+04</td>\n",
       "      <td>4250.39</td>\n",
       "      <td>6</td>\n",
       "      <td>5</td>\n",
       "      <td>17.0</td>\n",
       "      <td>4</td>\n",
       "      <td>...</td>\n",
       "      <td>Standard</td>\n",
       "      <td>202.68</td>\n",
       "      <td>29.84000</td>\n",
       "      <td>30 Years and 5 Months</td>\n",
       "      <td>Yes</td>\n",
       "      <td>108.37</td>\n",
       "      <td>146.67875</td>\n",
       "      <td>Low_spent_Medium_value_payments</td>\n",
       "      <td>428.74250</td>\n",
       "      <td>Standard</td>\n",
       "    </tr>\n",
       "    <tr>\n",
       "      <th>2</th>\n",
       "      <td>CUS_0x100b</td>\n",
       "      <td>18.500</td>\n",
       "      <td>238620395</td>\n",
       "      <td>Media_Manager</td>\n",
       "      <td>1.137814e+05</td>\n",
       "      <td>9549.78</td>\n",
       "      <td>1</td>\n",
       "      <td>4</td>\n",
       "      <td>1.0</td>\n",
       "      <td>0</td>\n",
       "      <td>...</td>\n",
       "      <td>Good</td>\n",
       "      <td>1030.20</td>\n",
       "      <td>34.84250</td>\n",
       "      <td>15 Years and 3 Months</td>\n",
       "      <td>No</td>\n",
       "      <td>0.00</td>\n",
       "      <td>544.44375</td>\n",
       "      <td>Low_spent_Medium_value_payments</td>\n",
       "      <td>781.23125</td>\n",
       "      <td>Poor</td>\n",
       "    </tr>\n",
       "    <tr>\n",
       "      <th>3</th>\n",
       "      <td>CUS_0x1011</td>\n",
       "      <td>43.875</td>\n",
       "      <td>793058223</td>\n",
       "      <td>Doctor</td>\n",
       "      <td>5.891847e+04</td>\n",
       "      <td>5208.87</td>\n",
       "      <td>3</td>\n",
       "      <td>3</td>\n",
       "      <td>17.0</td>\n",
       "      <td>3</td>\n",
       "      <td>...</td>\n",
       "      <td>Standard</td>\n",
       "      <td>473.14</td>\n",
       "      <td>27.65625</td>\n",
       "      <td>15 Years and 3 Months</td>\n",
       "      <td>Yes</td>\n",
       "      <td>123.43</td>\n",
       "      <td>281.08250</td>\n",
       "      <td>High_spent_Large_value_payments</td>\n",
       "      <td>332.64250</td>\n",
       "      <td>Standard</td>\n",
       "    </tr>\n",
       "    <tr>\n",
       "      <th>4</th>\n",
       "      <td>CUS_0x1013</td>\n",
       "      <td>43.750</td>\n",
       "      <td>930499615</td>\n",
       "      <td>Mechanic</td>\n",
       "      <td>9.862098e+04</td>\n",
       "      <td>7962.42</td>\n",
       "      <td>3</td>\n",
       "      <td>3</td>\n",
       "      <td>6.0</td>\n",
       "      <td>3</td>\n",
       "      <td>...</td>\n",
       "      <td>Good</td>\n",
       "      <td>1233.51</td>\n",
       "      <td>31.93375</td>\n",
       "      <td>17 Years and 3 Months</td>\n",
       "      <td>No</td>\n",
       "      <td>228.02</td>\n",
       "      <td>355.44125</td>\n",
       "      <td>High_spent_Medium_value_payments</td>\n",
       "      <td>472.78125</td>\n",
       "      <td>Standard</td>\n",
       "    </tr>\n",
       "    <tr>\n",
       "      <th>5</th>\n",
       "      <td>CUS_0x1015</td>\n",
       "      <td>27.000</td>\n",
       "      <td>810977024</td>\n",
       "      <td>Journalist</td>\n",
       "      <td>4.695102e+04</td>\n",
       "      <td>3725.59</td>\n",
       "      <td>7</td>\n",
       "      <td>4</td>\n",
       "      <td>16.0</td>\n",
       "      <td>0</td>\n",
       "      <td>...</td>\n",
       "      <td>Standard</td>\n",
       "      <td>340.22</td>\n",
       "      <td>35.18125</td>\n",
       "      <td>20 Years and 10 Months</td>\n",
       "      <td>Yes</td>\n",
       "      <td>0.00</td>\n",
       "      <td>267.56875</td>\n",
       "      <td>Low_spent_Medium_value_payments</td>\n",
       "      <td>398.21875</td>\n",
       "      <td>Good</td>\n",
       "    </tr>\n",
       "    <tr>\n",
       "      <th>6</th>\n",
       "      <td>CUS_0x1018</td>\n",
       "      <td>15.000</td>\n",
       "      <td>731198119</td>\n",
       "      <td>Accountant</td>\n",
       "      <td>2.193231e+06</td>\n",
       "      <td>5014.57</td>\n",
       "      <td>7</td>\n",
       "      <td>7</td>\n",
       "      <td>23.0</td>\n",
       "      <td>8</td>\n",
       "      <td>...</td>\n",
       "      <td>Bad</td>\n",
       "      <td>2773.09</td>\n",
       "      <td>28.29375</td>\n",
       "      <td>13 Years and 8 Months</td>\n",
       "      <td>Yes</td>\n",
       "      <td>225.37</td>\n",
       "      <td>209.62500</td>\n",
       "      <td>Low_spent_Small_value_payments</td>\n",
       "      <td>333.96250</td>\n",
       "      <td>Poor</td>\n",
       "    </tr>\n",
       "    <tr>\n",
       "      <th>7</th>\n",
       "      <td>CUS_0x1026</td>\n",
       "      <td>51.500</td>\n",
       "      <td>500629044</td>\n",
       "      <td>Manager</td>\n",
       "      <td>1.706143e+05</td>\n",
       "      <td>14463.86</td>\n",
       "      <td>2</td>\n",
       "      <td>6</td>\n",
       "      <td>9.0</td>\n",
       "      <td>2</td>\n",
       "      <td>...</td>\n",
       "      <td>Good</td>\n",
       "      <td>849.69</td>\n",
       "      <td>37.18875</td>\n",
       "      <td>20 Years and 1 Months</td>\n",
       "      <td>No</td>\n",
       "      <td>208.91</td>\n",
       "      <td>351.33125</td>\n",
       "      <td>High_spent_Large_value_payments</td>\n",
       "      <td>1170.60625</td>\n",
       "      <td>Standard</td>\n",
       "    </tr>\n",
       "    <tr>\n",
       "      <th>8</th>\n",
       "      <td>CUS_0x102d</td>\n",
       "      <td>30.375</td>\n",
       "      <td>692717552</td>\n",
       "      <td>Entrepreneur</td>\n",
       "      <td>8.906452e+04</td>\n",
       "      <td>7256.04</td>\n",
       "      <td>5</td>\n",
       "      <td>3</td>\n",
       "      <td>1.0</td>\n",
       "      <td>1</td>\n",
       "      <td>...</td>\n",
       "      <td>Good</td>\n",
       "      <td>648.36</td>\n",
       "      <td>33.92750</td>\n",
       "      <td>29 Years and 8 Months</td>\n",
       "      <td>No</td>\n",
       "      <td>37.57</td>\n",
       "      <td>384.92000</td>\n",
       "      <td>Low_spent_Medium_value_payments</td>\n",
       "      <td>573.11125</td>\n",
       "      <td>Good</td>\n",
       "    </tr>\n",
       "    <tr>\n",
       "      <th>9</th>\n",
       "      <td>CUS_0x102e</td>\n",
       "      <td>25.750</td>\n",
       "      <td>352234930</td>\n",
       "      <td>Scientist</td>\n",
       "      <td>5.080744e+04</td>\n",
       "      <td>4197.95</td>\n",
       "      <td>8</td>\n",
       "      <td>4</td>\n",
       "      <td>11.0</td>\n",
       "      <td>4</td>\n",
       "      <td>...</td>\n",
       "      <td>Standard</td>\n",
       "      <td>869.59</td>\n",
       "      <td>34.27375</td>\n",
       "      <td>22 Years and 4 Months</td>\n",
       "      <td>Yes</td>\n",
       "      <td>88.76</td>\n",
       "      <td>112.06750</td>\n",
       "      <td>High_spent_Large_value_payments</td>\n",
       "      <td>473.96750</td>\n",
       "      <td>Standard</td>\n",
       "    </tr>\n",
       "  </tbody>\n",
       "</table>\n",
       "<p>10 rows × 25 columns</p>\n",
       "</div>"
      ],
      "text/plain": [
       "  Customer_ID     Age        SSN     Occupation  Annual_Income  \\\n",
       "0  CUS_0x1000  17.375  913741218         Lawyer   3.062594e+04   \n",
       "1  CUS_0x1009  25.750   63676938       Mechanic   5.231268e+04   \n",
       "2  CUS_0x100b  18.500  238620395  Media_Manager   1.137814e+05   \n",
       "3  CUS_0x1011  43.875  793058223         Doctor   5.891847e+04   \n",
       "4  CUS_0x1013  43.750  930499615       Mechanic   9.862098e+04   \n",
       "5  CUS_0x1015  27.000  810977024     Journalist   4.695102e+04   \n",
       "6  CUS_0x1018  15.000  731198119     Accountant   2.193231e+06   \n",
       "7  CUS_0x1026  51.500  500629044        Manager   1.706143e+05   \n",
       "8  CUS_0x102d  30.375  692717552   Entrepreneur   8.906452e+04   \n",
       "9  CUS_0x102e  25.750  352234930      Scientist   5.080744e+04   \n",
       "\n",
       "   Monthly_Inhand_Salary  Num_Bank_Accounts  Num_Credit_Card  Interest_Rate  \\\n",
       "0                2706.16                  6                5           27.0   \n",
       "1                4250.39                  6                5           17.0   \n",
       "2                9549.78                  1                4            1.0   \n",
       "3                5208.87                  3                3           17.0   \n",
       "4                7962.42                  3                3            6.0   \n",
       "5                3725.59                  7                4           16.0   \n",
       "6                5014.57                  7                7           23.0   \n",
       "7               14463.86                  2                6            9.0   \n",
       "8                7256.04                  5                3            1.0   \n",
       "9                4197.95                  8                4           11.0   \n",
       "\n",
       "   Num_of_Loan  ... Credit_Mix  Outstanding_Debt  Credit_Utilization_Ratio  \\\n",
       "0            2  ...        Bad           1562.91                  33.47750   \n",
       "1            4  ...   Standard            202.68                  29.84000   \n",
       "2            0  ...       Good           1030.20                  34.84250   \n",
       "3            3  ...   Standard            473.14                  27.65625   \n",
       "4            3  ...       Good           1233.51                  31.93375   \n",
       "5            0  ...   Standard            340.22                  35.18125   \n",
       "6            8  ...        Bad           2773.09                  28.29375   \n",
       "7            2  ...       Good            849.69                  37.18875   \n",
       "8            1  ...       Good            648.36                  33.92750   \n",
       "9            4  ...   Standard            869.59                  34.27375   \n",
       "\n",
       "       Credit_History_Age  Payment_of_Min_Amount Total_EMI_per_month  \\\n",
       "0   10 Years and 2 Months                    Yes               42.94   \n",
       "1   30 Years and 5 Months                    Yes              108.37   \n",
       "2   15 Years and 3 Months                     No                0.00   \n",
       "3   15 Years and 3 Months                    Yes              123.43   \n",
       "4   17 Years and 3 Months                     No              228.02   \n",
       "5  20 Years and 10 Months                    Yes                0.00   \n",
       "6   13 Years and 8 Months                    Yes              225.37   \n",
       "7   20 Years and 1 Months                     No              208.91   \n",
       "8   29 Years and 8 Months                     No               37.57   \n",
       "9   22 Years and 4 Months                    Yes               88.76   \n",
       "\n",
       "   Amount_invested_monthly                 Payment_Behaviour Monthly_Balance  \\\n",
       "0                158.54875    Low_spent_Large_value_payments       335.37500   \n",
       "1                146.67875   Low_spent_Medium_value_payments       428.74250   \n",
       "2                544.44375   Low_spent_Medium_value_payments       781.23125   \n",
       "3                281.08250   High_spent_Large_value_payments       332.64250   \n",
       "4                355.44125  High_spent_Medium_value_payments       472.78125   \n",
       "5                267.56875   Low_spent_Medium_value_payments       398.21875   \n",
       "6                209.62500    Low_spent_Small_value_payments       333.96250   \n",
       "7                351.33125   High_spent_Large_value_payments      1170.60625   \n",
       "8                384.92000   Low_spent_Medium_value_payments       573.11125   \n",
       "9                112.06750   High_spent_Large_value_payments       473.96750   \n",
       "\n",
       "  Credit_Score  \n",
       "0         Poor  \n",
       "1     Standard  \n",
       "2         Poor  \n",
       "3     Standard  \n",
       "4     Standard  \n",
       "5         Good  \n",
       "6         Poor  \n",
       "7     Standard  \n",
       "8         Good  \n",
       "9     Standard  \n",
       "\n",
       "[10 rows x 25 columns]"
      ]
     },
     "execution_count": 109,
     "metadata": {},
     "output_type": "execute_result"
    }
   ],
   "source": [
    "clean_train.head(10)"
   ]
  },
  {
   "cell_type": "code",
   "execution_count": 110,
   "metadata": {},
   "outputs": [
    {
     "data": {
      "text/plain": [
       "(12500, 25)"
      ]
     },
     "execution_count": 110,
     "metadata": {},
     "output_type": "execute_result"
    }
   ],
   "source": [
    "clean_train.shape"
   ]
  },
  {
   "cell_type": "code",
   "execution_count": 111,
   "metadata": {},
   "outputs": [],
   "source": [
    "file_path = r'C:\\\\Users\\\\amanc\\Desktop\\\\python new project\\\\Machine Learning\\\\Credit Score Classification\\\\data\\\\clean_train.csv'\n",
    "data.to_csv(file_path)"
   ]
  },
  {
   "cell_type": "code",
   "execution_count": null,
   "metadata": {},
   "outputs": [],
   "source": []
  }
 ],
 "metadata": {
  "kernelspec": {
   "display_name": "tf-cpu",
   "language": "python",
   "name": "python3"
  },
  "language_info": {
   "codemirror_mode": {
    "name": "ipython",
    "version": 3
   },
   "file_extension": ".py",
   "mimetype": "text/x-python",
   "name": "python",
   "nbconvert_exporter": "python",
   "pygments_lexer": "ipython3",
   "version": "3.12.3"
  }
 },
 "nbformat": 4,
 "nbformat_minor": 2
}
